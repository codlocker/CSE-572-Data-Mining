{
 "cells": [
  {
   "cell_type": "code",
   "execution_count": 128,
   "id": "e3a33703",
   "metadata": {
    "_cell_guid": "5767a33c-8f18-4034-e52d-bf7a8f7d8ab8",
    "_uuid": "847a9b3972a6be2d2f3346ff01fea976d92ecdb6"
   },
   "outputs": [],
   "source": [
    "# data analysis and wrangling\n",
    "import pandas as pd\n",
    "import numpy as np\n",
    "import random as rnd\n",
    "\n",
    "# visualization\n",
    "import seaborn as sns\n",
    "import matplotlib.pyplot as plt\n",
    "%matplotlib inline\n",
    "\n",
    "# machine learning\n",
    "from sklearn.ensemble import RandomForestClassifier\n",
    "from sklearn.model_selection import cross_val_score\n",
    "from sklearn.tree import DecisionTreeClassifier\n",
    "from sklearn.tree import plot_tree"
   ]
  },
  {
   "cell_type": "markdown",
   "id": "cfac3cec",
   "metadata": {
    "_cell_guid": "6b5dc743-15b1-aac6-405e-081def6ecca1",
    "_uuid": "2d307b99ee3d19da3c1cddf509ed179c21dec94a"
   },
   "source": [
    "## Q1(a) Data Preprocessing : Acquire data\n",
    "\n",
    "The Python Pandas packages helps us work with our datasets. We start by acquiring the training and testing datasets into Pandas DataFrames. We also combine these datasets to run certain operations on both datasets together."
   ]
  },
  {
   "cell_type": "code",
   "execution_count": 129,
   "id": "e4b5e25d",
   "metadata": {
    "_cell_guid": "e7319668-86fe-8adc-438d-0eef3fd0a982",
    "_uuid": "13f38775c12ad6f914254a08f0d1ef948a2bd453"
   },
   "outputs": [],
   "source": [
    "train_df = pd.read_csv('./datasets/Titanic/train.csv')\n",
    "test_df = pd.read_csv('./datasets/Titanic/test.csv')\n",
    "combine = [train_df, test_df]"
   ]
  },
  {
   "cell_type": "markdown",
   "id": "e8777d80",
   "metadata": {
    "_cell_guid": "3d6188f3-dc82-8ae6-dabd-83e28fcbf10d",
    "_uuid": "79282222056237a52bbbb1dbd831f057f1c23d69"
   },
   "source": [
    "## Analyze by describing data\n",
    "\n",
    "Pandas also helps describe the datasets answering following questions early in our project.\n",
    "\n",
    "**Which features are available in the dataset?**\n",
    "\n",
    "Noting the feature names for directly manipulating or analyzing these. These feature names are described on the [Kaggle data page here](https://www.kaggle.com/c/titanic/data)."
   ]
  },
  {
   "cell_type": "code",
   "execution_count": 130,
   "id": "d222f364",
   "metadata": {
    "_cell_guid": "ce473d29-8d19-76b8-24a4-48c217286e42",
    "_uuid": "ef106f38a00e162a80c523778af6dcc778ccc1c2"
   },
   "outputs": [
    {
     "name": "stdout",
     "output_type": "stream",
     "text": [
      "['PassengerId' 'Survived' 'Pclass' 'Name' 'Sex' 'Age' 'SibSp' 'Parch'\n",
      " 'Ticket' 'Fare' 'Cabin' 'Embarked']\n"
     ]
    }
   ],
   "source": [
    "print(train_df.columns.values)"
   ]
  },
  {
   "cell_type": "markdown",
   "id": "5f690f4b",
   "metadata": {
    "_cell_guid": "cd19a6f6-347f-be19-607b-dca950590b37",
    "_uuid": "1d7acf42af29a63bc038f14eded24e8b8146f541"
   },
   "source": [
    "**Which features are categorical?**\n",
    "\n",
    "These values classify the samples into sets of similar samples. Within categorical features are the values nominal, ordinal, ratio, or interval based? Among other things this helps us select the appropriate plots for visualization.\n",
    "\n",
    "- Categorical: Survived, Sex, and Embarked. Ordinal: Pclass.\n",
    "\n",
    "**Which features are numerical?**\n",
    "\n",
    "Which features are numerical? These values change from sample to sample. Within numerical features are the values discrete, continuous, or timeseries based? Among other things this helps us select the appropriate plots for visualization.\n",
    "\n",
    "- Continous: Age, Fare. Discrete: SibSp, Parch."
   ]
  },
  {
   "cell_type": "code",
   "execution_count": 131,
   "id": "31189661",
   "metadata": {
    "_cell_guid": "8d7ac195-ac1a-30a4-3f3f-80b8cf2c1c0f",
    "_uuid": "e068cd3a0465b65a0930a100cb348b9146d5fd2f"
   },
   "outputs": [
    {
     "data": {
      "text/html": [
       "<div>\n",
       "<style scoped>\n",
       "    .dataframe tbody tr th:only-of-type {\n",
       "        vertical-align: middle;\n",
       "    }\n",
       "\n",
       "    .dataframe tbody tr th {\n",
       "        vertical-align: top;\n",
       "    }\n",
       "\n",
       "    .dataframe thead th {\n",
       "        text-align: right;\n",
       "    }\n",
       "</style>\n",
       "<table border=\"1\" class=\"dataframe\">\n",
       "  <thead>\n",
       "    <tr style=\"text-align: right;\">\n",
       "      <th></th>\n",
       "      <th>PassengerId</th>\n",
       "      <th>Survived</th>\n",
       "      <th>Pclass</th>\n",
       "      <th>Name</th>\n",
       "      <th>Sex</th>\n",
       "      <th>Age</th>\n",
       "      <th>SibSp</th>\n",
       "      <th>Parch</th>\n",
       "      <th>Ticket</th>\n",
       "      <th>Fare</th>\n",
       "      <th>Cabin</th>\n",
       "      <th>Embarked</th>\n",
       "    </tr>\n",
       "  </thead>\n",
       "  <tbody>\n",
       "    <tr>\n",
       "      <th>0</th>\n",
       "      <td>1</td>\n",
       "      <td>0</td>\n",
       "      <td>3</td>\n",
       "      <td>Braund, Mr. Owen Harris</td>\n",
       "      <td>male</td>\n",
       "      <td>22.0</td>\n",
       "      <td>1</td>\n",
       "      <td>0</td>\n",
       "      <td>A/5 21171</td>\n",
       "      <td>7.2500</td>\n",
       "      <td>NaN</td>\n",
       "      <td>S</td>\n",
       "    </tr>\n",
       "    <tr>\n",
       "      <th>1</th>\n",
       "      <td>2</td>\n",
       "      <td>1</td>\n",
       "      <td>1</td>\n",
       "      <td>Cumings, Mrs. John Bradley (Florence Briggs Th...</td>\n",
       "      <td>female</td>\n",
       "      <td>38.0</td>\n",
       "      <td>1</td>\n",
       "      <td>0</td>\n",
       "      <td>PC 17599</td>\n",
       "      <td>71.2833</td>\n",
       "      <td>C85</td>\n",
       "      <td>C</td>\n",
       "    </tr>\n",
       "    <tr>\n",
       "      <th>2</th>\n",
       "      <td>3</td>\n",
       "      <td>1</td>\n",
       "      <td>3</td>\n",
       "      <td>Heikkinen, Miss. Laina</td>\n",
       "      <td>female</td>\n",
       "      <td>26.0</td>\n",
       "      <td>0</td>\n",
       "      <td>0</td>\n",
       "      <td>STON/O2. 3101282</td>\n",
       "      <td>7.9250</td>\n",
       "      <td>NaN</td>\n",
       "      <td>S</td>\n",
       "    </tr>\n",
       "    <tr>\n",
       "      <th>3</th>\n",
       "      <td>4</td>\n",
       "      <td>1</td>\n",
       "      <td>1</td>\n",
       "      <td>Futrelle, Mrs. Jacques Heath (Lily May Peel)</td>\n",
       "      <td>female</td>\n",
       "      <td>35.0</td>\n",
       "      <td>1</td>\n",
       "      <td>0</td>\n",
       "      <td>113803</td>\n",
       "      <td>53.1000</td>\n",
       "      <td>C123</td>\n",
       "      <td>S</td>\n",
       "    </tr>\n",
       "    <tr>\n",
       "      <th>4</th>\n",
       "      <td>5</td>\n",
       "      <td>0</td>\n",
       "      <td>3</td>\n",
       "      <td>Allen, Mr. William Henry</td>\n",
       "      <td>male</td>\n",
       "      <td>35.0</td>\n",
       "      <td>0</td>\n",
       "      <td>0</td>\n",
       "      <td>373450</td>\n",
       "      <td>8.0500</td>\n",
       "      <td>NaN</td>\n",
       "      <td>S</td>\n",
       "    </tr>\n",
       "  </tbody>\n",
       "</table>\n",
       "</div>"
      ],
      "text/plain": [
       "   PassengerId  Survived  Pclass  \\\n",
       "0            1         0       3   \n",
       "1            2         1       1   \n",
       "2            3         1       3   \n",
       "3            4         1       1   \n",
       "4            5         0       3   \n",
       "\n",
       "                                                Name     Sex   Age  SibSp  \\\n",
       "0                            Braund, Mr. Owen Harris    male  22.0      1   \n",
       "1  Cumings, Mrs. John Bradley (Florence Briggs Th...  female  38.0      1   \n",
       "2                             Heikkinen, Miss. Laina  female  26.0      0   \n",
       "3       Futrelle, Mrs. Jacques Heath (Lily May Peel)  female  35.0      1   \n",
       "4                           Allen, Mr. William Henry    male  35.0      0   \n",
       "\n",
       "   Parch            Ticket     Fare Cabin Embarked  \n",
       "0      0         A/5 21171   7.2500   NaN        S  \n",
       "1      0          PC 17599  71.2833   C85        C  \n",
       "2      0  STON/O2. 3101282   7.9250   NaN        S  \n",
       "3      0            113803  53.1000  C123        S  \n",
       "4      0            373450   8.0500   NaN        S  "
      ]
     },
     "execution_count": 131,
     "metadata": {},
     "output_type": "execute_result"
    }
   ],
   "source": [
    "# preview the data\n",
    "train_df.head()"
   ]
  },
  {
   "cell_type": "markdown",
   "id": "3fbab8ae",
   "metadata": {
    "_cell_guid": "97f4e6f8-2fea-46c4-e4e8-b69062ee3d46",
    "_uuid": "c34fa51a38336d97d5f6a184908cca37daebd584"
   },
   "source": [
    "**Which features are mixed data types?**\n",
    "\n",
    "Numerical, alphanumeric data within same feature. These are candidates for correcting goal.\n",
    "\n",
    "- Ticket is a mix of numeric and alphanumeric data types. Cabin is alphanumeric.\n",
    "\n",
    "**Which features may contain errors or typos?**\n",
    "\n",
    "This is harder to review for a large dataset, however reviewing a few samples from a smaller dataset may just tell us outright, which features may require correcting.\n",
    "\n",
    "- Name feature may contain errors or typos as there are several ways used to describe a name including titles, round brackets, and quotes used for alternative or short names."
   ]
  },
  {
   "cell_type": "code",
   "execution_count": 132,
   "id": "13c63154",
   "metadata": {
    "_cell_guid": "f6e761c2-e2ff-d300-164c-af257083bb46",
    "_uuid": "3488e80f309d29f5b68bbcfaba8d78da84f4fb7d"
   },
   "outputs": [
    {
     "data": {
      "text/html": [
       "<div>\n",
       "<style scoped>\n",
       "    .dataframe tbody tr th:only-of-type {\n",
       "        vertical-align: middle;\n",
       "    }\n",
       "\n",
       "    .dataframe tbody tr th {\n",
       "        vertical-align: top;\n",
       "    }\n",
       "\n",
       "    .dataframe thead th {\n",
       "        text-align: right;\n",
       "    }\n",
       "</style>\n",
       "<table border=\"1\" class=\"dataframe\">\n",
       "  <thead>\n",
       "    <tr style=\"text-align: right;\">\n",
       "      <th></th>\n",
       "      <th>PassengerId</th>\n",
       "      <th>Survived</th>\n",
       "      <th>Pclass</th>\n",
       "      <th>Name</th>\n",
       "      <th>Sex</th>\n",
       "      <th>Age</th>\n",
       "      <th>SibSp</th>\n",
       "      <th>Parch</th>\n",
       "      <th>Ticket</th>\n",
       "      <th>Fare</th>\n",
       "      <th>Cabin</th>\n",
       "      <th>Embarked</th>\n",
       "    </tr>\n",
       "  </thead>\n",
       "  <tbody>\n",
       "    <tr>\n",
       "      <th>886</th>\n",
       "      <td>887</td>\n",
       "      <td>0</td>\n",
       "      <td>2</td>\n",
       "      <td>Montvila, Rev. Juozas</td>\n",
       "      <td>male</td>\n",
       "      <td>27.0</td>\n",
       "      <td>0</td>\n",
       "      <td>0</td>\n",
       "      <td>211536</td>\n",
       "      <td>13.00</td>\n",
       "      <td>NaN</td>\n",
       "      <td>S</td>\n",
       "    </tr>\n",
       "    <tr>\n",
       "      <th>887</th>\n",
       "      <td>888</td>\n",
       "      <td>1</td>\n",
       "      <td>1</td>\n",
       "      <td>Graham, Miss. Margaret Edith</td>\n",
       "      <td>female</td>\n",
       "      <td>19.0</td>\n",
       "      <td>0</td>\n",
       "      <td>0</td>\n",
       "      <td>112053</td>\n",
       "      <td>30.00</td>\n",
       "      <td>B42</td>\n",
       "      <td>S</td>\n",
       "    </tr>\n",
       "    <tr>\n",
       "      <th>888</th>\n",
       "      <td>889</td>\n",
       "      <td>0</td>\n",
       "      <td>3</td>\n",
       "      <td>Johnston, Miss. Catherine Helen \"Carrie\"</td>\n",
       "      <td>female</td>\n",
       "      <td>NaN</td>\n",
       "      <td>1</td>\n",
       "      <td>2</td>\n",
       "      <td>W./C. 6607</td>\n",
       "      <td>23.45</td>\n",
       "      <td>NaN</td>\n",
       "      <td>S</td>\n",
       "    </tr>\n",
       "    <tr>\n",
       "      <th>889</th>\n",
       "      <td>890</td>\n",
       "      <td>1</td>\n",
       "      <td>1</td>\n",
       "      <td>Behr, Mr. Karl Howell</td>\n",
       "      <td>male</td>\n",
       "      <td>26.0</td>\n",
       "      <td>0</td>\n",
       "      <td>0</td>\n",
       "      <td>111369</td>\n",
       "      <td>30.00</td>\n",
       "      <td>C148</td>\n",
       "      <td>C</td>\n",
       "    </tr>\n",
       "    <tr>\n",
       "      <th>890</th>\n",
       "      <td>891</td>\n",
       "      <td>0</td>\n",
       "      <td>3</td>\n",
       "      <td>Dooley, Mr. Patrick</td>\n",
       "      <td>male</td>\n",
       "      <td>32.0</td>\n",
       "      <td>0</td>\n",
       "      <td>0</td>\n",
       "      <td>370376</td>\n",
       "      <td>7.75</td>\n",
       "      <td>NaN</td>\n",
       "      <td>Q</td>\n",
       "    </tr>\n",
       "  </tbody>\n",
       "</table>\n",
       "</div>"
      ],
      "text/plain": [
       "     PassengerId  Survived  Pclass                                      Name  \\\n",
       "886          887         0       2                     Montvila, Rev. Juozas   \n",
       "887          888         1       1              Graham, Miss. Margaret Edith   \n",
       "888          889         0       3  Johnston, Miss. Catherine Helen \"Carrie\"   \n",
       "889          890         1       1                     Behr, Mr. Karl Howell   \n",
       "890          891         0       3                       Dooley, Mr. Patrick   \n",
       "\n",
       "        Sex   Age  SibSp  Parch      Ticket   Fare Cabin Embarked  \n",
       "886    male  27.0      0      0      211536  13.00   NaN        S  \n",
       "887  female  19.0      0      0      112053  30.00   B42        S  \n",
       "888  female   NaN      1      2  W./C. 6607  23.45   NaN        S  \n",
       "889    male  26.0      0      0      111369  30.00  C148        C  \n",
       "890    male  32.0      0      0      370376   7.75   NaN        Q  "
      ]
     },
     "execution_count": 132,
     "metadata": {},
     "output_type": "execute_result"
    }
   ],
   "source": [
    "train_df.tail()"
   ]
  },
  {
   "cell_type": "markdown",
   "id": "b75dd414",
   "metadata": {
    "_cell_guid": "8bfe9610-689a-29b2-26ee-f67cd4719079",
    "_uuid": "699c52b7a8d076ccd5ea5bc5d606313c558a6e8e"
   },
   "source": [
    "**Which features contain blank, null or empty values?**\n",
    "\n",
    "These will require correcting.\n",
    "\n",
    "- Cabin > Age > Embarked features contain a number of null values in that order for the training dataset.\n",
    "- Cabin > Age are incomplete in case of test dataset.\n",
    "\n",
    "**What are the data types for various features?**\n",
    "\n",
    "Helping us during converting goal.\n",
    "\n",
    "- Seven features are integer or floats. Six in case of test dataset.\n",
    "- Five features are strings (object)."
   ]
  },
  {
   "cell_type": "code",
   "execution_count": 133,
   "id": "033b3434",
   "metadata": {
    "_cell_guid": "9b805f69-665a-2b2e-f31d-50d87d52865d",
    "_uuid": "817e1cf0ca1cb96c7a28bb81192d92261a8bf427"
   },
   "outputs": [
    {
     "name": "stdout",
     "output_type": "stream",
     "text": [
      "<class 'pandas.core.frame.DataFrame'>\n",
      "RangeIndex: 891 entries, 0 to 890\n",
      "Data columns (total 12 columns):\n",
      " #   Column       Non-Null Count  Dtype  \n",
      "---  ------       --------------  -----  \n",
      " 0   PassengerId  891 non-null    int64  \n",
      " 1   Survived     891 non-null    int64  \n",
      " 2   Pclass       891 non-null    int64  \n",
      " 3   Name         891 non-null    object \n",
      " 4   Sex          891 non-null    object \n",
      " 5   Age          714 non-null    float64\n",
      " 6   SibSp        891 non-null    int64  \n",
      " 7   Parch        891 non-null    int64  \n",
      " 8   Ticket       891 non-null    object \n",
      " 9   Fare         891 non-null    float64\n",
      " 10  Cabin        204 non-null    object \n",
      " 11  Embarked     889 non-null    object \n",
      "dtypes: float64(2), int64(5), object(5)\n",
      "memory usage: 83.7+ KB\n",
      "________________________________________\n",
      "<class 'pandas.core.frame.DataFrame'>\n",
      "RangeIndex: 418 entries, 0 to 417\n",
      "Data columns (total 11 columns):\n",
      " #   Column       Non-Null Count  Dtype  \n",
      "---  ------       --------------  -----  \n",
      " 0   PassengerId  418 non-null    int64  \n",
      " 1   Pclass       418 non-null    int64  \n",
      " 2   Name         418 non-null    object \n",
      " 3   Sex          418 non-null    object \n",
      " 4   Age          332 non-null    float64\n",
      " 5   SibSp        418 non-null    int64  \n",
      " 6   Parch        418 non-null    int64  \n",
      " 7   Ticket       418 non-null    object \n",
      " 8   Fare         417 non-null    float64\n",
      " 9   Cabin        91 non-null     object \n",
      " 10  Embarked     418 non-null    object \n",
      "dtypes: float64(2), int64(4), object(5)\n",
      "memory usage: 36.0+ KB\n"
     ]
    }
   ],
   "source": [
    "train_df.info()\n",
    "print('_'*40)\n",
    "test_df.info()"
   ]
  },
  {
   "cell_type": "markdown",
   "id": "7d127c19",
   "metadata": {
    "_cell_guid": "859102e1-10df-d451-2649-2d4571e5f082",
    "_uuid": "2b7c205bf25979e3242762bfebb0e3eb2fd63010"
   },
   "source": [
    "**What is the distribution of numerical feature values across the samples?**\n",
    "\n",
    "This helps us determine, among other early insights, how representative is the training dataset of the actual problem domain.\n",
    "\n",
    "- Total samples are 891 or 40% of the actual number of passengers on board the Titanic (2,224).\n",
    "- Survived is a categorical feature with 0 or 1 values.\n",
    "- Around 38% samples survived representative of the actual survival rate at 32%.\n",
    "- Most passengers (> 75%) did not travel with parents or children.\n",
    "- Nearly 30% of the passengers had siblings and/or spouse aboard.\n",
    "- Fares varied significantly with few passengers (<1%) paying as high as $512.\n",
    "- Few elderly passengers (<1%) within age range 65-80."
   ]
  },
  {
   "cell_type": "code",
   "execution_count": 134,
   "id": "4ea1c990",
   "metadata": {
    "_cell_guid": "58e387fe-86e4-e068-8307-70e37fe3f37b",
    "_uuid": "380251a1c1e0b89147d321968dc739b6cc0eecf2"
   },
   "outputs": [
    {
     "data": {
      "text/html": [
       "<div>\n",
       "<style scoped>\n",
       "    .dataframe tbody tr th:only-of-type {\n",
       "        vertical-align: middle;\n",
       "    }\n",
       "\n",
       "    .dataframe tbody tr th {\n",
       "        vertical-align: top;\n",
       "    }\n",
       "\n",
       "    .dataframe thead th {\n",
       "        text-align: right;\n",
       "    }\n",
       "</style>\n",
       "<table border=\"1\" class=\"dataframe\">\n",
       "  <thead>\n",
       "    <tr style=\"text-align: right;\">\n",
       "      <th></th>\n",
       "      <th>PassengerId</th>\n",
       "      <th>Survived</th>\n",
       "      <th>Pclass</th>\n",
       "      <th>Age</th>\n",
       "      <th>SibSp</th>\n",
       "      <th>Parch</th>\n",
       "      <th>Fare</th>\n",
       "    </tr>\n",
       "  </thead>\n",
       "  <tbody>\n",
       "    <tr>\n",
       "      <th>count</th>\n",
       "      <td>891.000000</td>\n",
       "      <td>891.000000</td>\n",
       "      <td>891.000000</td>\n",
       "      <td>714.000000</td>\n",
       "      <td>891.000000</td>\n",
       "      <td>891.000000</td>\n",
       "      <td>891.000000</td>\n",
       "    </tr>\n",
       "    <tr>\n",
       "      <th>mean</th>\n",
       "      <td>446.000000</td>\n",
       "      <td>0.383838</td>\n",
       "      <td>2.308642</td>\n",
       "      <td>29.699118</td>\n",
       "      <td>0.523008</td>\n",
       "      <td>0.381594</td>\n",
       "      <td>32.204208</td>\n",
       "    </tr>\n",
       "    <tr>\n",
       "      <th>std</th>\n",
       "      <td>257.353842</td>\n",
       "      <td>0.486592</td>\n",
       "      <td>0.836071</td>\n",
       "      <td>14.526497</td>\n",
       "      <td>1.102743</td>\n",
       "      <td>0.806057</td>\n",
       "      <td>49.693429</td>\n",
       "    </tr>\n",
       "    <tr>\n",
       "      <th>min</th>\n",
       "      <td>1.000000</td>\n",
       "      <td>0.000000</td>\n",
       "      <td>1.000000</td>\n",
       "      <td>0.420000</td>\n",
       "      <td>0.000000</td>\n",
       "      <td>0.000000</td>\n",
       "      <td>0.000000</td>\n",
       "    </tr>\n",
       "    <tr>\n",
       "      <th>25%</th>\n",
       "      <td>223.500000</td>\n",
       "      <td>0.000000</td>\n",
       "      <td>2.000000</td>\n",
       "      <td>20.125000</td>\n",
       "      <td>0.000000</td>\n",
       "      <td>0.000000</td>\n",
       "      <td>7.910400</td>\n",
       "    </tr>\n",
       "    <tr>\n",
       "      <th>50%</th>\n",
       "      <td>446.000000</td>\n",
       "      <td>0.000000</td>\n",
       "      <td>3.000000</td>\n",
       "      <td>28.000000</td>\n",
       "      <td>0.000000</td>\n",
       "      <td>0.000000</td>\n",
       "      <td>14.454200</td>\n",
       "    </tr>\n",
       "    <tr>\n",
       "      <th>75%</th>\n",
       "      <td>668.500000</td>\n",
       "      <td>1.000000</td>\n",
       "      <td>3.000000</td>\n",
       "      <td>38.000000</td>\n",
       "      <td>1.000000</td>\n",
       "      <td>0.000000</td>\n",
       "      <td>31.000000</td>\n",
       "    </tr>\n",
       "    <tr>\n",
       "      <th>max</th>\n",
       "      <td>891.000000</td>\n",
       "      <td>1.000000</td>\n",
       "      <td>3.000000</td>\n",
       "      <td>80.000000</td>\n",
       "      <td>8.000000</td>\n",
       "      <td>6.000000</td>\n",
       "      <td>512.329200</td>\n",
       "    </tr>\n",
       "  </tbody>\n",
       "</table>\n",
       "</div>"
      ],
      "text/plain": [
       "       PassengerId    Survived      Pclass         Age       SibSp  \\\n",
       "count   891.000000  891.000000  891.000000  714.000000  891.000000   \n",
       "mean    446.000000    0.383838    2.308642   29.699118    0.523008   \n",
       "std     257.353842    0.486592    0.836071   14.526497    1.102743   \n",
       "min       1.000000    0.000000    1.000000    0.420000    0.000000   \n",
       "25%     223.500000    0.000000    2.000000   20.125000    0.000000   \n",
       "50%     446.000000    0.000000    3.000000   28.000000    0.000000   \n",
       "75%     668.500000    1.000000    3.000000   38.000000    1.000000   \n",
       "max     891.000000    1.000000    3.000000   80.000000    8.000000   \n",
       "\n",
       "            Parch        Fare  \n",
       "count  891.000000  891.000000  \n",
       "mean     0.381594   32.204208  \n",
       "std      0.806057   49.693429  \n",
       "min      0.000000    0.000000  \n",
       "25%      0.000000    7.910400  \n",
       "50%      0.000000   14.454200  \n",
       "75%      0.000000   31.000000  \n",
       "max      6.000000  512.329200  "
      ]
     },
     "execution_count": 134,
     "metadata": {},
     "output_type": "execute_result"
    }
   ],
   "source": [
    "train_df.describe()\n",
    "# Review survived rate using `percentiles=[.61, .62]` knowing our problem description mentions 38% survival rate.\n",
    "# Review Parch distribution using `percentiles=[.75, .8]`\n",
    "# SibSp distribution `[.68, .69]`\n",
    "# Age and Fare `[.1, .2, .3, .4, .5, .6, .7, .8, .9, .99]`"
   ]
  },
  {
   "cell_type": "code",
<<<<<<< HEAD
   "execution_count": 9,
=======
   "execution_count": 135,
>>>>>>> master
   "id": "0e593af5",
   "metadata": {
    "_cell_guid": "da057efe-88f0-bf49-917b-bb2fec418ed9",
    "_uuid": "e328d9882affedcfc4c167aa5bb1ac132547558c"
   },
   "outputs": [
    {
     "name": "stdout",
     "output_type": "stream",
     "text": [
      "Before (891, 12) (418, 11) (891, 12) (418, 11)\n"
     ]
    },
    {
     "data": {
      "text/plain": [
       "('After', (891, 10), (418, 9), (891, 10), (418, 9))"
      ]
     },
<<<<<<< HEAD
     "execution_count": 9,
=======
     "execution_count": 135,
>>>>>>> master
     "metadata": {},
     "output_type": "execute_result"
    }
   ],
   "source": [
    "print(\"Before\", train_df.shape, test_df.shape, combine[0].shape, combine[1].shape)\n",
    "\n",
    "train_df = train_df.drop(['Ticket', 'Cabin'], axis=1)\n",
    "test_df = test_df.drop(['Ticket', 'Cabin'], axis=1)\n",
    "combine = [train_df, test_df]\n",
    "\n",
    "\"After\", train_df.shape, test_df.shape, combine[0].shape, combine[1].shape"
   ]
  },
  {
   "cell_type": "markdown",
   "id": "7bcec2cd",
   "metadata": {
    "_cell_guid": "6b3a1216-64b6-7fe2-50bc-e89cc964a41c",
    "_uuid": "21d5c47ee69f8fbef967f6f41d736b5d4eb6596f"
   },
   "source": [
    "### Creating new feature extracting from existing\n",
    "\n",
    "We want to analyze if Name feature can be engineered to extract titles and test correlation between titles and survival, before dropping Name and PassengerId features.\n",
    "\n",
    "In the following code we extract Title feature using regular expressions. The RegEx pattern `(\\w+\\.)` matches the first word which ends with a dot character within Name feature. The `expand=False` flag returns a DataFrame.\n",
    "\n",
    "**Observations.**\n",
    "\n",
    "When we plot Title, Age, and Survived, we note the following observations.\n",
    "\n",
    "- Most titles band Age groups accurately. For example: Master title has Age mean of 5 years.\n",
    "- Survival among Title Age bands varies slightly.\n",
    "- Certain titles mostly survived (Mme, Lady, Sir) or did not (Don, Rev, Jonkheer).\n",
    "\n",
    "**Decision.**\n",
    "\n",
    "- We decide to retain the new Title feature for model training."
   ]
  },
  {
   "cell_type": "code",
<<<<<<< HEAD
   "execution_count": 10,
=======
   "execution_count": 136,
>>>>>>> master
   "id": "ebfba776",
   "metadata": {
    "_cell_guid": "df7f0cd4-992c-4a79-fb19-bf6f0c024d4b",
    "_uuid": "c916644bd151f3dc8fca900f656d415b4c55e2bc"
   },
   "outputs": [
    {
     "data": {
      "text/html": [
       "<div>\n",
       "<style scoped>\n",
       "    .dataframe tbody tr th:only-of-type {\n",
       "        vertical-align: middle;\n",
       "    }\n",
       "\n",
       "    .dataframe tbody tr th {\n",
       "        vertical-align: top;\n",
       "    }\n",
       "\n",
       "    .dataframe thead th {\n",
       "        text-align: right;\n",
       "    }\n",
       "</style>\n",
       "<table border=\"1\" class=\"dataframe\">\n",
       "  <thead>\n",
       "    <tr style=\"text-align: right;\">\n",
       "      <th>Sex</th>\n",
       "      <th>female</th>\n",
       "      <th>male</th>\n",
       "    </tr>\n",
       "    <tr>\n",
       "      <th>Title</th>\n",
       "      <th></th>\n",
       "      <th></th>\n",
       "    </tr>\n",
       "  </thead>\n",
       "  <tbody>\n",
       "    <tr>\n",
       "      <th>Capt</th>\n",
       "      <td>0</td>\n",
       "      <td>1</td>\n",
       "    </tr>\n",
       "    <tr>\n",
       "      <th>Col</th>\n",
       "      <td>0</td>\n",
       "      <td>2</td>\n",
       "    </tr>\n",
       "    <tr>\n",
       "      <th>Countess</th>\n",
       "      <td>1</td>\n",
       "      <td>0</td>\n",
       "    </tr>\n",
       "    <tr>\n",
       "      <th>Don</th>\n",
       "      <td>0</td>\n",
       "      <td>1</td>\n",
       "    </tr>\n",
       "    <tr>\n",
       "      <th>Dr</th>\n",
       "      <td>1</td>\n",
       "      <td>6</td>\n",
       "    </tr>\n",
       "    <tr>\n",
       "      <th>Jonkheer</th>\n",
       "      <td>0</td>\n",
       "      <td>1</td>\n",
       "    </tr>\n",
       "    <tr>\n",
       "      <th>Lady</th>\n",
       "      <td>1</td>\n",
       "      <td>0</td>\n",
       "    </tr>\n",
       "    <tr>\n",
       "      <th>Major</th>\n",
       "      <td>0</td>\n",
       "      <td>2</td>\n",
       "    </tr>\n",
       "    <tr>\n",
       "      <th>Master</th>\n",
       "      <td>0</td>\n",
       "      <td>40</td>\n",
       "    </tr>\n",
       "    <tr>\n",
       "      <th>Miss</th>\n",
       "      <td>182</td>\n",
       "      <td>0</td>\n",
       "    </tr>\n",
       "    <tr>\n",
       "      <th>Mlle</th>\n",
       "      <td>2</td>\n",
       "      <td>0</td>\n",
       "    </tr>\n",
       "    <tr>\n",
       "      <th>Mme</th>\n",
       "      <td>1</td>\n",
       "      <td>0</td>\n",
       "    </tr>\n",
       "    <tr>\n",
       "      <th>Mr</th>\n",
       "      <td>0</td>\n",
       "      <td>517</td>\n",
       "    </tr>\n",
       "    <tr>\n",
       "      <th>Mrs</th>\n",
       "      <td>125</td>\n",
       "      <td>0</td>\n",
       "    </tr>\n",
       "    <tr>\n",
       "      <th>Ms</th>\n",
       "      <td>1</td>\n",
       "      <td>0</td>\n",
       "    </tr>\n",
       "    <tr>\n",
       "      <th>Rev</th>\n",
       "      <td>0</td>\n",
       "      <td>6</td>\n",
       "    </tr>\n",
       "    <tr>\n",
       "      <th>Sir</th>\n",
       "      <td>0</td>\n",
       "      <td>1</td>\n",
       "    </tr>\n",
       "  </tbody>\n",
       "</table>\n",
       "</div>"
      ],
      "text/plain": [
       "Sex       female  male\n",
       "Title                 \n",
       "Capt           0     1\n",
       "Col            0     2\n",
       "Countess       1     0\n",
       "Don            0     1\n",
       "Dr             1     6\n",
       "Jonkheer       0     1\n",
       "Lady           1     0\n",
       "Major          0     2\n",
       "Master         0    40\n",
       "Miss         182     0\n",
       "Mlle           2     0\n",
       "Mme            1     0\n",
       "Mr             0   517\n",
       "Mrs          125     0\n",
       "Ms             1     0\n",
       "Rev            0     6\n",
       "Sir            0     1"
      ]
     },
<<<<<<< HEAD
     "execution_count": 10,
=======
     "execution_count": 136,
>>>>>>> master
     "metadata": {},
     "output_type": "execute_result"
    }
   ],
   "source": [
    "for dataset in combine:\n",
    "    dataset['Title'] = dataset.Name.str.extract(' ([A-Za-z]+)\\.', expand=False)\n",
    "\n",
    "pd.crosstab(train_df['Title'], train_df['Sex'])"
   ]
  },
  {
   "cell_type": "markdown",
   "id": "01a62ddd",
   "metadata": {
    "_cell_guid": "908c08a6-3395-19a5-0cd7-13341054012a",
    "_uuid": "f766d512ea5bfe60b5eb7a816f482f2ab688fd2f"
   },
   "source": [
    "We can replace many titles with a more common name or classify them as `Rare`."
   ]
  },
  {
   "cell_type": "code",
<<<<<<< HEAD
   "execution_count": 11,
=======
   "execution_count": 137,
>>>>>>> master
   "id": "0c5b76b2",
   "metadata": {
    "_cell_guid": "553f56d7-002a-ee63-21a4-c0efad10cfe9",
    "_uuid": "b8cd938fba61fb4e226c77521b012f4bb8aa01d0"
   },
   "outputs": [
    {
     "data": {
      "text/html": [
       "<div>\n",
       "<style scoped>\n",
       "    .dataframe tbody tr th:only-of-type {\n",
       "        vertical-align: middle;\n",
       "    }\n",
       "\n",
       "    .dataframe tbody tr th {\n",
       "        vertical-align: top;\n",
       "    }\n",
       "\n",
       "    .dataframe thead th {\n",
       "        text-align: right;\n",
       "    }\n",
       "</style>\n",
       "<table border=\"1\" class=\"dataframe\">\n",
       "  <thead>\n",
       "    <tr style=\"text-align: right;\">\n",
       "      <th></th>\n",
       "      <th>Title</th>\n",
       "      <th>Survived</th>\n",
       "    </tr>\n",
       "  </thead>\n",
       "  <tbody>\n",
       "    <tr>\n",
       "      <th>0</th>\n",
       "      <td>Master</td>\n",
       "      <td>0.575000</td>\n",
       "    </tr>\n",
       "    <tr>\n",
       "      <th>1</th>\n",
       "      <td>Miss</td>\n",
       "      <td>0.702703</td>\n",
       "    </tr>\n",
       "    <tr>\n",
       "      <th>2</th>\n",
       "      <td>Mr</td>\n",
       "      <td>0.156673</td>\n",
       "    </tr>\n",
       "    <tr>\n",
       "      <th>3</th>\n",
       "      <td>Mrs</td>\n",
       "      <td>0.793651</td>\n",
       "    </tr>\n",
       "    <tr>\n",
       "      <th>4</th>\n",
       "      <td>Rare</td>\n",
       "      <td>0.347826</td>\n",
       "    </tr>\n",
       "  </tbody>\n",
       "</table>\n",
       "</div>"
      ],
      "text/plain": [
       "    Title  Survived\n",
       "0  Master  0.575000\n",
       "1    Miss  0.702703\n",
       "2      Mr  0.156673\n",
       "3     Mrs  0.793651\n",
       "4    Rare  0.347826"
      ]
     },
<<<<<<< HEAD
     "execution_count": 11,
=======
     "execution_count": 137,
>>>>>>> master
     "metadata": {},
     "output_type": "execute_result"
    }
   ],
   "source": [
    "for dataset in combine:\n",
    "    dataset['Title'] = dataset['Title'].replace(['Lady', 'Countess','Capt', 'Col',\\\n",
    " \t'Don', 'Dr', 'Major', 'Rev', 'Sir', 'Jonkheer', 'Dona'], 'Rare')\n",
    "\n",
    "    dataset['Title'] = dataset['Title'].replace('Mlle', 'Miss')\n",
    "    dataset['Title'] = dataset['Title'].replace('Ms', 'Miss')\n",
    "    dataset['Title'] = dataset['Title'].replace('Mme', 'Mrs')\n",
    "    \n",
    "train_df[['Title', 'Survived']].groupby(['Title'], as_index=False).mean()"
   ]
  },
  {
   "cell_type": "markdown",
   "id": "cd79b0ae",
   "metadata": {
    "_cell_guid": "6d46be9a-812a-f334-73b9-56ed912c9eca",
    "_uuid": "de245fe76474d46995a5acc31b905b8aaa5893f6"
   },
   "source": [
    "We can convert the categorical titles to ordinal."
   ]
  },
  {
   "cell_type": "code",
<<<<<<< HEAD
   "execution_count": 12,
=======
   "execution_count": 138,
>>>>>>> master
   "id": "1edeee3f",
   "metadata": {
    "_cell_guid": "67444ebc-4d11-bac1-74a6-059133b6e2e8",
    "_uuid": "e805ad52f0514497b67c3726104ba46d361eb92c"
   },
   "outputs": [
    {
     "data": {
      "text/html": [
       "<div>\n",
       "<style scoped>\n",
       "    .dataframe tbody tr th:only-of-type {\n",
       "        vertical-align: middle;\n",
       "    }\n",
       "\n",
       "    .dataframe tbody tr th {\n",
       "        vertical-align: top;\n",
       "    }\n",
       "\n",
       "    .dataframe thead th {\n",
       "        text-align: right;\n",
       "    }\n",
       "</style>\n",
       "<table border=\"1\" class=\"dataframe\">\n",
       "  <thead>\n",
       "    <tr style=\"text-align: right;\">\n",
       "      <th></th>\n",
       "      <th>PassengerId</th>\n",
       "      <th>Survived</th>\n",
       "      <th>Pclass</th>\n",
       "      <th>Name</th>\n",
       "      <th>Sex</th>\n",
       "      <th>Age</th>\n",
       "      <th>SibSp</th>\n",
       "      <th>Parch</th>\n",
       "      <th>Fare</th>\n",
       "      <th>Embarked</th>\n",
       "      <th>Title</th>\n",
       "    </tr>\n",
       "  </thead>\n",
       "  <tbody>\n",
       "    <tr>\n",
       "      <th>0</th>\n",
       "      <td>1</td>\n",
       "      <td>0</td>\n",
       "      <td>3</td>\n",
       "      <td>Braund, Mr. Owen Harris</td>\n",
       "      <td>male</td>\n",
       "      <td>22.0</td>\n",
       "      <td>1</td>\n",
       "      <td>0</td>\n",
       "      <td>7.2500</td>\n",
       "      <td>S</td>\n",
       "      <td>1</td>\n",
       "    </tr>\n",
       "    <tr>\n",
       "      <th>1</th>\n",
       "      <td>2</td>\n",
       "      <td>1</td>\n",
       "      <td>1</td>\n",
       "      <td>Cumings, Mrs. John Bradley (Florence Briggs Th...</td>\n",
       "      <td>female</td>\n",
       "      <td>38.0</td>\n",
       "      <td>1</td>\n",
       "      <td>0</td>\n",
       "      <td>71.2833</td>\n",
       "      <td>C</td>\n",
       "      <td>3</td>\n",
       "    </tr>\n",
       "    <tr>\n",
       "      <th>2</th>\n",
       "      <td>3</td>\n",
       "      <td>1</td>\n",
       "      <td>3</td>\n",
       "      <td>Heikkinen, Miss. Laina</td>\n",
       "      <td>female</td>\n",
       "      <td>26.0</td>\n",
       "      <td>0</td>\n",
       "      <td>0</td>\n",
       "      <td>7.9250</td>\n",
       "      <td>S</td>\n",
       "      <td>2</td>\n",
       "    </tr>\n",
       "    <tr>\n",
       "      <th>3</th>\n",
       "      <td>4</td>\n",
       "      <td>1</td>\n",
       "      <td>1</td>\n",
       "      <td>Futrelle, Mrs. Jacques Heath (Lily May Peel)</td>\n",
       "      <td>female</td>\n",
       "      <td>35.0</td>\n",
       "      <td>1</td>\n",
       "      <td>0</td>\n",
       "      <td>53.1000</td>\n",
       "      <td>S</td>\n",
       "      <td>3</td>\n",
       "    </tr>\n",
       "    <tr>\n",
       "      <th>4</th>\n",
       "      <td>5</td>\n",
       "      <td>0</td>\n",
       "      <td>3</td>\n",
       "      <td>Allen, Mr. William Henry</td>\n",
       "      <td>male</td>\n",
       "      <td>35.0</td>\n",
       "      <td>0</td>\n",
       "      <td>0</td>\n",
       "      <td>8.0500</td>\n",
       "      <td>S</td>\n",
       "      <td>1</td>\n",
       "    </tr>\n",
       "  </tbody>\n",
       "</table>\n",
       "</div>"
      ],
      "text/plain": [
       "   PassengerId  Survived  Pclass  \\\n",
       "0            1         0       3   \n",
       "1            2         1       1   \n",
       "2            3         1       3   \n",
       "3            4         1       1   \n",
       "4            5         0       3   \n",
       "\n",
       "                                                Name     Sex   Age  SibSp  \\\n",
       "0                            Braund, Mr. Owen Harris    male  22.0      1   \n",
       "1  Cumings, Mrs. John Bradley (Florence Briggs Th...  female  38.0      1   \n",
       "2                             Heikkinen, Miss. Laina  female  26.0      0   \n",
       "3       Futrelle, Mrs. Jacques Heath (Lily May Peel)  female  35.0      1   \n",
       "4                           Allen, Mr. William Henry    male  35.0      0   \n",
       "\n",
       "   Parch     Fare Embarked  Title  \n",
       "0      0   7.2500        S      1  \n",
       "1      0  71.2833        C      3  \n",
       "2      0   7.9250        S      2  \n",
       "3      0  53.1000        S      3  \n",
       "4      0   8.0500        S      1  "
      ]
     },
<<<<<<< HEAD
     "execution_count": 12,
=======
     "execution_count": 138,
>>>>>>> master
     "metadata": {},
     "output_type": "execute_result"
    }
   ],
   "source": [
    "title_mapping = {\"Mr\": 1, \"Miss\": 2, \"Mrs\": 3, \"Master\": 4, \"Rare\": 5}\n",
    "for dataset in combine:\n",
    "    dataset['Title'] = dataset['Title'].map(title_mapping)\n",
    "    dataset['Title'] = dataset['Title'].fillna(0)\n",
    "\n",
    "train_df.head()"
   ]
  },
  {
   "cell_type": "markdown",
   "id": "5e907b73",
   "metadata": {
    "_cell_guid": "f27bb974-a3d7-07a1-f7e4-876f6da87e62",
    "_uuid": "5fefaa1b37c537dda164c87a757fe705a99815d9"
   },
   "source": [
    "Now we can safely drop the Name feature from training and testing datasets. We also do not need the PassengerId feature in the training dataset."
   ]
  },
  {
   "cell_type": "code",
<<<<<<< HEAD
   "execution_count": 13,
=======
   "execution_count": 139,
>>>>>>> master
   "id": "857137af",
   "metadata": {
    "_cell_guid": "9d61dded-5ff0-5018-7580-aecb4ea17506",
    "_uuid": "1da299cf2ffd399fd5b37d74fb40665d16ba5347"
   },
   "outputs": [
    {
     "data": {
      "text/plain": [
       "((891, 9), (418, 9))"
      ]
     },
<<<<<<< HEAD
     "execution_count": 13,
=======
     "execution_count": 139,
>>>>>>> master
     "metadata": {},
     "output_type": "execute_result"
    }
   ],
   "source": [
    "train_df = train_df.drop(['Name', 'PassengerId'], axis=1)\n",
    "test_df = test_df.drop(['Name'], axis=1)\n",
    "combine = [train_df, test_df]\n",
    "train_df.shape, test_df.shape"
   ]
  },
  {
   "cell_type": "markdown",
   "id": "b3b7a459",
   "metadata": {
    "_cell_guid": "2c8e84bb-196d-bd4a-4df9-f5213561b5d3",
    "_uuid": "a1ac66c79b279d94860e66996d3d8dba801a6d9a"
   },
   "source": [
    "### Converting a categorical feature\n",
    "\n",
    "Now we can convert features which contain strings to numerical values. This is required by most model algorithms. Doing so will also help us in achieving the feature completing goal.\n",
    "\n",
    "Let us start by converting Sex feature to a new feature called Gender where female=1 and male=0."
   ]
  },
  {
   "cell_type": "code",
<<<<<<< HEAD
   "execution_count": 14,
=======
   "execution_count": 140,
>>>>>>> master
   "id": "3ebd9403",
   "metadata": {
    "_cell_guid": "c20c1df2-157c-e5a0-3e24-15a828095c96",
    "_uuid": "840498eaee7baaca228499b0a5652da9d4edaf37"
   },
   "outputs": [
    {
     "data": {
      "text/html": [
       "<div>\n",
       "<style scoped>\n",
       "    .dataframe tbody tr th:only-of-type {\n",
       "        vertical-align: middle;\n",
       "    }\n",
       "\n",
       "    .dataframe tbody tr th {\n",
       "        vertical-align: top;\n",
       "    }\n",
       "\n",
       "    .dataframe thead th {\n",
       "        text-align: right;\n",
       "    }\n",
       "</style>\n",
       "<table border=\"1\" class=\"dataframe\">\n",
       "  <thead>\n",
       "    <tr style=\"text-align: right;\">\n",
       "      <th></th>\n",
       "      <th>Survived</th>\n",
       "      <th>Pclass</th>\n",
       "      <th>Sex</th>\n",
       "      <th>Age</th>\n",
       "      <th>SibSp</th>\n",
       "      <th>Parch</th>\n",
       "      <th>Fare</th>\n",
       "      <th>Embarked</th>\n",
       "      <th>Title</th>\n",
       "    </tr>\n",
       "  </thead>\n",
       "  <tbody>\n",
       "    <tr>\n",
       "      <th>0</th>\n",
       "      <td>0</td>\n",
       "      <td>3</td>\n",
       "      <td>0</td>\n",
       "      <td>22.0</td>\n",
       "      <td>1</td>\n",
       "      <td>0</td>\n",
       "      <td>7.2500</td>\n",
       "      <td>S</td>\n",
       "      <td>1</td>\n",
       "    </tr>\n",
       "    <tr>\n",
       "      <th>1</th>\n",
       "      <td>1</td>\n",
       "      <td>1</td>\n",
       "      <td>1</td>\n",
       "      <td>38.0</td>\n",
       "      <td>1</td>\n",
       "      <td>0</td>\n",
       "      <td>71.2833</td>\n",
       "      <td>C</td>\n",
       "      <td>3</td>\n",
       "    </tr>\n",
       "    <tr>\n",
       "      <th>2</th>\n",
       "      <td>1</td>\n",
       "      <td>3</td>\n",
       "      <td>1</td>\n",
       "      <td>26.0</td>\n",
       "      <td>0</td>\n",
       "      <td>0</td>\n",
       "      <td>7.9250</td>\n",
       "      <td>S</td>\n",
       "      <td>2</td>\n",
       "    </tr>\n",
       "    <tr>\n",
       "      <th>3</th>\n",
       "      <td>1</td>\n",
       "      <td>1</td>\n",
       "      <td>1</td>\n",
       "      <td>35.0</td>\n",
       "      <td>1</td>\n",
       "      <td>0</td>\n",
       "      <td>53.1000</td>\n",
       "      <td>S</td>\n",
       "      <td>3</td>\n",
       "    </tr>\n",
       "    <tr>\n",
       "      <th>4</th>\n",
       "      <td>0</td>\n",
       "      <td>3</td>\n",
       "      <td>0</td>\n",
       "      <td>35.0</td>\n",
       "      <td>0</td>\n",
       "      <td>0</td>\n",
       "      <td>8.0500</td>\n",
       "      <td>S</td>\n",
       "      <td>1</td>\n",
       "    </tr>\n",
       "  </tbody>\n",
       "</table>\n",
       "</div>"
      ],
      "text/plain": [
       "   Survived  Pclass  Sex   Age  SibSp  Parch     Fare Embarked  Title\n",
       "0         0       3    0  22.0      1      0   7.2500        S      1\n",
       "1         1       1    1  38.0      1      0  71.2833        C      3\n",
       "2         1       3    1  26.0      0      0   7.9250        S      2\n",
       "3         1       1    1  35.0      1      0  53.1000        S      3\n",
       "4         0       3    0  35.0      0      0   8.0500        S      1"
      ]
     },
<<<<<<< HEAD
     "execution_count": 14,
=======
     "execution_count": 140,
>>>>>>> master
     "metadata": {},
     "output_type": "execute_result"
    }
   ],
   "source": [
    "for dataset in combine:\n",
    "    dataset['Sex'] = dataset['Sex'].map( {'female': 1, 'male': 0} ).astype(int)\n",
    "\n",
    "train_df.head()"
   ]
  },
  {
   "cell_type": "markdown",
   "id": "883f786d",
   "metadata": {
    "_cell_guid": "a4f166f9-f5f9-1819-66c3-d89dd5b0d8ff",
    "_uuid": "6b22ac53d95c7979d5f4580bd5fd29d27155c347"
   },
   "source": [
    "Let us start by preparing an empty array to contain guessed Age values based on Pclass x Gender combinations."
   ]
  },
  {
   "cell_type": "code",
<<<<<<< HEAD
   "execution_count": 15,
=======
   "execution_count": 141,
>>>>>>> master
   "id": "fc470fe6",
   "metadata": {
    "_cell_guid": "9299523c-dcf1-fb00-e52f-e2fb860a3920",
    "_uuid": "24a0971daa4cbc3aa700bae42e68c17ce9f3a6e2"
   },
   "outputs": [
    {
     "data": {
      "text/plain": [
       "array([[0., 0., 0.],\n",
       "       [0., 0., 0.]])"
      ]
     },
<<<<<<< HEAD
     "execution_count": 15,
=======
     "execution_count": 141,
>>>>>>> master
     "metadata": {},
     "output_type": "execute_result"
    }
   ],
   "source": [
    "guess_ages = np.zeros((2,3))\n",
    "guess_ages"
   ]
  },
  {
   "cell_type": "markdown",
   "id": "3e0e1144",
   "metadata": {
    "_cell_guid": "ec9fed37-16b1-5518-4fa8-0a7f579dbc82",
    "_uuid": "8acd90569767b544f055d573bbbb8f6012853385"
   },
   "source": [
    "Now we iterate over Sex (0 or 1) and Pclass (1, 2, 3) to calculate guessed values of Age for the six combinations."
   ]
  },
  {
   "cell_type": "code",
<<<<<<< HEAD
   "execution_count": 16,
=======
   "execution_count": 142,
>>>>>>> master
   "id": "92b852c7",
   "metadata": {
    "_cell_guid": "a4015dfa-a0ab-65bc-0cbe-efecf1eb2569",
    "_uuid": "31198f0ad0dbbb74290ebe135abffa994b8f58f3"
   },
   "outputs": [
    {
     "data": {
      "text/html": [
       "<div>\n",
       "<style scoped>\n",
       "    .dataframe tbody tr th:only-of-type {\n",
       "        vertical-align: middle;\n",
       "    }\n",
       "\n",
       "    .dataframe tbody tr th {\n",
       "        vertical-align: top;\n",
       "    }\n",
       "\n",
       "    .dataframe thead th {\n",
       "        text-align: right;\n",
       "    }\n",
       "</style>\n",
       "<table border=\"1\" class=\"dataframe\">\n",
       "  <thead>\n",
       "    <tr style=\"text-align: right;\">\n",
       "      <th></th>\n",
       "      <th>Survived</th>\n",
       "      <th>Pclass</th>\n",
       "      <th>Sex</th>\n",
       "      <th>Age</th>\n",
       "      <th>SibSp</th>\n",
       "      <th>Parch</th>\n",
       "      <th>Fare</th>\n",
       "      <th>Embarked</th>\n",
       "      <th>Title</th>\n",
       "    </tr>\n",
       "  </thead>\n",
       "  <tbody>\n",
       "    <tr>\n",
       "      <th>0</th>\n",
       "      <td>0</td>\n",
       "      <td>3</td>\n",
       "      <td>0</td>\n",
       "      <td>22</td>\n",
       "      <td>1</td>\n",
       "      <td>0</td>\n",
       "      <td>7.2500</td>\n",
       "      <td>S</td>\n",
       "      <td>1</td>\n",
       "    </tr>\n",
       "    <tr>\n",
       "      <th>1</th>\n",
       "      <td>1</td>\n",
       "      <td>1</td>\n",
       "      <td>1</td>\n",
       "      <td>38</td>\n",
       "      <td>1</td>\n",
       "      <td>0</td>\n",
       "      <td>71.2833</td>\n",
       "      <td>C</td>\n",
       "      <td>3</td>\n",
       "    </tr>\n",
       "    <tr>\n",
       "      <th>2</th>\n",
       "      <td>1</td>\n",
       "      <td>3</td>\n",
       "      <td>1</td>\n",
       "      <td>26</td>\n",
       "      <td>0</td>\n",
       "      <td>0</td>\n",
       "      <td>7.9250</td>\n",
       "      <td>S</td>\n",
       "      <td>2</td>\n",
       "    </tr>\n",
       "    <tr>\n",
       "      <th>3</th>\n",
       "      <td>1</td>\n",
       "      <td>1</td>\n",
       "      <td>1</td>\n",
       "      <td>35</td>\n",
       "      <td>1</td>\n",
       "      <td>0</td>\n",
       "      <td>53.1000</td>\n",
       "      <td>S</td>\n",
       "      <td>3</td>\n",
       "    </tr>\n",
       "    <tr>\n",
       "      <th>4</th>\n",
       "      <td>0</td>\n",
       "      <td>3</td>\n",
       "      <td>0</td>\n",
       "      <td>35</td>\n",
       "      <td>0</td>\n",
       "      <td>0</td>\n",
       "      <td>8.0500</td>\n",
       "      <td>S</td>\n",
       "      <td>1</td>\n",
       "    </tr>\n",
       "  </tbody>\n",
       "</table>\n",
       "</div>"
      ],
      "text/plain": [
       "   Survived  Pclass  Sex  Age  SibSp  Parch     Fare Embarked  Title\n",
       "0         0       3    0   22      1      0   7.2500        S      1\n",
       "1         1       1    1   38      1      0  71.2833        C      3\n",
       "2         1       3    1   26      0      0   7.9250        S      2\n",
       "3         1       1    1   35      1      0  53.1000        S      3\n",
       "4         0       3    0   35      0      0   8.0500        S      1"
      ]
     },
<<<<<<< HEAD
     "execution_count": 16,
=======
     "execution_count": 142,
>>>>>>> master
     "metadata": {},
     "output_type": "execute_result"
    }
   ],
   "source": [
    "for dataset in combine:\n",
    "    for i in range(0, 2):\n",
    "        for j in range(0, 3):\n",
    "            guess_df = dataset[(dataset['Sex'] == i) & \\\n",
    "                                  (dataset['Pclass'] == j+1)]['Age'].dropna()\n",
    "\n",
    "            # age_mean = guess_df.mean()\n",
    "            # age_std = guess_df.std()\n",
    "            # age_guess = rnd.uniform(age_mean - age_std, age_mean + age_std)\n",
    "\n",
    "            age_guess = guess_df.median()\n",
    "\n",
    "            # Convert random age float to nearest .5 age\n",
    "            guess_ages[i,j] = int( age_guess/0.5 + 0.5 ) * 0.5\n",
    "            \n",
    "    for i in range(0, 2):\n",
    "        for j in range(0, 3):\n",
    "            dataset.loc[ (dataset.Age.isnull()) & (dataset.Sex == i) & (dataset.Pclass == j+1),\\\n",
    "                    'Age'] = guess_ages[i,j]\n",
    "\n",
    "    dataset['Age'] = dataset['Age'].astype(int)\n",
    "\n",
    "train_df.head()"
   ]
  },
  {
   "cell_type": "markdown",
   "id": "f5572fc7",
   "metadata": {
    "_cell_guid": "dbe0a8bf-40bc-c581-e10e-76f07b3b71d4",
    "_uuid": "e7c52b44b703f28e4b6f4ddba67ab65f40274550"
   },
   "source": [
    "Let us create Age bands and determine correlations with Survived."
   ]
  },
  {
   "cell_type": "code",
<<<<<<< HEAD
   "execution_count": 17,
=======
   "execution_count": 143,
>>>>>>> master
   "id": "347ac5fc",
   "metadata": {
    "_cell_guid": "725d1c84-6323-9d70-5812-baf9994d3aa1",
    "_uuid": "5c8b4cbb302f439ef0d6278dcfbdafd952675353"
   },
   "outputs": [
    {
     "data": {
      "text/html": [
       "<div>\n",
       "<style scoped>\n",
       "    .dataframe tbody tr th:only-of-type {\n",
       "        vertical-align: middle;\n",
       "    }\n",
       "\n",
       "    .dataframe tbody tr th {\n",
       "        vertical-align: top;\n",
       "    }\n",
       "\n",
       "    .dataframe thead th {\n",
       "        text-align: right;\n",
       "    }\n",
       "</style>\n",
       "<table border=\"1\" class=\"dataframe\">\n",
       "  <thead>\n",
       "    <tr style=\"text-align: right;\">\n",
       "      <th></th>\n",
       "      <th>AgeBand</th>\n",
       "      <th>Survived</th>\n",
       "    </tr>\n",
       "  </thead>\n",
       "  <tbody>\n",
       "    <tr>\n",
       "      <th>0</th>\n",
       "      <td>(-0.08, 16.0]</td>\n",
       "      <td>0.550000</td>\n",
       "    </tr>\n",
       "    <tr>\n",
       "      <th>1</th>\n",
       "      <td>(16.0, 32.0]</td>\n",
       "      <td>0.337374</td>\n",
       "    </tr>\n",
       "    <tr>\n",
       "      <th>2</th>\n",
       "      <td>(32.0, 48.0]</td>\n",
       "      <td>0.412037</td>\n",
       "    </tr>\n",
       "    <tr>\n",
       "      <th>3</th>\n",
       "      <td>(48.0, 64.0]</td>\n",
       "      <td>0.434783</td>\n",
       "    </tr>\n",
       "    <tr>\n",
       "      <th>4</th>\n",
       "      <td>(64.0, 80.0]</td>\n",
       "      <td>0.090909</td>\n",
       "    </tr>\n",
       "  </tbody>\n",
       "</table>\n",
       "</div>"
      ],
      "text/plain": [
       "         AgeBand  Survived\n",
       "0  (-0.08, 16.0]  0.550000\n",
       "1   (16.0, 32.0]  0.337374\n",
       "2   (32.0, 48.0]  0.412037\n",
       "3   (48.0, 64.0]  0.434783\n",
       "4   (64.0, 80.0]  0.090909"
      ]
     },
<<<<<<< HEAD
     "execution_count": 17,
=======
     "execution_count": 143,
>>>>>>> master
     "metadata": {},
     "output_type": "execute_result"
    }
   ],
   "source": [
    "train_df['AgeBand'] = pd.cut(train_df['Age'], 5)\n",
    "train_df[['AgeBand', 'Survived']].groupby(['AgeBand'], as_index=False).mean().sort_values(by='AgeBand', ascending=True)"
   ]
  },
  {
   "cell_type": "markdown",
   "id": "8f4d045c",
   "metadata": {
    "_cell_guid": "ba4be3a0-e524-9c57-fbec-c8ecc5cde5c6",
    "_uuid": "856392dd415ac14ab74a885a37d068fc7a58f3a5"
   },
   "source": [
    "Let us replace Age with ordinals based on these bands."
   ]
  },
  {
   "cell_type": "code",
<<<<<<< HEAD
   "execution_count": 18,
=======
   "execution_count": 144,
>>>>>>> master
   "id": "70e4f8dd",
   "metadata": {
    "_cell_guid": "797b986d-2c45-a9ee-e5b5-088de817c8b2",
    "_uuid": "ee13831345f389db407c178f66c19cc8331445b0"
   },
   "outputs": [
    {
     "data": {
      "text/html": [
       "<div>\n",
       "<style scoped>\n",
       "    .dataframe tbody tr th:only-of-type {\n",
       "        vertical-align: middle;\n",
       "    }\n",
       "\n",
       "    .dataframe tbody tr th {\n",
       "        vertical-align: top;\n",
       "    }\n",
       "\n",
       "    .dataframe thead th {\n",
       "        text-align: right;\n",
       "    }\n",
       "</style>\n",
       "<table border=\"1\" class=\"dataframe\">\n",
       "  <thead>\n",
       "    <tr style=\"text-align: right;\">\n",
       "      <th></th>\n",
       "      <th>Survived</th>\n",
       "      <th>Pclass</th>\n",
       "      <th>Sex</th>\n",
       "      <th>Age</th>\n",
       "      <th>SibSp</th>\n",
       "      <th>Parch</th>\n",
       "      <th>Fare</th>\n",
       "      <th>Embarked</th>\n",
       "      <th>Title</th>\n",
       "      <th>AgeBand</th>\n",
       "    </tr>\n",
       "  </thead>\n",
       "  <tbody>\n",
       "    <tr>\n",
       "      <th>0</th>\n",
       "      <td>0</td>\n",
       "      <td>3</td>\n",
       "      <td>0</td>\n",
       "      <td>2</td>\n",
       "      <td>1</td>\n",
       "      <td>0</td>\n",
       "      <td>7.2500</td>\n",
       "      <td>S</td>\n",
       "      <td>1</td>\n",
       "      <td>(16.0, 32.0]</td>\n",
       "    </tr>\n",
       "    <tr>\n",
       "      <th>1</th>\n",
       "      <td>1</td>\n",
       "      <td>1</td>\n",
       "      <td>1</td>\n",
       "      <td>3</td>\n",
       "      <td>1</td>\n",
       "      <td>0</td>\n",
       "      <td>71.2833</td>\n",
       "      <td>C</td>\n",
       "      <td>3</td>\n",
       "      <td>(32.0, 48.0]</td>\n",
       "    </tr>\n",
       "    <tr>\n",
       "      <th>2</th>\n",
       "      <td>1</td>\n",
       "      <td>3</td>\n",
       "      <td>1</td>\n",
       "      <td>2</td>\n",
       "      <td>0</td>\n",
       "      <td>0</td>\n",
       "      <td>7.9250</td>\n",
       "      <td>S</td>\n",
       "      <td>2</td>\n",
       "      <td>(16.0, 32.0]</td>\n",
       "    </tr>\n",
       "    <tr>\n",
       "      <th>3</th>\n",
       "      <td>1</td>\n",
       "      <td>1</td>\n",
       "      <td>1</td>\n",
       "      <td>3</td>\n",
       "      <td>1</td>\n",
       "      <td>0</td>\n",
       "      <td>53.1000</td>\n",
       "      <td>S</td>\n",
       "      <td>3</td>\n",
       "      <td>(32.0, 48.0]</td>\n",
       "    </tr>\n",
       "    <tr>\n",
       "      <th>4</th>\n",
       "      <td>0</td>\n",
       "      <td>3</td>\n",
       "      <td>0</td>\n",
       "      <td>3</td>\n",
       "      <td>0</td>\n",
       "      <td>0</td>\n",
       "      <td>8.0500</td>\n",
       "      <td>S</td>\n",
       "      <td>1</td>\n",
       "      <td>(32.0, 48.0]</td>\n",
       "    </tr>\n",
       "  </tbody>\n",
       "</table>\n",
       "</div>"
      ],
      "text/plain": [
       "   Survived  Pclass  Sex  Age  SibSp  Parch     Fare Embarked  Title  \\\n",
       "0         0       3    0    2      1      0   7.2500        S      1   \n",
       "1         1       1    1    3      1      0  71.2833        C      3   \n",
       "2         1       3    1    2      0      0   7.9250        S      2   \n",
       "3         1       1    1    3      1      0  53.1000        S      3   \n",
       "4         0       3    0    3      0      0   8.0500        S      1   \n",
       "\n",
       "        AgeBand  \n",
       "0  (16.0, 32.0]  \n",
       "1  (32.0, 48.0]  \n",
       "2  (16.0, 32.0]  \n",
       "3  (32.0, 48.0]  \n",
       "4  (32.0, 48.0]  "
      ]
     },
<<<<<<< HEAD
     "execution_count": 18,
=======
     "execution_count": 144,
>>>>>>> master
     "metadata": {},
     "output_type": "execute_result"
    }
   ],
   "source": [
    "for dataset in combine:    \n",
    "    dataset.loc[ dataset['Age'] <= 16, 'Age'] = 1\n",
    "    dataset.loc[(dataset['Age'] > 16) & (dataset['Age'] <= 32), 'Age'] = 2\n",
    "    dataset.loc[(dataset['Age'] > 32) & (dataset['Age'] <= 48), 'Age'] = 3\n",
    "    dataset.loc[(dataset['Age'] > 48) & (dataset['Age'] <= 64), 'Age'] = 4\n",
    "    dataset.loc[ dataset['Age'] > 64, 'Age']\n",
    "train_df.head()"
   ]
  },
  {
   "cell_type": "markdown",
   "id": "033f9d94",
   "metadata": {
    "_cell_guid": "004568b6-dd9a-ff89-43d5-13d4e9370b1d",
    "_uuid": "8e3fbc95e0fd6600e28347567416d3f0d77a24cc"
   },
   "source": [
    "We can not remove the AgeBand feature."
   ]
  },
  {
   "cell_type": "code",
<<<<<<< HEAD
   "execution_count": 19,
=======
   "execution_count": 145,
>>>>>>> master
   "id": "457765d5",
   "metadata": {
    "_cell_guid": "875e55d4-51b0-5061-b72c-8a23946133a3",
    "_uuid": "1ea01ccc4a24e8951556d97c990aa0136da19721"
   },
   "outputs": [
    {
     "data": {
      "text/html": [
       "<div>\n",
       "<style scoped>\n",
       "    .dataframe tbody tr th:only-of-type {\n",
       "        vertical-align: middle;\n",
       "    }\n",
       "\n",
       "    .dataframe tbody tr th {\n",
       "        vertical-align: top;\n",
       "    }\n",
       "\n",
       "    .dataframe thead th {\n",
       "        text-align: right;\n",
       "    }\n",
       "</style>\n",
       "<table border=\"1\" class=\"dataframe\">\n",
       "  <thead>\n",
       "    <tr style=\"text-align: right;\">\n",
       "      <th></th>\n",
       "      <th>Survived</th>\n",
       "      <th>Pclass</th>\n",
       "      <th>Sex</th>\n",
       "      <th>Age</th>\n",
       "      <th>SibSp</th>\n",
       "      <th>Parch</th>\n",
       "      <th>Fare</th>\n",
       "      <th>Embarked</th>\n",
       "      <th>Title</th>\n",
       "    </tr>\n",
       "  </thead>\n",
       "  <tbody>\n",
       "    <tr>\n",
       "      <th>0</th>\n",
       "      <td>0</td>\n",
       "      <td>3</td>\n",
       "      <td>0</td>\n",
       "      <td>2</td>\n",
       "      <td>1</td>\n",
       "      <td>0</td>\n",
       "      <td>7.2500</td>\n",
       "      <td>S</td>\n",
       "      <td>1</td>\n",
       "    </tr>\n",
       "    <tr>\n",
       "      <th>1</th>\n",
       "      <td>1</td>\n",
       "      <td>1</td>\n",
       "      <td>1</td>\n",
       "      <td>3</td>\n",
       "      <td>1</td>\n",
       "      <td>0</td>\n",
       "      <td>71.2833</td>\n",
       "      <td>C</td>\n",
       "      <td>3</td>\n",
       "    </tr>\n",
       "    <tr>\n",
       "      <th>2</th>\n",
       "      <td>1</td>\n",
       "      <td>3</td>\n",
       "      <td>1</td>\n",
       "      <td>2</td>\n",
       "      <td>0</td>\n",
       "      <td>0</td>\n",
       "      <td>7.9250</td>\n",
       "      <td>S</td>\n",
       "      <td>2</td>\n",
       "    </tr>\n",
       "    <tr>\n",
       "      <th>3</th>\n",
       "      <td>1</td>\n",
       "      <td>1</td>\n",
       "      <td>1</td>\n",
       "      <td>3</td>\n",
       "      <td>1</td>\n",
       "      <td>0</td>\n",
       "      <td>53.1000</td>\n",
       "      <td>S</td>\n",
       "      <td>3</td>\n",
       "    </tr>\n",
       "    <tr>\n",
       "      <th>4</th>\n",
       "      <td>0</td>\n",
       "      <td>3</td>\n",
       "      <td>0</td>\n",
       "      <td>3</td>\n",
       "      <td>0</td>\n",
       "      <td>0</td>\n",
       "      <td>8.0500</td>\n",
       "      <td>S</td>\n",
       "      <td>1</td>\n",
       "    </tr>\n",
       "  </tbody>\n",
       "</table>\n",
       "</div>"
      ],
      "text/plain": [
       "   Survived  Pclass  Sex  Age  SibSp  Parch     Fare Embarked  Title\n",
       "0         0       3    0    2      1      0   7.2500        S      1\n",
       "1         1       1    1    3      1      0  71.2833        C      3\n",
       "2         1       3    1    2      0      0   7.9250        S      2\n",
       "3         1       1    1    3      1      0  53.1000        S      3\n",
       "4         0       3    0    3      0      0   8.0500        S      1"
      ]
     },
<<<<<<< HEAD
     "execution_count": 19,
=======
     "execution_count": 145,
>>>>>>> master
     "metadata": {},
     "output_type": "execute_result"
    }
   ],
   "source": [
    "train_df = train_df.drop(['AgeBand'], axis=1)\n",
    "combine = [train_df, test_df]\n",
    "train_df.head()"
   ]
  },
  {
   "cell_type": "markdown",
   "id": "c756bf76",
   "metadata": {
    "_cell_guid": "1c237b76-d7ac-098f-0156-480a838a64a9",
    "_uuid": "e3d4a2040c053fbd0486c8cfc4fec3224bd3ebb3"
   },
   "source": [
    "### Create new feature combining existing features\n",
    "\n",
    "We can create a new feature for FamilySize which combines Parch and SibSp. This will enable us to drop Parch and SibSp from our datasets."
   ]
  },
  {
   "cell_type": "code",
<<<<<<< HEAD
   "execution_count": 20,
=======
   "execution_count": 146,
>>>>>>> master
   "id": "519edb85",
   "metadata": {
    "_cell_guid": "7e6c04ed-cfaa-3139-4378-574fd095d6ba",
    "_uuid": "33d1236ce4a8ab888b9fac2d5af1c78d174b32c7"
   },
   "outputs": [
    {
     "data": {
      "text/html": [
       "<div>\n",
       "<style scoped>\n",
       "    .dataframe tbody tr th:only-of-type {\n",
       "        vertical-align: middle;\n",
       "    }\n",
       "\n",
       "    .dataframe tbody tr th {\n",
       "        vertical-align: top;\n",
       "    }\n",
       "\n",
       "    .dataframe thead th {\n",
       "        text-align: right;\n",
       "    }\n",
       "</style>\n",
       "<table border=\"1\" class=\"dataframe\">\n",
       "  <thead>\n",
       "    <tr style=\"text-align: right;\">\n",
       "      <th></th>\n",
       "      <th>FamilySize</th>\n",
       "      <th>Survived</th>\n",
       "    </tr>\n",
       "  </thead>\n",
       "  <tbody>\n",
       "    <tr>\n",
       "      <th>3</th>\n",
       "      <td>4</td>\n",
       "      <td>0.724138</td>\n",
       "    </tr>\n",
       "    <tr>\n",
       "      <th>2</th>\n",
       "      <td>3</td>\n",
       "      <td>0.578431</td>\n",
       "    </tr>\n",
       "    <tr>\n",
       "      <th>1</th>\n",
       "      <td>2</td>\n",
       "      <td>0.552795</td>\n",
       "    </tr>\n",
       "    <tr>\n",
       "      <th>6</th>\n",
       "      <td>7</td>\n",
       "      <td>0.333333</td>\n",
       "    </tr>\n",
       "    <tr>\n",
       "      <th>0</th>\n",
       "      <td>1</td>\n",
       "      <td>0.303538</td>\n",
       "    </tr>\n",
       "    <tr>\n",
       "      <th>4</th>\n",
       "      <td>5</td>\n",
       "      <td>0.200000</td>\n",
       "    </tr>\n",
       "    <tr>\n",
       "      <th>5</th>\n",
       "      <td>6</td>\n",
       "      <td>0.136364</td>\n",
       "    </tr>\n",
       "    <tr>\n",
       "      <th>7</th>\n",
       "      <td>8</td>\n",
       "      <td>0.000000</td>\n",
       "    </tr>\n",
       "    <tr>\n",
       "      <th>8</th>\n",
       "      <td>11</td>\n",
       "      <td>0.000000</td>\n",
       "    </tr>\n",
       "  </tbody>\n",
       "</table>\n",
       "</div>"
      ],
      "text/plain": [
       "   FamilySize  Survived\n",
       "3           4  0.724138\n",
       "2           3  0.578431\n",
       "1           2  0.552795\n",
       "6           7  0.333333\n",
       "0           1  0.303538\n",
       "4           5  0.200000\n",
       "5           6  0.136364\n",
       "7           8  0.000000\n",
       "8          11  0.000000"
      ]
     },
<<<<<<< HEAD
     "execution_count": 20,
=======
     "execution_count": 146,
>>>>>>> master
     "metadata": {},
     "output_type": "execute_result"
    }
   ],
   "source": [
    "for dataset in combine:\n",
    "    dataset['FamilySize'] = dataset['SibSp'] + dataset['Parch'] + 1\n",
    "\n",
    "train_df[['FamilySize', 'Survived']].groupby(['FamilySize'], as_index=False).mean().sort_values(by='Survived', ascending=False)"
   ]
  },
  {
   "cell_type": "markdown",
   "id": "3fd8861a",
   "metadata": {
    "_cell_guid": "842188e6-acf8-2476-ccec-9e3451e4fa86",
    "_uuid": "67f8e4474cd1ecf4261c153ce8b40ea23cf659e4"
   },
   "source": [
    "We can create another feature called IsAlone."
   ]
  },
  {
   "cell_type": "code",
<<<<<<< HEAD
   "execution_count": 21,
=======
   "execution_count": 147,
>>>>>>> master
   "id": "3eac45b1",
   "metadata": {
    "_cell_guid": "5c778c69-a9ae-1b6b-44fe-a0898d07be7a",
    "_uuid": "3b8db81cc3513b088c6bcd9cd1938156fe77992f"
   },
   "outputs": [
    {
     "data": {
      "text/html": [
       "<div>\n",
       "<style scoped>\n",
       "    .dataframe tbody tr th:only-of-type {\n",
       "        vertical-align: middle;\n",
       "    }\n",
       "\n",
       "    .dataframe tbody tr th {\n",
       "        vertical-align: top;\n",
       "    }\n",
       "\n",
       "    .dataframe thead th {\n",
       "        text-align: right;\n",
       "    }\n",
       "</style>\n",
       "<table border=\"1\" class=\"dataframe\">\n",
       "  <thead>\n",
       "    <tr style=\"text-align: right;\">\n",
       "      <th></th>\n",
       "      <th>IsAlone</th>\n",
       "      <th>Survived</th>\n",
       "    </tr>\n",
       "  </thead>\n",
       "  <tbody>\n",
       "    <tr>\n",
       "      <th>0</th>\n",
       "      <td>0</td>\n",
       "      <td>0.505650</td>\n",
       "    </tr>\n",
       "    <tr>\n",
       "      <th>1</th>\n",
       "      <td>1</td>\n",
       "      <td>0.303538</td>\n",
       "    </tr>\n",
       "  </tbody>\n",
       "</table>\n",
       "</div>"
      ],
      "text/plain": [
       "   IsAlone  Survived\n",
       "0        0  0.505650\n",
       "1        1  0.303538"
      ]
     },
<<<<<<< HEAD
     "execution_count": 21,
=======
     "execution_count": 147,
>>>>>>> master
     "metadata": {},
     "output_type": "execute_result"
    }
   ],
   "source": [
    "for dataset in combine:\n",
    "    dataset['IsAlone'] = 0\n",
    "    dataset.loc[dataset['FamilySize'] == 1, 'IsAlone'] = 1\n",
    "\n",
    "train_df[['IsAlone', 'Survived']].groupby(['IsAlone'], as_index=False).mean()"
   ]
  },
  {
   "cell_type": "markdown",
   "id": "a30b6e0e",
   "metadata": {
    "_cell_guid": "e6b87c09-e7b2-f098-5b04-4360080d26bc",
    "_uuid": "3da4204b2c78faa54a94bbad78a8aa85fbf90c87"
   },
   "source": [
    "Let us drop Parch, SibSp, and FamilySize features in favor of IsAlone."
   ]
  },
  {
   "cell_type": "code",
<<<<<<< HEAD
   "execution_count": 22,
=======
   "execution_count": 148,
>>>>>>> master
   "id": "09dc2e7c",
   "metadata": {
    "_cell_guid": "74ee56a6-7357-f3bc-b605-6c41f8aa6566",
    "_uuid": "1e3479690ef7cd8ee10538d4f39d7117246887f0"
   },
   "outputs": [
    {
     "data": {
      "text/html": [
       "<div>\n",
       "<style scoped>\n",
       "    .dataframe tbody tr th:only-of-type {\n",
       "        vertical-align: middle;\n",
       "    }\n",
       "\n",
       "    .dataframe tbody tr th {\n",
       "        vertical-align: top;\n",
       "    }\n",
       "\n",
       "    .dataframe thead th {\n",
       "        text-align: right;\n",
       "    }\n",
       "</style>\n",
       "<table border=\"1\" class=\"dataframe\">\n",
       "  <thead>\n",
       "    <tr style=\"text-align: right;\">\n",
       "      <th></th>\n",
       "      <th>Survived</th>\n",
       "      <th>Pclass</th>\n",
       "      <th>Sex</th>\n",
       "      <th>Age</th>\n",
       "      <th>Fare</th>\n",
       "      <th>Embarked</th>\n",
       "      <th>Title</th>\n",
       "      <th>IsAlone</th>\n",
       "    </tr>\n",
       "  </thead>\n",
       "  <tbody>\n",
       "    <tr>\n",
       "      <th>0</th>\n",
       "      <td>0</td>\n",
       "      <td>3</td>\n",
       "      <td>0</td>\n",
       "      <td>2</td>\n",
       "      <td>7.2500</td>\n",
       "      <td>S</td>\n",
       "      <td>1</td>\n",
       "      <td>0</td>\n",
       "    </tr>\n",
       "    <tr>\n",
       "      <th>1</th>\n",
       "      <td>1</td>\n",
       "      <td>1</td>\n",
       "      <td>1</td>\n",
       "      <td>3</td>\n",
       "      <td>71.2833</td>\n",
       "      <td>C</td>\n",
       "      <td>3</td>\n",
       "      <td>0</td>\n",
       "    </tr>\n",
       "    <tr>\n",
       "      <th>2</th>\n",
       "      <td>1</td>\n",
       "      <td>3</td>\n",
       "      <td>1</td>\n",
       "      <td>2</td>\n",
       "      <td>7.9250</td>\n",
       "      <td>S</td>\n",
       "      <td>2</td>\n",
       "      <td>1</td>\n",
       "    </tr>\n",
       "    <tr>\n",
       "      <th>3</th>\n",
       "      <td>1</td>\n",
       "      <td>1</td>\n",
       "      <td>1</td>\n",
       "      <td>3</td>\n",
       "      <td>53.1000</td>\n",
       "      <td>S</td>\n",
       "      <td>3</td>\n",
       "      <td>0</td>\n",
       "    </tr>\n",
       "    <tr>\n",
       "      <th>4</th>\n",
       "      <td>0</td>\n",
       "      <td>3</td>\n",
       "      <td>0</td>\n",
       "      <td>3</td>\n",
       "      <td>8.0500</td>\n",
       "      <td>S</td>\n",
       "      <td>1</td>\n",
       "      <td>1</td>\n",
       "    </tr>\n",
       "  </tbody>\n",
       "</table>\n",
       "</div>"
      ],
      "text/plain": [
       "   Survived  Pclass  Sex  Age     Fare Embarked  Title  IsAlone\n",
       "0         0       3    0    2   7.2500        S      1        0\n",
       "1         1       1    1    3  71.2833        C      3        0\n",
       "2         1       3    1    2   7.9250        S      2        1\n",
       "3         1       1    1    3  53.1000        S      3        0\n",
       "4         0       3    0    3   8.0500        S      1        1"
      ]
     },
<<<<<<< HEAD
     "execution_count": 22,
=======
     "execution_count": 148,
>>>>>>> master
     "metadata": {},
     "output_type": "execute_result"
    }
   ],
   "source": [
    "train_df = train_df.drop(['Parch', 'SibSp', 'FamilySize'], axis=1)\n",
    "test_df = test_df.drop(['Parch', 'SibSp', 'FamilySize'], axis=1)\n",
    "combine = [train_df, test_df]\n",
    "\n",
    "train_df.head()"
   ]
  },
  {
   "cell_type": "markdown",
   "id": "3f173e4b",
   "metadata": {
    "_cell_guid": "f890b730-b1fe-919e-fb07-352fbd7edd44",
    "_uuid": "71b800ed96407eba05220f76a1288366a22ec887"
   },
   "source": [
    "We can also create an artificial feature combining Pclass and Age."
   ]
  },
  {
   "cell_type": "code",
<<<<<<< HEAD
   "execution_count": 23,
=======
   "execution_count": 149,
>>>>>>> master
   "id": "96dcef9e",
   "metadata": {
    "_cell_guid": "305402aa-1ea1-c245-c367-056eef8fe453",
    "_uuid": "aac2c5340c06210a8b0199e15461e9049fbf2cff"
   },
   "outputs": [
    {
     "data": {
      "text/html": [
       "<div>\n",
       "<style scoped>\n",
       "    .dataframe tbody tr th:only-of-type {\n",
       "        vertical-align: middle;\n",
       "    }\n",
       "\n",
       "    .dataframe tbody tr th {\n",
       "        vertical-align: top;\n",
       "    }\n",
       "\n",
       "    .dataframe thead th {\n",
       "        text-align: right;\n",
       "    }\n",
       "</style>\n",
       "<table border=\"1\" class=\"dataframe\">\n",
       "  <thead>\n",
       "    <tr style=\"text-align: right;\">\n",
       "      <th></th>\n",
       "      <th>Age*Class</th>\n",
       "      <th>Age</th>\n",
       "      <th>Pclass</th>\n",
       "    </tr>\n",
       "  </thead>\n",
       "  <tbody>\n",
       "    <tr>\n",
       "      <th>0</th>\n",
       "      <td>6</td>\n",
       "      <td>2</td>\n",
       "      <td>3</td>\n",
       "    </tr>\n",
       "    <tr>\n",
       "      <th>1</th>\n",
       "      <td>3</td>\n",
       "      <td>3</td>\n",
       "      <td>1</td>\n",
       "    </tr>\n",
       "    <tr>\n",
       "      <th>2</th>\n",
       "      <td>6</td>\n",
       "      <td>2</td>\n",
       "      <td>3</td>\n",
       "    </tr>\n",
       "    <tr>\n",
       "      <th>3</th>\n",
       "      <td>3</td>\n",
       "      <td>3</td>\n",
       "      <td>1</td>\n",
       "    </tr>\n",
       "    <tr>\n",
       "      <th>4</th>\n",
       "      <td>9</td>\n",
       "      <td>3</td>\n",
       "      <td>3</td>\n",
       "    </tr>\n",
       "    <tr>\n",
       "      <th>5</th>\n",
       "      <td>6</td>\n",
       "      <td>2</td>\n",
       "      <td>3</td>\n",
       "    </tr>\n",
       "    <tr>\n",
       "      <th>6</th>\n",
       "      <td>4</td>\n",
       "      <td>4</td>\n",
       "      <td>1</td>\n",
       "    </tr>\n",
       "    <tr>\n",
       "      <th>7</th>\n",
       "      <td>3</td>\n",
       "      <td>1</td>\n",
       "      <td>3</td>\n",
       "    </tr>\n",
       "    <tr>\n",
       "      <th>8</th>\n",
       "      <td>6</td>\n",
       "      <td>2</td>\n",
       "      <td>3</td>\n",
       "    </tr>\n",
       "    <tr>\n",
       "      <th>9</th>\n",
       "      <td>2</td>\n",
       "      <td>1</td>\n",
       "      <td>2</td>\n",
       "    </tr>\n",
       "  </tbody>\n",
       "</table>\n",
       "</div>"
      ],
      "text/plain": [
       "   Age*Class  Age  Pclass\n",
       "0          6    2       3\n",
       "1          3    3       1\n",
       "2          6    2       3\n",
       "3          3    3       1\n",
       "4          9    3       3\n",
       "5          6    2       3\n",
       "6          4    4       1\n",
       "7          3    1       3\n",
       "8          6    2       3\n",
       "9          2    1       2"
      ]
     },
<<<<<<< HEAD
     "execution_count": 23,
=======
     "execution_count": 149,
>>>>>>> master
     "metadata": {},
     "output_type": "execute_result"
    }
   ],
   "source": [
    "for dataset in combine:\n",
    "    dataset['Age*Class'] = dataset.Age * dataset.Pclass\n",
    "\n",
    "train_df.loc[:, ['Age*Class', 'Age', 'Pclass']].head(10)"
   ]
  },
  {
   "cell_type": "markdown",
   "id": "bf955b2a",
   "metadata": {
    "_cell_guid": "13292c1b-020d-d9aa-525c-941331bb996a",
    "_uuid": "8264cc5676db8cd3e0b3e3f078cbaa74fd585a3c"
   },
   "source": [
    "### Completing a categorical feature\n",
    "\n",
    "Embarked feature takes S, Q, C values based on port of embarkation. Our training dataset has two missing values. We simply fill these with the most common occurance."
   ]
  },
  {
   "cell_type": "code",
<<<<<<< HEAD
   "execution_count": 24,
=======
   "execution_count": 150,
>>>>>>> master
   "id": "b3b863de",
   "metadata": {
    "_cell_guid": "bf351113-9b7f-ef56-7211-e8dd00665b18",
    "_uuid": "1e3f8af166f60a1b3125a6b046eff5fff02d63cf"
   },
   "outputs": [
    {
     "data": {
      "text/plain": [
       "'S'"
      ]
     },
<<<<<<< HEAD
     "execution_count": 24,
=======
     "execution_count": 150,
>>>>>>> master
     "metadata": {},
     "output_type": "execute_result"
    }
   ],
   "source": [
    "freq_port = train_df.Embarked.dropna().mode()[0]\n",
    "freq_port"
   ]
  },
  {
   "cell_type": "code",
<<<<<<< HEAD
   "execution_count": 25,
=======
   "execution_count": 151,
>>>>>>> master
   "id": "2dcb3658",
   "metadata": {
    "_cell_guid": "51c21fcc-f066-cd80-18c8-3d140be6cbae",
    "_uuid": "d85b5575fb45f25749298641f6a0a38803e1ff22"
   },
   "outputs": [
    {
     "data": {
      "text/html": [
       "<div>\n",
       "<style scoped>\n",
       "    .dataframe tbody tr th:only-of-type {\n",
       "        vertical-align: middle;\n",
       "    }\n",
       "\n",
       "    .dataframe tbody tr th {\n",
       "        vertical-align: top;\n",
       "    }\n",
       "\n",
       "    .dataframe thead th {\n",
       "        text-align: right;\n",
       "    }\n",
       "</style>\n",
       "<table border=\"1\" class=\"dataframe\">\n",
       "  <thead>\n",
       "    <tr style=\"text-align: right;\">\n",
       "      <th></th>\n",
       "      <th>Embarked</th>\n",
       "      <th>Survived</th>\n",
       "    </tr>\n",
       "  </thead>\n",
       "  <tbody>\n",
       "    <tr>\n",
       "      <th>0</th>\n",
       "      <td>C</td>\n",
       "      <td>0.553571</td>\n",
       "    </tr>\n",
       "    <tr>\n",
       "      <th>1</th>\n",
       "      <td>Q</td>\n",
       "      <td>0.389610</td>\n",
       "    </tr>\n",
       "    <tr>\n",
       "      <th>2</th>\n",
       "      <td>S</td>\n",
       "      <td>0.339009</td>\n",
       "    </tr>\n",
       "  </tbody>\n",
       "</table>\n",
       "</div>"
      ],
      "text/plain": [
       "  Embarked  Survived\n",
       "0        C  0.553571\n",
       "1        Q  0.389610\n",
       "2        S  0.339009"
      ]
     },
<<<<<<< HEAD
     "execution_count": 25,
=======
     "execution_count": 151,
>>>>>>> master
     "metadata": {},
     "output_type": "execute_result"
    }
   ],
   "source": [
    "for dataset in combine:\n",
    "    dataset['Embarked'] = dataset['Embarked'].fillna(freq_port)\n",
    "    \n",
    "train_df[['Embarked', 'Survived']].groupby(['Embarked'], as_index=False).mean().sort_values(by='Survived', ascending=False)"
   ]
  },
  {
   "cell_type": "markdown",
   "id": "5a3f2c52",
   "metadata": {
    "_cell_guid": "f6acf7b2-0db3-e583-de50-7e14b495de34",
    "_uuid": "d8830e997995145314328b6218b5606df04499b0"
   },
   "source": [
    "### Converting categorical feature to numeric\n",
    "\n",
    "We can now convert the EmbarkedFill feature by creating a new numeric Port feature."
   ]
  },
  {
   "cell_type": "code",
<<<<<<< HEAD
   "execution_count": 26,
=======
   "execution_count": 152,
>>>>>>> master
   "id": "40f58cd0",
   "metadata": {
    "_cell_guid": "89a91d76-2cc0-9bbb-c5c5-3c9ecae33c66",
    "_uuid": "e480a1ef145de0b023821134896391d568a6f4f9"
   },
   "outputs": [
    {
     "data": {
      "text/html": [
       "<div>\n",
       "<style scoped>\n",
       "    .dataframe tbody tr th:only-of-type {\n",
       "        vertical-align: middle;\n",
       "    }\n",
       "\n",
       "    .dataframe tbody tr th {\n",
       "        vertical-align: top;\n",
       "    }\n",
       "\n",
       "    .dataframe thead th {\n",
       "        text-align: right;\n",
       "    }\n",
       "</style>\n",
       "<table border=\"1\" class=\"dataframe\">\n",
       "  <thead>\n",
       "    <tr style=\"text-align: right;\">\n",
       "      <th></th>\n",
       "      <th>Survived</th>\n",
       "      <th>Pclass</th>\n",
       "      <th>Sex</th>\n",
       "      <th>Age</th>\n",
       "      <th>Fare</th>\n",
       "      <th>Embarked</th>\n",
       "      <th>Title</th>\n",
       "      <th>IsAlone</th>\n",
       "      <th>Age*Class</th>\n",
       "    </tr>\n",
       "  </thead>\n",
       "  <tbody>\n",
       "    <tr>\n",
       "      <th>0</th>\n",
       "      <td>0</td>\n",
       "      <td>3</td>\n",
       "      <td>0</td>\n",
       "      <td>2</td>\n",
       "      <td>7.2500</td>\n",
       "      <td>0</td>\n",
       "      <td>1</td>\n",
       "      <td>0</td>\n",
       "      <td>6</td>\n",
       "    </tr>\n",
       "    <tr>\n",
       "      <th>1</th>\n",
       "      <td>1</td>\n",
       "      <td>1</td>\n",
       "      <td>1</td>\n",
       "      <td>3</td>\n",
       "      <td>71.2833</td>\n",
       "      <td>1</td>\n",
       "      <td>3</td>\n",
       "      <td>0</td>\n",
       "      <td>3</td>\n",
       "    </tr>\n",
       "    <tr>\n",
       "      <th>2</th>\n",
       "      <td>1</td>\n",
       "      <td>3</td>\n",
       "      <td>1</td>\n",
       "      <td>2</td>\n",
       "      <td>7.9250</td>\n",
       "      <td>0</td>\n",
       "      <td>2</td>\n",
       "      <td>1</td>\n",
       "      <td>6</td>\n",
       "    </tr>\n",
       "    <tr>\n",
       "      <th>3</th>\n",
       "      <td>1</td>\n",
       "      <td>1</td>\n",
       "      <td>1</td>\n",
       "      <td>3</td>\n",
       "      <td>53.1000</td>\n",
       "      <td>0</td>\n",
       "      <td>3</td>\n",
       "      <td>0</td>\n",
       "      <td>3</td>\n",
       "    </tr>\n",
       "    <tr>\n",
       "      <th>4</th>\n",
       "      <td>0</td>\n",
       "      <td>3</td>\n",
       "      <td>0</td>\n",
       "      <td>3</td>\n",
       "      <td>8.0500</td>\n",
       "      <td>0</td>\n",
       "      <td>1</td>\n",
       "      <td>1</td>\n",
       "      <td>9</td>\n",
       "    </tr>\n",
       "  </tbody>\n",
       "</table>\n",
       "</div>"
      ],
      "text/plain": [
       "   Survived  Pclass  Sex  Age     Fare  Embarked  Title  IsAlone  Age*Class\n",
       "0         0       3    0    2   7.2500         0      1        0          6\n",
       "1         1       1    1    3  71.2833         1      3        0          3\n",
       "2         1       3    1    2   7.9250         0      2        1          6\n",
       "3         1       1    1    3  53.1000         0      3        0          3\n",
       "4         0       3    0    3   8.0500         0      1        1          9"
      ]
     },
<<<<<<< HEAD
     "execution_count": 26,
=======
     "execution_count": 152,
>>>>>>> master
     "metadata": {},
     "output_type": "execute_result"
    }
   ],
   "source": [
    "for dataset in combine:\n",
    "    dataset['Embarked'] = dataset['Embarked'].map( {'S': 0, 'C': 1, 'Q': 2} ).astype(int)\n",
    "\n",
    "train_df.head()"
   ]
  },
  {
   "cell_type": "markdown",
   "id": "1b0e018e",
   "metadata": {
    "_cell_guid": "e3dfc817-e1c1-a274-a111-62c1c814cecf",
    "_uuid": "d79834ebc4ab9d48ed404584711475dbf8611b91"
   },
   "source": [
    "### Quick completing and converting a numeric feature\n",
    "\n",
    "We can now complete the Fare feature for single missing value in test dataset using mode to get the value that occurs most frequently for this feature. We do this in a single line of code.\n",
    "\n",
    "Note that we are not creating an intermediate new feature or doing any further analysis for correlation to guess missing feature as we are replacing only a single value. The completion goal achieves desired requirement for model algorithm to operate on non-null values.\n",
    "\n",
    "We may also want round off the fare to two decimals as it represents currency."
   ]
  },
  {
   "cell_type": "code",
<<<<<<< HEAD
   "execution_count": 27,
=======
   "execution_count": 153,
>>>>>>> master
   "id": "d58deaab",
   "metadata": {
    "_cell_guid": "3600cb86-cf5f-d87b-1b33-638dc8db1564",
    "_uuid": "aacb62f3526072a84795a178bd59222378bab180"
   },
   "outputs": [
    {
     "data": {
      "text/html": [
       "<div>\n",
       "<style scoped>\n",
       "    .dataframe tbody tr th:only-of-type {\n",
       "        vertical-align: middle;\n",
       "    }\n",
       "\n",
       "    .dataframe tbody tr th {\n",
       "        vertical-align: top;\n",
       "    }\n",
       "\n",
       "    .dataframe thead th {\n",
       "        text-align: right;\n",
       "    }\n",
       "</style>\n",
       "<table border=\"1\" class=\"dataframe\">\n",
       "  <thead>\n",
       "    <tr style=\"text-align: right;\">\n",
       "      <th></th>\n",
       "      <th>PassengerId</th>\n",
       "      <th>Pclass</th>\n",
       "      <th>Sex</th>\n",
       "      <th>Age</th>\n",
       "      <th>Fare</th>\n",
       "      <th>Embarked</th>\n",
       "      <th>Title</th>\n",
       "      <th>IsAlone</th>\n",
       "      <th>Age*Class</th>\n",
       "    </tr>\n",
       "  </thead>\n",
       "  <tbody>\n",
       "    <tr>\n",
       "      <th>0</th>\n",
       "      <td>892</td>\n",
       "      <td>3</td>\n",
       "      <td>0</td>\n",
       "      <td>3</td>\n",
       "      <td>7.8292</td>\n",
       "      <td>2</td>\n",
       "      <td>1</td>\n",
       "      <td>1</td>\n",
       "      <td>9</td>\n",
       "    </tr>\n",
       "    <tr>\n",
       "      <th>1</th>\n",
       "      <td>893</td>\n",
       "      <td>3</td>\n",
       "      <td>1</td>\n",
       "      <td>3</td>\n",
       "      <td>7.0000</td>\n",
       "      <td>0</td>\n",
       "      <td>3</td>\n",
       "      <td>0</td>\n",
       "      <td>9</td>\n",
       "    </tr>\n",
       "    <tr>\n",
       "      <th>2</th>\n",
       "      <td>894</td>\n",
       "      <td>2</td>\n",
       "      <td>0</td>\n",
       "      <td>4</td>\n",
       "      <td>9.6875</td>\n",
       "      <td>2</td>\n",
       "      <td>1</td>\n",
       "      <td>1</td>\n",
       "      <td>8</td>\n",
       "    </tr>\n",
       "    <tr>\n",
       "      <th>3</th>\n",
       "      <td>895</td>\n",
       "      <td>3</td>\n",
       "      <td>0</td>\n",
       "      <td>2</td>\n",
       "      <td>8.6625</td>\n",
       "      <td>0</td>\n",
       "      <td>1</td>\n",
       "      <td>1</td>\n",
       "      <td>6</td>\n",
       "    </tr>\n",
       "    <tr>\n",
       "      <th>4</th>\n",
       "      <td>896</td>\n",
       "      <td>3</td>\n",
       "      <td>1</td>\n",
       "      <td>2</td>\n",
       "      <td>12.2875</td>\n",
       "      <td>0</td>\n",
       "      <td>3</td>\n",
       "      <td>0</td>\n",
       "      <td>6</td>\n",
       "    </tr>\n",
       "  </tbody>\n",
       "</table>\n",
       "</div>"
      ],
      "text/plain": [
       "   PassengerId  Pclass  Sex  Age     Fare  Embarked  Title  IsAlone  Age*Class\n",
       "0          892       3    0    3   7.8292         2      1        1          9\n",
       "1          893       3    1    3   7.0000         0      3        0          9\n",
       "2          894       2    0    4   9.6875         2      1        1          8\n",
       "3          895       3    0    2   8.6625         0      1        1          6\n",
       "4          896       3    1    2  12.2875         0      3        0          6"
      ]
     },
<<<<<<< HEAD
     "execution_count": 27,
=======
     "execution_count": 153,
>>>>>>> master
     "metadata": {},
     "output_type": "execute_result"
    }
   ],
   "source": [
    "test_df['Fare'].fillna(test_df['Fare'].dropna().median(), inplace=True)\n",
    "test_df.head()"
   ]
  },
  {
   "cell_type": "markdown",
   "id": "ab8cc202",
   "metadata": {
    "_cell_guid": "4b816bc7-d1fb-c02b-ed1d-ee34b819497d",
    "_uuid": "3466d98e83899d8b38a36ede794c68c5656f48e6"
   },
   "source": [
    "We can not create FareBand."
   ]
  },
  {
   "cell_type": "code",
<<<<<<< HEAD
   "execution_count": 28,
=======
   "execution_count": 154,
>>>>>>> master
   "id": "f81f185a",
   "metadata": {
    "_cell_guid": "0e9018b1-ced5-9999-8ce1-258a0952cbf2",
    "_uuid": "b9a78f6b4c72520d4ad99d2c89c84c591216098d"
   },
   "outputs": [
    {
     "data": {
      "text/html": [
       "<div>\n",
       "<style scoped>\n",
       "    .dataframe tbody tr th:only-of-type {\n",
       "        vertical-align: middle;\n",
       "    }\n",
       "\n",
       "    .dataframe tbody tr th {\n",
       "        vertical-align: top;\n",
       "    }\n",
       "\n",
       "    .dataframe thead th {\n",
       "        text-align: right;\n",
       "    }\n",
       "</style>\n",
       "<table border=\"1\" class=\"dataframe\">\n",
       "  <thead>\n",
       "    <tr style=\"text-align: right;\">\n",
       "      <th></th>\n",
       "      <th>FareBand</th>\n",
       "      <th>Survived</th>\n",
       "    </tr>\n",
       "  </thead>\n",
       "  <tbody>\n",
       "    <tr>\n",
       "      <th>0</th>\n",
       "      <td>(-0.001, 7.91]</td>\n",
       "      <td>0.197309</td>\n",
       "    </tr>\n",
       "    <tr>\n",
       "      <th>1</th>\n",
       "      <td>(7.91, 14.454]</td>\n",
       "      <td>0.303571</td>\n",
       "    </tr>\n",
       "    <tr>\n",
       "      <th>2</th>\n",
       "      <td>(14.454, 31.0]</td>\n",
       "      <td>0.454955</td>\n",
       "    </tr>\n",
       "    <tr>\n",
       "      <th>3</th>\n",
       "      <td>(31.0, 512.329]</td>\n",
       "      <td>0.581081</td>\n",
       "    </tr>\n",
       "  </tbody>\n",
       "</table>\n",
       "</div>"
      ],
      "text/plain": [
       "          FareBand  Survived\n",
       "0   (-0.001, 7.91]  0.197309\n",
       "1   (7.91, 14.454]  0.303571\n",
       "2   (14.454, 31.0]  0.454955\n",
       "3  (31.0, 512.329]  0.581081"
      ]
     },
<<<<<<< HEAD
     "execution_count": 28,
=======
     "execution_count": 154,
>>>>>>> master
     "metadata": {},
     "output_type": "execute_result"
    }
   ],
   "source": [
    "train_df['FareBand'] = pd.qcut(train_df['Fare'], 4)\n",
    "train_df[['FareBand', 'Survived']].groupby(['FareBand'], as_index=False).mean().sort_values(by='FareBand', ascending=True)"
   ]
  },
  {
   "cell_type": "markdown",
   "id": "623d5be2",
   "metadata": {
    "_cell_guid": "d65901a5-3684-6869-e904-5f1a7cce8a6d",
    "_uuid": "89400fba71af02d09ff07adf399fb36ac4913db6"
   },
   "source": [
    "Convert the Fare feature to ordinal values based on the FareBand."
   ]
  },
  {
   "cell_type": "code",
<<<<<<< HEAD
   "execution_count": 29,
=======
   "execution_count": 155,
>>>>>>> master
   "id": "aac306bb",
   "metadata": {
    "_cell_guid": "385f217a-4e00-76dc-1570-1de4eec0c29c",
    "_uuid": "640f305061ec4221a45ba250f8d54bb391035a57"
   },
   "outputs": [
    {
     "data": {
      "text/html": [
       "<div>\n",
       "<style scoped>\n",
       "    .dataframe tbody tr th:only-of-type {\n",
       "        vertical-align: middle;\n",
       "    }\n",
       "\n",
       "    .dataframe tbody tr th {\n",
       "        vertical-align: top;\n",
       "    }\n",
       "\n",
       "    .dataframe thead th {\n",
       "        text-align: right;\n",
       "    }\n",
       "</style>\n",
       "<table border=\"1\" class=\"dataframe\">\n",
       "  <thead>\n",
       "    <tr style=\"text-align: right;\">\n",
       "      <th></th>\n",
       "      <th>Survived</th>\n",
       "      <th>Pclass</th>\n",
       "      <th>Sex</th>\n",
       "      <th>Age</th>\n",
       "      <th>Fare</th>\n",
       "      <th>Embarked</th>\n",
       "      <th>Title</th>\n",
       "      <th>IsAlone</th>\n",
       "      <th>Age*Class</th>\n",
       "    </tr>\n",
       "  </thead>\n",
       "  <tbody>\n",
       "    <tr>\n",
       "      <th>0</th>\n",
       "      <td>0</td>\n",
       "      <td>3</td>\n",
       "      <td>0</td>\n",
       "      <td>2</td>\n",
       "      <td>0</td>\n",
       "      <td>0</td>\n",
       "      <td>1</td>\n",
       "      <td>0</td>\n",
       "      <td>6</td>\n",
       "    </tr>\n",
       "    <tr>\n",
       "      <th>1</th>\n",
       "      <td>1</td>\n",
       "      <td>1</td>\n",
       "      <td>1</td>\n",
       "      <td>3</td>\n",
       "      <td>3</td>\n",
       "      <td>1</td>\n",
       "      <td>3</td>\n",
       "      <td>0</td>\n",
       "      <td>3</td>\n",
       "    </tr>\n",
       "    <tr>\n",
       "      <th>2</th>\n",
       "      <td>1</td>\n",
       "      <td>3</td>\n",
       "      <td>1</td>\n",
       "      <td>2</td>\n",
       "      <td>1</td>\n",
       "      <td>0</td>\n",
       "      <td>2</td>\n",
       "      <td>1</td>\n",
       "      <td>6</td>\n",
       "    </tr>\n",
       "    <tr>\n",
       "      <th>3</th>\n",
       "      <td>1</td>\n",
       "      <td>1</td>\n",
       "      <td>1</td>\n",
       "      <td>3</td>\n",
       "      <td>3</td>\n",
       "      <td>0</td>\n",
       "      <td>3</td>\n",
       "      <td>0</td>\n",
       "      <td>3</td>\n",
       "    </tr>\n",
       "    <tr>\n",
       "      <th>4</th>\n",
       "      <td>0</td>\n",
       "      <td>3</td>\n",
       "      <td>0</td>\n",
       "      <td>3</td>\n",
       "      <td>1</td>\n",
       "      <td>0</td>\n",
       "      <td>1</td>\n",
       "      <td>1</td>\n",
       "      <td>9</td>\n",
       "    </tr>\n",
       "    <tr>\n",
       "      <th>5</th>\n",
       "      <td>0</td>\n",
       "      <td>3</td>\n",
       "      <td>0</td>\n",
       "      <td>2</td>\n",
       "      <td>1</td>\n",
       "      <td>2</td>\n",
       "      <td>1</td>\n",
       "      <td>1</td>\n",
       "      <td>6</td>\n",
       "    </tr>\n",
       "    <tr>\n",
       "      <th>6</th>\n",
       "      <td>0</td>\n",
       "      <td>1</td>\n",
       "      <td>0</td>\n",
       "      <td>4</td>\n",
       "      <td>3</td>\n",
       "      <td>0</td>\n",
       "      <td>1</td>\n",
       "      <td>1</td>\n",
       "      <td>4</td>\n",
       "    </tr>\n",
       "    <tr>\n",
       "      <th>7</th>\n",
       "      <td>0</td>\n",
       "      <td>3</td>\n",
       "      <td>0</td>\n",
       "      <td>1</td>\n",
       "      <td>2</td>\n",
       "      <td>0</td>\n",
       "      <td>4</td>\n",
       "      <td>0</td>\n",
       "      <td>3</td>\n",
       "    </tr>\n",
       "    <tr>\n",
       "      <th>8</th>\n",
       "      <td>1</td>\n",
       "      <td>3</td>\n",
       "      <td>1</td>\n",
       "      <td>2</td>\n",
       "      <td>1</td>\n",
       "      <td>0</td>\n",
       "      <td>3</td>\n",
       "      <td>0</td>\n",
       "      <td>6</td>\n",
       "    </tr>\n",
       "    <tr>\n",
       "      <th>9</th>\n",
       "      <td>1</td>\n",
       "      <td>2</td>\n",
       "      <td>1</td>\n",
       "      <td>1</td>\n",
       "      <td>2</td>\n",
       "      <td>1</td>\n",
       "      <td>3</td>\n",
       "      <td>0</td>\n",
       "      <td>2</td>\n",
       "    </tr>\n",
       "  </tbody>\n",
       "</table>\n",
       "</div>"
      ],
      "text/plain": [
       "   Survived  Pclass  Sex  Age  Fare  Embarked  Title  IsAlone  Age*Class\n",
       "0         0       3    0    2     0         0      1        0          6\n",
       "1         1       1    1    3     3         1      3        0          3\n",
       "2         1       3    1    2     1         0      2        1          6\n",
       "3         1       1    1    3     3         0      3        0          3\n",
       "4         0       3    0    3     1         0      1        1          9\n",
       "5         0       3    0    2     1         2      1        1          6\n",
       "6         0       1    0    4     3         0      1        1          4\n",
       "7         0       3    0    1     2         0      4        0          3\n",
       "8         1       3    1    2     1         0      3        0          6\n",
       "9         1       2    1    1     2         1      3        0          2"
      ]
     },
<<<<<<< HEAD
     "execution_count": 29,
=======
     "execution_count": 155,
>>>>>>> master
     "metadata": {},
     "output_type": "execute_result"
    }
   ],
   "source": [
    "for dataset in combine:\n",
    "    dataset.loc[ dataset['Fare'] <= 7.91, 'Fare'] = 0\n",
    "    dataset.loc[(dataset['Fare'] > 7.91) & (dataset['Fare'] <= 14.454), 'Fare'] = 1\n",
    "    dataset.loc[(dataset['Fare'] > 14.454) & (dataset['Fare'] <= 31), 'Fare']   = 2\n",
    "    dataset.loc[ dataset['Fare'] > 31, 'Fare'] = 3\n",
    "    dataset['Fare'] = dataset['Fare'].astype(int)\n",
    "\n",
    "train_df = train_df.drop(['FareBand'], axis=1)\n",
    "combine = [train_df, test_df]\n",
    "    \n",
    "train_df.head(10)"
   ]
  },
  {
   "cell_type": "markdown",
   "id": "049fd91b",
   "metadata": {
    "_cell_guid": "27272bb9-3c64-4f9a-4a3b-54f02e1c8289",
    "_uuid": "531994ed95a3002d1759ceb74d9396db706a41e2"
   },
   "source": [
    "And the test dataset."
   ]
  },
  {
   "cell_type": "code",
<<<<<<< HEAD
   "execution_count": 30,
=======
   "execution_count": 156,
>>>>>>> master
   "id": "ce4c80b9",
   "metadata": {
    "_cell_guid": "d2334d33-4fe5-964d-beac-6aa620066e15",
    "_uuid": "8453cecad81fcc44de3f4e4e4c3ce6afa977740d"
   },
   "outputs": [
    {
     "data": {
      "text/html": [
       "<div>\n",
       "<style scoped>\n",
       "    .dataframe tbody tr th:only-of-type {\n",
       "        vertical-align: middle;\n",
       "    }\n",
       "\n",
       "    .dataframe tbody tr th {\n",
       "        vertical-align: top;\n",
       "    }\n",
       "\n",
       "    .dataframe thead th {\n",
       "        text-align: right;\n",
       "    }\n",
       "</style>\n",
       "<table border=\"1\" class=\"dataframe\">\n",
       "  <thead>\n",
       "    <tr style=\"text-align: right;\">\n",
       "      <th></th>\n",
       "      <th>PassengerId</th>\n",
       "      <th>Pclass</th>\n",
       "      <th>Sex</th>\n",
       "      <th>Age</th>\n",
       "      <th>Fare</th>\n",
       "      <th>Embarked</th>\n",
       "      <th>Title</th>\n",
       "      <th>IsAlone</th>\n",
       "      <th>Age*Class</th>\n",
       "    </tr>\n",
       "  </thead>\n",
       "  <tbody>\n",
       "    <tr>\n",
       "      <th>0</th>\n",
       "      <td>892</td>\n",
       "      <td>3</td>\n",
       "      <td>0</td>\n",
       "      <td>3</td>\n",
       "      <td>0</td>\n",
       "      <td>2</td>\n",
       "      <td>1</td>\n",
       "      <td>1</td>\n",
       "      <td>9</td>\n",
       "    </tr>\n",
       "    <tr>\n",
       "      <th>1</th>\n",
       "      <td>893</td>\n",
       "      <td>3</td>\n",
       "      <td>1</td>\n",
       "      <td>3</td>\n",
       "      <td>0</td>\n",
       "      <td>0</td>\n",
       "      <td>3</td>\n",
       "      <td>0</td>\n",
       "      <td>9</td>\n",
       "    </tr>\n",
       "    <tr>\n",
       "      <th>2</th>\n",
       "      <td>894</td>\n",
       "      <td>2</td>\n",
       "      <td>0</td>\n",
       "      <td>4</td>\n",
       "      <td>1</td>\n",
       "      <td>2</td>\n",
       "      <td>1</td>\n",
       "      <td>1</td>\n",
       "      <td>8</td>\n",
       "    </tr>\n",
       "    <tr>\n",
       "      <th>3</th>\n",
       "      <td>895</td>\n",
       "      <td>3</td>\n",
       "      <td>0</td>\n",
       "      <td>2</td>\n",
       "      <td>1</td>\n",
       "      <td>0</td>\n",
       "      <td>1</td>\n",
       "      <td>1</td>\n",
       "      <td>6</td>\n",
       "    </tr>\n",
       "    <tr>\n",
       "      <th>4</th>\n",
       "      <td>896</td>\n",
       "      <td>3</td>\n",
       "      <td>1</td>\n",
       "      <td>2</td>\n",
       "      <td>1</td>\n",
       "      <td>0</td>\n",
       "      <td>3</td>\n",
       "      <td>0</td>\n",
       "      <td>6</td>\n",
       "    </tr>\n",
       "    <tr>\n",
       "      <th>5</th>\n",
       "      <td>897</td>\n",
       "      <td>3</td>\n",
       "      <td>0</td>\n",
       "      <td>1</td>\n",
       "      <td>1</td>\n",
       "      <td>0</td>\n",
       "      <td>1</td>\n",
       "      <td>1</td>\n",
       "      <td>3</td>\n",
       "    </tr>\n",
       "    <tr>\n",
       "      <th>6</th>\n",
       "      <td>898</td>\n",
       "      <td>3</td>\n",
       "      <td>1</td>\n",
       "      <td>2</td>\n",
       "      <td>0</td>\n",
       "      <td>2</td>\n",
       "      <td>2</td>\n",
       "      <td>1</td>\n",
       "      <td>6</td>\n",
       "    </tr>\n",
       "    <tr>\n",
       "      <th>7</th>\n",
       "      <td>899</td>\n",
       "      <td>2</td>\n",
       "      <td>0</td>\n",
       "      <td>2</td>\n",
       "      <td>2</td>\n",
       "      <td>0</td>\n",
       "      <td>1</td>\n",
       "      <td>0</td>\n",
       "      <td>4</td>\n",
       "    </tr>\n",
       "    <tr>\n",
       "      <th>8</th>\n",
       "      <td>900</td>\n",
       "      <td>3</td>\n",
       "      <td>1</td>\n",
       "      <td>2</td>\n",
       "      <td>0</td>\n",
       "      <td>1</td>\n",
       "      <td>3</td>\n",
       "      <td>1</td>\n",
       "      <td>6</td>\n",
       "    </tr>\n",
       "    <tr>\n",
       "      <th>9</th>\n",
       "      <td>901</td>\n",
       "      <td>3</td>\n",
       "      <td>0</td>\n",
       "      <td>2</td>\n",
       "      <td>2</td>\n",
       "      <td>0</td>\n",
       "      <td>1</td>\n",
       "      <td>0</td>\n",
       "      <td>6</td>\n",
       "    </tr>\n",
       "  </tbody>\n",
       "</table>\n",
       "</div>"
      ],
      "text/plain": [
       "   PassengerId  Pclass  Sex  Age  Fare  Embarked  Title  IsAlone  Age*Class\n",
       "0          892       3    0    3     0         2      1        1          9\n",
       "1          893       3    1    3     0         0      3        0          9\n",
       "2          894       2    0    4     1         2      1        1          8\n",
       "3          895       3    0    2     1         0      1        1          6\n",
       "4          896       3    1    2     1         0      3        0          6\n",
       "5          897       3    0    1     1         0      1        1          3\n",
       "6          898       3    1    2     0         2      2        1          6\n",
       "7          899       2    0    2     2         0      1        0          4\n",
       "8          900       3    1    2     0         1      3        1          6\n",
       "9          901       3    0    2     2         0      1        0          6"
      ]
     },
<<<<<<< HEAD
     "execution_count": 30,
=======
     "execution_count": 156,
>>>>>>> master
     "metadata": {},
     "output_type": "execute_result"
    }
   ],
   "source": [
    "test_df.head(10)"
   ]
  },
  {
   "cell_type": "markdown",
   "id": "bce8beac",
   "metadata": {
    "_cell_guid": "69783c08-c8cc-a6ca-2a9a-5e75581c6d31",
    "_uuid": "a55f20dd6654610ff2d66c1bf3e4c6c73dcef9e5"
   },
   "source": [
    "## Model, predict and solve\n",
    "\n",
    "Now we are ready to train a model and predict the required solution. There are 60+ predictive modelling algorithms to choose from. We must understand the type of problem and solution requirement to narrow down to a select few models which we can evaluate. Our problem is a classification and regression problem. We want to identify relationship between output (Survived or not) with other variables or features (Gender, Age, Port...). We are also perfoming a category of machine learning which is called supervised learning as we are training our model with a given dataset. With these two criteria - Supervised Learning plus Classification and Regression, we can narrow down our choice of models to a few. These include:\n",
    "\n",
    "- Logistic Regression\n",
    "- KNN or k-Nearest Neighbors\n",
    "- Support Vector Machines\n",
    "- Naive Bayes classifier\n",
    "- Decision Tree\n",
    "- Random Forrest\n",
    "- Perceptron\n",
    "- Artificial neural network\n",
    "- RVM or Relevance Vector Machine"
   ]
  },
  {
   "cell_type": "code",
<<<<<<< HEAD
   "execution_count": 31,
=======
   "execution_count": 157,
>>>>>>> master
   "id": "fcddfdb6",
   "metadata": {
    "_cell_guid": "0acf54f9-6cf5-24b5-72d9-29b30052823a",
    "_uuid": "04d2235855f40cffd81f76b977a500fceaae87ad"
   },
   "outputs": [
    {
     "data": {
      "text/plain": [
       "((891, 8), (891,), (418, 8))"
      ]
     },
<<<<<<< HEAD
     "execution_count": 31,
=======
     "execution_count": 157,
>>>>>>> master
     "metadata": {},
     "output_type": "execute_result"
    }
   ],
   "source": [
    "X_train = train_df.drop(\"Survived\", axis=1)\n",
    "Y_train = train_df[\"Survived\"]\n",
    "X_test  = test_df.drop(\"PassengerId\", axis=1).copy()\n",
    "X_train.shape, Y_train.shape, X_test.shape"
   ]
  },
  {
   "cell_type": "markdown",
   "id": "8a953cb4",
   "metadata": {
    "_cell_guid": "bae7f8d7-9da0-f4fd-bdb1-d97e719a18d7",
    "_uuid": "1c70e99920ae34adce03aaef38d61e2b83ff6a9c"
   },
   "source": [
    "This model uses a decision tree as a predictive model which maps features (tree branches) to conclusions about the target value (tree leaves). Tree models where the target variable can take a finite set of values are called classification trees; in these tree structures, leaves represent class labels and branches represent conjunctions of features that lead to those class labels. Decision trees where the target variable can take continuous values (typically real numbers) are called regression trees. Reference [Wikipedia](https://en.wikipedia.org/wiki/Decision_tree_learning).\n",
    "\n",
    "The model confidence score is the highest among models evaluated so far."
   ]
  },
  {
   "cell_type": "code",
<<<<<<< HEAD
   "execution_count": 32,
=======
   "execution_count": 227,
>>>>>>> master
   "id": "d1838615",
   "metadata": {
    "_cell_guid": "dd85f2b7-ace2-0306-b4ec-79c68cd3fea0",
    "_uuid": "1f94308b23b934123c03067e84027b507b989e52"
   },
   "outputs": [
    {
     "data": {
      "text/plain": [
       "86.76"
      ]
     },
<<<<<<< HEAD
     "execution_count": 32,
=======
     "execution_count": 227,
>>>>>>> master
     "metadata": {},
     "output_type": "execute_result"
    }
   ],
   "source": [
    "# Decision Tree\n",
    "\n",
    "decision_tree = DecisionTreeClassifier(max_depth=12, criterion='entropy', min_samples_split=2)\n",
    "clf = decision_tree.fit(X_train, Y_train)\n",
    "Y_pred = clf.predict(X_test)\n",
    "acc_decision_tree = round(clf.score(X_train, Y_train) * 100, 2)\n",
    "acc_decision_tree"
   ]
  },
  {
   "cell_type": "markdown",
   "id": "3bd74af5",
   "metadata": {},
   "source": [
    "## Q1(b) Plot decision tree"
   ]
  },
  {
   "cell_type": "code",
<<<<<<< HEAD
   "execution_count": 33,
=======
   "execution_count": 159,
>>>>>>> master
   "id": "26f368f6",
   "metadata": {},
   "outputs": [
    {
     "data": {
<<<<<<< HEAD
      "image/png": "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\n",
=======
      "image/png": "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\n",
>>>>>>> master
      "text/plain": [
       "<Figure size 1500x1000 with 1 Axes>"
      ]
     },
     "metadata": {},
     "output_type": "display_data"
    }
   ],
   "source": [
    "plt.figure(figsize=(15, 10))\n",
    "plot_tree(clf, filled=True)\n",
    "plt.show()"
   ]
  },
  {
   "cell_type": "markdown",
   "id": "a1f0f1e1",
   "metadata": {},
   "source": [
    "## Q1(c) Apply 5 fold cross validation"
   ]
  },
  {
   "cell_type": "code",
<<<<<<< HEAD
   "execution_count": 34,
=======
   "execution_count": 184,
>>>>>>> master
   "id": "57b3344b",
   "metadata": {},
   "outputs": [
    {
     "name": "stdout",
     "output_type": "stream",
     "text": [
<<<<<<< HEAD
      "Cross-validation scores: [0.77653631 0.7752809  0.80337079 0.80898876 0.8258427 ]\n",
      "Average Classification accuracy:  0.7980038917833155\n"
=======
      "Cross-validation scores: [0.77653631 0.7752809  0.80337079 0.80898876 0.82022472]\n",
      "Average Classification accuracy:  0.7968802962776975\n"
>>>>>>> master
     ]
    }
   ],
   "source": [
<<<<<<< HEAD
    "scores = cross_val_score(decision_tree, X_train, Y_train, cv=5, scoring='accuracy')\n",
=======
    "scores = cross_val_score(decision_tree, X_train, Y_train, cv=5)\n",
>>>>>>> master
    "print(\"Cross-validation scores:\", scores)\n",
    "print(\"Average Classification accuracy: \", scores.mean())"
   ]
  },
  {
   "cell_type": "markdown",
   "id": "be7c48ca",
   "metadata": {},
   "source": [
    "## Q1(d) Random forest learning model"
   ]
  },
  {
   "cell_type": "markdown",
   "id": "0318ebff",
   "metadata": {
    "_cell_guid": "85693668-0cd5-4319-7768-eddb62d2b7d0",
    "_uuid": "24f4e46f202a858076be91752170cad52aa9aefa"
   },
   "source": [
    "The next model Random Forests is one of the most popular. Random forests or random decision forests are an ensemble learning method for classification, regression and other tasks, that operate by constructing a multitude of decision trees (n_estimators=100) at training time and outputting the class that is the mode of the classes (classification) or mean prediction (regression) of the individual trees. Reference [Wikipedia](https://en.wikipedia.org/wiki/Random_forest).\n",
    "\n",
    "The model confidence score is the highest among models evaluated so far. We decide to use this model's output (Y_pred) for creating our competition submission of results."
   ]
  },
  {
   "cell_type": "code",
<<<<<<< HEAD
   "execution_count": 35,
=======
   "execution_count": 230,
>>>>>>> master
   "id": "5aae15e5",
   "metadata": {
    "_cell_guid": "f0694a8e-b618-8ed9-6f0d-8c6fba2c4567",
    "_uuid": "483c647d2759a2703d20785a44f51b6dee47d0db"
   },
   "outputs": [
    {
     "name": "stdout",
     "output_type": "stream",
     "text": [
<<<<<<< HEAD
      "Cross-validation scores: [0.78212291 0.78651685 0.79213483 0.7752809  0.85393258]\n",
      "Average Classification accuracy:  0.7979976147134517\n"
=======
      "Cross-validation scores: [0.7877095  0.79213483 0.81460674 0.79213483 0.84831461]\n",
      "Average Classification accuracy:  0.8069801016885318\n"
>>>>>>> master
     ]
    }
   ],
   "source": [
    "# Random Forest\n",
    "random_forest = RandomForestClassifier(n_estimators=100)\n",
    "\n",
    "scores = cross_val_score(random_forest, X_train, Y_train, cv=5)\n",
    "\n",
    "print(\"Cross-validation scores:\", scores)\n",
    "print(\"Average Classification accuracy: \", scores.mean())"
   ]
  }
 ],
 "metadata": {
  "kernelspec": {
   "display_name": "Python 3 (ipykernel)",
   "language": "python",
   "name": "python3"
  },
  "language_info": {
   "codemirror_mode": {
    "name": "ipython",
    "version": 3
   },
   "file_extension": ".py",
   "mimetype": "text/x-python",
   "name": "python",
   "nbconvert_exporter": "python",
   "pygments_lexer": "ipython3",
   "version": "3.9.13"
  }
 },
 "nbformat": 4,
 "nbformat_minor": 5
}
