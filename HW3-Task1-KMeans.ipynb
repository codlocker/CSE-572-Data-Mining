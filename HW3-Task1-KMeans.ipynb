{
 "cells": [
  {
   "cell_type": "code",
   "execution_count": 8,
   "id": "781bedd4",
   "metadata": {},
   "outputs": [],
   "source": [
    "import matplotlib.pyplot as plt\n",
    "import numpy as np\n",
    "import pandas as pd\n",
    "from sklearn.cluster import KMeans\n",
    "from sklearn.metrics.pairwise import pairwise_distances\n",
    "from sklearn.metrics import accuracy_score"
   ]
  },
  {
   "cell_type": "code",
   "execution_count": 9,
   "id": "2c26f157",
   "metadata": {},
   "outputs": [
    {
     "name": "stdout",
     "output_type": "stream",
     "text": [
      "Data:  (10000, 784)\n",
      "Labels:  (10000,)\n"
     ]
    }
   ],
   "source": [
    "data = np.array(pd.read_csv('datasets/kmeans_data/data.csv', header=None))\n",
    "labels = np.ravel(pd.read_csv('datasets/kmeans_data/label.csv', header=None))\n",
    "print('Data: ', data.shape)\n",
    "print('Labels: ', labels.shape)"
   ]
  },
  {
   "cell_type": "code",
   "execution_count": 10,
   "id": "d8c6d437",
   "metadata": {},
   "outputs": [],
   "source": [
    "unique_labels = np.unique(labels)\n",
    "no_of_clusters = unique_labels.size"
   ]
  },
  {
   "cell_type": "code",
   "execution_count": 11,
   "id": "b0aa0ab8",
   "metadata": {},
   "outputs": [
    {
     "data": {
      "text/plain": [
       "25319139512.32306"
      ]
     },
     "execution_count": 11,
     "metadata": {},
     "output_type": "execute_result"
    }
   ],
   "source": [
    "euclidean_kmeans = KMeans(n_clusters=no_of_clusters, random_state=0)\n",
    "labels_euclidean = euclidean_kmeans.fit(data)\n",
    "sse_euclidean = euclidean_kmeans.inertia_\n",
    "sse_euclidean"
   ]
  },
  {
   "cell_type": "code",
   "execution_count": 12,
   "id": "587985f9",
   "metadata": {},
   "outputs": [
    {
     "data": {
      "text/plain": [
       "672164.9402909297"
      ]
     },
     "execution_count": 12,
     "metadata": {},
     "output_type": "execute_result"
    }
   ],
   "source": [
    "cosine_distances = pairwise_distances(data, metric='cosine')\n",
    "cosine_kmeans = KMeans(n_clusters=no_of_clusters, random_state=0)\n",
    "labels_cosine = cosine_kmeans.fit(cosine_distances)\n",
    "sse_cosine = cosine_kmeans.inertia_\n",
    "\n",
    "sse_cosine"
   ]
  },
  {
   "cell_type": "code",
   "execution_count": 13,
   "id": "ff04325e",
   "metadata": {},
   "outputs": [
    {
     "data": {
      "text/plain": [
       "33029.96230483301"
      ]
     },
     "execution_count": 13,
     "metadata": {},
     "output_type": "execute_result"
    }
   ],
   "source": [
    "jaccard_distances = pairwise_distances(data, metric='hamming')\n",
    "jaccard_kmeans = KMeans(n_clusters=no_of_clusters, random_state=0)\n",
    "labels_jaccard = jaccard_kmeans.fit(jaccard_distances)\n",
    "sse_jaccard = jaccard_kmeans.inertia_\n",
    "\n",
    "sse_jaccard"
   ]
  },
  {
   "cell_type": "code",
   "execution_count": 15,
   "id": "e8cccf50",
   "metadata": {},
   "outputs": [
    {
     "name": "stdout",
     "output_type": "stream",
     "text": [
      "Accuracy Euclidean-K-means: 0.5922\n",
      "Accuracy Cosine-K-means: 0.5147\n",
      "Accuracy Jaccard-K-means: 0.3399\n"
     ]
    },
    {
     "name": "stderr",
     "output_type": "stream",
     "text": [
      "C:\\Users\\isahoo1\\AppData\\Local\\Temp\\ipykernel_21180\\3464850726.py:3: DeprecationWarning: `np.int` is a deprecated alias for the builtin `int`. To silence this warning, use `int` by itself. Doing this will not modify any behavior and is safe. When replacing `np.int`, you may wish to use e.g. `np.int64` or `np.int32` to specify the precision. If you wish to review your current use, check the release note link for additional information.\n",
      "Deprecated in NumPy 1.20; for more details and guidance: https://numpy.org/devdocs/release/1.20.0-notes.html#deprecations\n",
      "  cluster_labels = np.zeros(len(labels), dtype=np.int)\n"
     ]
    }
   ],
   "source": [
    "def label_clusters(labels, true_labels):\n",
    "    unique_labels = np.unique(true_labels)\n",
    "    cluster_labels = np.zeros(len(labels), dtype=np.int)\n",
    "    for cluster in range(no_of_clusters):\n",
    "        cluster_indices = np.where(labels == cluster)[0]\n",
    "        cluster_true_labels = true_labels[cluster_indices]\n",
    "        majority_label = np.argmax([np.sum(cluster_true_labels == label) for label in unique_labels])\n",
    "        cluster_labels[cluster_indices] = majority_label\n",
    "    return cluster_labels\n",
    "\n",
    "# Label clusters using majority vote\n",
    "cluster_labels_euclidean = label_clusters(labels_euclidean.labels_, labels)\n",
    "cluster_labels_cosine = label_clusters(labels_cosine.labels_, labels)\n",
    "cluster_labels_jaccard = label_clusters(labels_jaccard.labels_, labels)\n",
    "\n",
    "# Compute predictive accuracy\n",
    "accuracy_euclidean = accuracy_score(labels, cluster_labels_euclidean)\n",
    "accuracy_cosine = accuracy_score(labels, cluster_labels_cosine)\n",
    "accuracy_jaccard = accuracy_score(labels, cluster_labels_jaccard)\n",
    "\n",
    "print(\"Accuracy Euclidean-K-means:\", accuracy_euclidean)\n",
    "print(\"Accuracy Cosine-K-means:\", accuracy_cosine)\n",
    "print(\"Accuracy Jaccard-K-means:\", accuracy_jaccard)"
   ]
  }
 ],
 "metadata": {
  "kernelspec": {
   "display_name": "Python 3 (ipykernel)",
   "language": "python",
   "name": "python3"
  },
  "language_info": {
   "codemirror_mode": {
    "name": "ipython",
    "version": 3
   },
   "file_extension": ".py",
   "mimetype": "text/x-python",
   "name": "python",
   "nbconvert_exporter": "python",
   "pygments_lexer": "ipython3",
   "version": "3.9.13"
  }
 },
 "nbformat": 4,
 "nbformat_minor": 5
}
