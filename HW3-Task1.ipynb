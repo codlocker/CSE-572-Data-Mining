{
 "cells": [
  {
   "cell_type": "code",
   "execution_count": 22,
   "id": "17842226",
   "metadata": {},
   "outputs": [],
   "source": [
    "'''\n",
    "Created on May 6, 2013\n",
    "Last Update on Oct 9, 2014\n",
    "\n",
    "Wrap k-means (implemented by sklearn) clustering algorithm .\n",
    "\n",
    "@author: HeXiangnan (xiangnan@comp.nus.edu.sg)\n",
    "'''\n",
    "\n",
    "from sklearn.cluster import KMeans\n",
    "from scipy.sparse import csr_matrix\n",
    "from sklearn.preprocessing import normalize\n",
    "\n",
    "def norm_data(data, norm):\n",
    "    \"\"\"\n",
    "    norm = 'l1', 'l2' or 'l0' or 'l2+l0'...\n",
    "        'l0': normalize the data matrix as the sum of all entries=1\n",
    "    \"\"\"\n",
    "    data_norm = data\n",
    "    norms = norm.split(\"+\")  # the sequence of norm\n",
    "    for norm in norms:\n",
    "        if norm in ['l1', 'l2']:\n",
    "            data_norm = normalize(data_norm, norm, axis=1, copy=True)  # don't change the original input data\n",
    "        if norm == \"l0\":\n",
    "            _sum = data.sum()\n",
    "            data_norm = data_norm / _sum\n",
    "\n",
    "    return data_norm\n",
    "\n",
    "def kmeans(data, k, norm=\"l2\", n_init = 1):\n",
    "    \"\"\"\n",
    "    data: matrix, #item * #feature\n",
    "    \"\"\"\n",
    "    if norm == None:\n",
    "        km_model = KMeans(n_clusters=k, init='random', max_iter=500, n_init = n_init, verbose = False)\n",
    "        km_model.fit(data)\n",
    "        return km_model.labels_, km_model.cluster_centers_\n",
    "        \n",
    "    data_norm = norm_data(data, norm)\n",
    "    km_model = KMeans(n_clusters=k, init='random', max_iter=500, n_init = n_init, verbose = False)\n",
    "    km_model.fit(data_norm)\n",
    "    # km_model.cluster_centers_ is k*N of <type 'numpy.ndarray'>\n",
    "    # H: converted km_model.cluster_centers_ to csr_matrix, shape: k*N\n",
    "    H = csr_matrix(km_model.cluster_centers_)\n",
    "    H = H.todense()\n",
    "    H = H + 0.1 # Add a small number to each element of the centroid matrix\n",
    "    H_norm = norm_data(H, norm)\n",
    "    \n",
    "    return km_model.labels_, H_norm"
   ]
  },
  {
   "cell_type": "code",
   "execution_count": 23,
   "id": "7fab29c3",
   "metadata": {},
   "outputs": [],
   "source": [
    "import numpy as np\n",
    "import pandas as pd"
   ]
  },
  {
   "cell_type": "code",
   "execution_count": 24,
   "id": "c8fca461",
   "metadata": {},
   "outputs": [
    {
     "name": "stdout",
     "output_type": "stream",
     "text": [
      "Data:  (10000, 784)\n",
      "Labels:  (10000, 1)\n"
     ]
    }
   ],
   "source": [
    "data = pd.read_csv('datasets/kmeans_data/data.csv', header=None)\n",
    "labels = pd.read_csv('datasets/kmeans_data/label.csv', header=None)\n",
    "print('Data: ', data.shape)\n",
    "print('Labels: ', labels.shape)"
   ]
  },
  {
   "cell_type": "code",
   "execution_count": 25,
   "id": "5c9f213e",
   "metadata": {},
   "outputs": [
    {
     "name": "stderr",
     "output_type": "stream",
     "text": [
      "C:\\Users\\isahoo1\\Anaconda3\\lib\\site-packages\\sklearn\\utils\\validation.py:593: FutureWarning: np.matrix usage is deprecated in 1.0 and will raise a TypeError in 1.2. Please convert to a numpy array with np.asarray. For more information see: https://numpy.org/doc/stable/reference/generated/numpy.matrix.html\n",
      "  warnings.warn(\n"
     ]
    },
    {
     "data": {
      "text/plain": [
       "(array([4, 0, 2, ..., 4, 3, 1]),\n",
       " array([[0.03055375, 0.03055375, 0.03055375, ..., 0.03055375, 0.03055375,\n",
       "         0.03055375],\n",
       "        [0.03065912, 0.03065912, 0.03065912, ..., 0.03065912, 0.03065912,\n",
       "         0.03065912],\n",
       "        [0.03141772, 0.03141772, 0.03141772, ..., 0.03141772, 0.03141772,\n",
       "         0.03141772],\n",
       "        [0.03093121, 0.03093121, 0.03093121, ..., 0.03093121, 0.03093121,\n",
       "         0.03093121],\n",
       "        [0.03093815, 0.03093815, 0.03093815, ..., 0.03093815, 0.03093815,\n",
       "         0.03093815]]))"
      ]
     },
     "execution_count": 25,
     "metadata": {},
     "output_type": "execute_result"
    }
   ],
   "source": [
    "result = kmeans(data=data, k=5)\n",
    "result"
   ]
  }
 ],
 "metadata": {
  "kernelspec": {
   "display_name": "Python 3 (ipykernel)",
   "language": "python",
   "name": "python3"
  },
  "language_info": {
   "codemirror_mode": {
    "name": "ipython",
    "version": 3
   },
   "file_extension": ".py",
   "mimetype": "text/x-python",
   "name": "python",
   "nbconvert_exporter": "python",
   "pygments_lexer": "ipython3",
   "version": "3.9.13"
  }
 },
 "nbformat": 4,
 "nbformat_minor": 5
}
