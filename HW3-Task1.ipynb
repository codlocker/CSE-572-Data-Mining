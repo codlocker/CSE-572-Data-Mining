{
 "cells": [
  {
   "cell_type": "markdown",
   "id": "8830f3f0",
   "metadata": {},
   "source": [
    "### Task 1"
   ]
  },
  {
   "cell_type": "code",
   "execution_count": 2,
   "id": "7fab29c3",
   "metadata": {},
   "outputs": [],
   "source": [
    "import matplotlib.pyplot as plt\n",
    "import numpy as np\n",
    "import pandas as pd\n",
    "from sklearn.metrics.pairwise import pairwise_distances\n",
    "from sklearn.metrics import accuracy_score\n",
    "import warnings\n",
    "warnings.filterwarnings('ignore')"
   ]
  },
  {
   "cell_type": "code",
   "execution_count": 3,
   "id": "dc928e62",
   "metadata": {},
   "outputs": [],
   "source": [
    "class KMeansClustering:\n",
    "    \n",
    "    def __init__(self, k, stopping_criterion=\"no_change\") -> None:\n",
    "        self.k = k\n",
    "        self.stopping_criterion = stopping_criterion\n",
    "        self.centroids = None\n",
    "        self._sse_score = None\n",
    "        self._last_sse_score = float('inf')\n",
    "        self._iterations = 0\n",
    "\n",
    "    def euclidean_distance(self, data_point, centroids):\n",
    "        return np.sqrt(np.sum((centroids - data_point)**2, axis=1))\n",
    "\n",
    "    def __sum_of_squared_errors_calc(self, centroids, data, y):\n",
    "        sum_of_errors = 0.0\n",
    "        for idx, d in enumerate(data):\n",
    "            sum_of_errors += np.sum((centroids[y[idx]] - d) ** 2)\n",
    "\n",
    "        return sum_of_errors\n",
    "\n",
    "    def get_sum_of_squared_error(self):\n",
    "        return self._sse_score\n",
    "    def get_iterations_to_converge(self):\n",
    "        return self._iterations\n",
    "    \n",
    "    def fit(self, X, max_iterations=200):\n",
    "        self.centroids = np.random.uniform(\n",
    "            low=np.amin(X, axis=0),\n",
    "            high=np.amax(X, axis=0),\n",
    "            size=(self.k, X.shape[1]))\n",
    "\n",
    "        y = []\n",
    "        for _ in range(max_iterations):\n",
    "            y = []\n",
    "            for data_point in X:\n",
    "\n",
    "                distances = self.euclidean_distance(\n",
    "                    data_point=data_point,\n",
    "                    centroids=self.centroids)\n",
    "                # print(distances.shape)\n",
    "                cluster_num = np.argmin(distances)\n",
    "                y.append(cluster_num)\n",
    "            y = np.asarray(y)\n",
    "\n",
    "            cluster_indices = []\n",
    "\n",
    "            for idx in range(self.k):\n",
    "                cluster_indices.append(np.argwhere(y == idx))\n",
    "\n",
    "            cluster_centers = []\n",
    "\n",
    "            for i, indices in enumerate(cluster_indices):\n",
    "                if len(indices) == 0:\n",
    "                    cluster_centers.append(self.centroids[i])\n",
    "                else:\n",
    "                    cluster_centers.append(np.mean(X[indices], axis=0)[0])\n",
    "\n",
    "            if self.stopping_criterion == \"no_change\" and np.max(self.centroids - np.array(cluster_centers)) < 1e-3:\n",
    "                break\n",
    "            elif self.stopping_criterion == \"increase_sse\":\n",
    "                current_sse = self.__sum_of_squared_errors_calc(X, np.array(cluster_centers), y)\n",
    "                if current_sse > self._last_sse_score:\n",
    "                    break\n",
    "                self._last_sse_score = current_sse\n",
    "            else:\n",
    "                self.centroids = np.array(cluster_centers)\n",
    "            self._iterations += 1\n",
    "\n",
    "        # Calculate the final SSE after performing K-means\n",
    "        self._sse_score = self.__sum_of_squared_errors_calc(X, self.centroids, y)\n",
    "        \n",
    "        return y"
   ]
  },
  {
   "cell_type": "code",
   "execution_count": 4,
   "id": "401024a1",
   "metadata": {},
   "outputs": [
    {
     "name": "stdout",
     "output_type": "stream",
     "text": [
      "Data:  (10000, 784)\n",
      "Labels:  (10000,)\n"
     ]
    }
   ],
   "source": [
    "data = np.array(pd.read_csv('datasets/kmeans_data/data.csv', header=None))\n",
    "labels = np.ravel(pd.read_csv('datasets/kmeans_data/label.csv', header=None))\n",
    "print('Data: ', data.shape)\n",
    "print('Labels: ', labels.shape)"
   ]
  },
  {
   "cell_type": "code",
   "execution_count": 5,
   "id": "d2fa1ecd",
   "metadata": {},
   "outputs": [],
   "source": [
    "unique_labels = np.unique(labels)\n",
    "no_of_clusters = unique_labels.size\n",
    "MAX_ITERATIONS = 100"
   ]
  },
  {
   "cell_type": "code",
   "execution_count": 6,
   "id": "780ff701",
   "metadata": {},
   "outputs": [],
   "source": [
    "euclidean_kmeans_m = KMeansClustering(k=no_of_clusters)\n",
    "euclidean_kmeans_m_labels = euclidean_kmeans_m.fit(X=data, max_iterations=MAX_ITERATIONS)"
   ]
  },
  {
   "cell_type": "code",
   "execution_count": 7,
   "id": "449b1ca4",
   "metadata": {},
   "outputs": [],
   "source": [
    "cosine_distances = pairwise_distances(data, metric='cosine')\n",
    "cosine_kmeans_m = KMeansClustering(k=no_of_clusters)\n",
    "cosine_kmeans_m_labels = cosine_kmeans_m.fit(cosine_distances, max_iterations=MAX_ITERATIONS)"
   ]
  },
  {
   "cell_type": "code",
   "execution_count": 8,
   "id": "1ec7cba7",
   "metadata": {},
   "outputs": [],
   "source": [
    "jaccard_distances = pairwise_distances(data, metric='hamming')\n",
    "jaccard_kmeans_m = KMeansClustering(k=no_of_clusters)\n",
    "jaccard_kmeans_m_labels = jaccard_kmeans_m.fit(X=jaccard_distances, max_iterations=MAX_ITERATIONS)"
   ]
  },
  {
   "cell_type": "markdown",
   "id": "934554fb",
   "metadata": {},
   "source": [
    "#### Q1. Run K-means clustering with Euclidean, Cosine and Jarcard similarity. Specify K= the number of categorical values of y (the number of classifications). Compare the SSEs of Euclidean-K-means, Cosine-K-means, Jarcard-K-means. Which method is better?\n",
    "\n",
    "From the SSE values, the one with the lowest SSE is Jaccard-K-means. So using Jaccard K-Means is betterwith the lowest SSE of 1059.83."
   ]
  },
  {
   "cell_type": "code",
   "execution_count": 9,
   "id": "5d8aab60",
   "metadata": {},
   "outputs": [
    {
     "data": {
      "text/plain": [
       "53414304.183158375"
      ]
     },
     "execution_count": 9,
     "metadata": {},
     "output_type": "execute_result"
    }
   ],
   "source": [
    "sse_euclidean_m = euclidean_kmeans_m.get_sum_of_squared_error()\n",
    "sse_euclidean_m"
   ]
  },
  {
   "cell_type": "code",
   "execution_count": 10,
   "id": "692a4da9",
   "metadata": {},
   "outputs": [
    {
     "data": {
      "text/plain": [
       "3794.605548285986"
      ]
     },
     "execution_count": 10,
     "metadata": {},
     "output_type": "execute_result"
    }
   ],
   "source": [
    "sse_cosine_m = cosine_kmeans_m.get_sum_of_squared_error()\n",
    "sse_cosine_m"
   ]
  },
  {
   "cell_type": "code",
   "execution_count": 11,
   "id": "9950e6e1",
   "metadata": {},
   "outputs": [
    {
     "data": {
      "text/plain": [
       "1515.631195969257"
      ]
     },
     "execution_count": 11,
     "metadata": {},
     "output_type": "execute_result"
    }
   ],
   "source": [
    "see_jaccard_m = jaccard_kmeans_m.get_sum_of_squared_error()\n",
    "see_jaccard_m"
   ]
  },
  {
   "cell_type": "markdown",
   "id": "01de4a35",
   "metadata": {},
   "source": [
    "#### Q2. Compare the accuracies of Euclidean-K-means Cosine-K-means, Jarcard-K-means. First, label each cluster using the majority vote label of the data points in that cluster. Later, compute the predictive accuracy of Euclidean-K-means, Cosine-K-means, Jarcard-K-means. Which metric is better? (10 points)\n",
    "\n",
    "Based on the accuracy computation of majority vote, Euclidean accuracy seems to perform better."
   ]
  },
  {
   "cell_type": "code",
   "execution_count": 12,
   "id": "7f30e322",
   "metadata": {},
   "outputs": [
    {
     "name": "stdout",
     "output_type": "stream",
     "text": [
      "Accuracy Euclidean-K-means: 0.5924\n",
      "Accuracy Cosine-K-means: 0.4826\n",
      "Accuracy Jaccard-K-means: 0.28\n"
     ]
    }
   ],
   "source": [
    "def label_clusters(labels, true_labels):\n",
    "    unique_labels = np.unique(true_labels)\n",
    "    cluster_labels = np.zeros(len(labels), dtype=np.int)\n",
    "    for cluster in range(no_of_clusters):\n",
    "        cluster_indices = np.where(labels == cluster)[0]\n",
    "        cluster_true_labels = true_labels[cluster_indices]\n",
    "        majority_label = np.argmax([np.sum(cluster_true_labels == label) for label in unique_labels])\n",
    "        cluster_labels[cluster_indices] = majority_label\n",
    "    return cluster_labels\n",
    "\n",
    "# Label clusters using majority vote\n",
    "cluster_labels_euclidean = label_clusters(euclidean_kmeans_m_labels, labels)\n",
    "cluster_labels_cosine = label_clusters(cosine_kmeans_m_labels, labels)\n",
    "cluster_labels_jaccard = label_clusters(jaccard_kmeans_m_labels, labels)\n",
    "\n",
    "# Compute predictive accuracy\n",
    "accuracy_euclidean = accuracy_score(labels, cluster_labels_euclidean)\n",
    "accuracy_cosine = accuracy_score(labels, cluster_labels_cosine)\n",
    "accuracy_jaccard = accuracy_score(labels, cluster_labels_jaccard)\n",
    "\n",
    "print(\"Accuracy Euclidean-K-means:\", accuracy_euclidean)\n",
    "print(\"Accuracy Cosine-K-means:\", accuracy_cosine)\n",
    "print(\"Accuracy Jaccard-K-means:\", accuracy_jaccard)"
   ]
  },
  {
   "cell_type": "markdown",
   "id": "3a926460",
   "metadata": {},
   "source": [
    "#### Q3: Set up the same stop criteria: “when there is no change in centroid position OR when the SSE value increases in the next iteration OR when the maximum preset value (e.g., 500, you can set the preset value by yourself) of iteration is complete”, for Euclidean-K-means, Cosine-K\u0002means, Jarcard-K-means. Which method requires more iterations and times to converge? (10 points)"
   ]
  },
  {
   "cell_type": "markdown",
   "id": "82d193c4",
   "metadata": {},
   "source": [
    "Note : Max iterations have been set to 500 and the change in centroid position is less than 1e-3.\n",
    "\n",
    "From the results below we see that Cosine-K means takes 57 iterations to converge hence the Cosine-K means takes more time to converge followed by Euclidean-K means and then Jaccard-K means."
   ]
  },
  {
   "cell_type": "code",
   "execution_count": 13,
   "id": "b8cb283a",
   "metadata": {},
   "outputs": [
    {
     "name": "stdout",
     "output_type": "stream",
     "text": [
      "Iterations to converge for Euclidean-K-means = 76\n",
      "Iterations to converge for Cosine-K-means = 13\n",
      "Iterations to converge for Jaccard-K-means = 5\n"
     ]
    }
   ],
   "source": [
    "print(\"Iterations to converge for Euclidean-K-means =\", euclidean_kmeans_m.get_iterations_to_converge())\n",
    "print(\"Iterations to converge for Cosine-K-means =\", cosine_kmeans_m.get_iterations_to_converge())\n",
    "print(\"Iterations to converge for Jaccard-K-means =\", jaccard_kmeans_m.get_iterations_to_converge())"
   ]
  },
  {
   "cell_type": "markdown",
   "id": "14f03154",
   "metadata": {},
   "source": [
    "**Q4:** Compare the SSEs of Euclidean-K-means Cosine-K-means, Jarcard-K-means with respect to \n",
    "the following three terminating conditions: (10 points)\n",
    "  - when there is no change in centroid position\n",
    "  - when the SSE value increases in the next iteration\n",
    "  - when the maximum preset value (e.g., 100) of iteration is complete"
   ]
  },
  {
   "cell_type": "markdown",
   "id": "f39e076e",
   "metadata": {},
   "source": [
    "##### (a) Check for SSE for Euclidean K-means, Cosine K-means and Jacard K-means when there is no change in centroid position"
   ]
  },
  {
   "cell_type": "code",
   "execution_count": 14,
   "id": "6cd88690",
   "metadata": {},
   "outputs": [
    {
     "name": "stdout",
     "output_type": "stream",
     "text": [
      "SSE of Euclidean K-means when there is no change in centroid position = 69805396.6262142\n"
     ]
    }
   ],
   "source": [
    "euclidean_kmeans_1 = KMeansClustering(k=no_of_clusters, stopping_criterion=\"no_change\")\n",
    "euclidean_kmeans_1_predicted_labels = euclidean_kmeans_1.fit(data, max_iterations=MAX_ITERATIONS)\n",
    "print('SSE of Euclidean K-means when there is no change in centroid position =', euclidean_kmeans_1.get_sum_of_squared_error())"
   ]
  },
  {
   "cell_type": "code",
   "execution_count": 15,
   "id": "3ae412d8",
   "metadata": {},
   "outputs": [
    {
     "name": "stdout",
     "output_type": "stream",
     "text": [
      "SSE of Cosine K-means when there is no change in centroid position = 6684.063186410751\n"
     ]
    }
   ],
   "source": [
    "cosine_kmeans_1 = KMeansClustering(k=no_of_clusters, stopping_criterion=\"no_change\")\n",
    "cosine_kmeans_1_predicted_labels = cosine_kmeans_1.fit(cosine_distances, max_iterations=MAX_ITERATIONS)\n",
    "print('SSE of Cosine K-means when there is no change in centroid position =', cosine_kmeans_1.get_sum_of_squared_error())"
   ]
  },
  {
   "cell_type": "code",
   "execution_count": 16,
   "id": "43c237fe",
   "metadata": {},
   "outputs": [
    {
     "name": "stdout",
     "output_type": "stream",
     "text": [
      "SSE of Jaccard K-means when there is no change in centroid position = 2011.7288898880395\n"
     ]
    }
   ],
   "source": [
    "jaccard_kmeans_1 = KMeansClustering(k=no_of_clusters, stopping_criterion=\"no_change\")\n",
    "jaccard_kmeans_1_predicted_labels = jaccard_kmeans_1.fit(jaccard_distances, max_iterations=MAX_ITERATIONS)\n",
    "print('SSE of Jaccard K-means when there is no change in centroid position =', jaccard_kmeans_1.get_sum_of_squared_error())"
   ]
  },
  {
   "cell_type": "markdown",
   "id": "a3275361",
   "metadata": {},
   "source": [
    "##### (b) Check for SSE for Euclidean K-means, Cosine K-means and Jacard K-means when the SSE value increases in the next iteration"
   ]
  },
  {
   "cell_type": "code",
   "execution_count": 17,
   "id": "6c2ae6a4",
   "metadata": {},
   "outputs": [
    {
     "name": "stdout",
     "output_type": "stream",
     "text": [
      "SSE of Euclidean K-means when the SSE value increases in the next iteration = 126961038.58517787\n"
     ]
    }
   ],
   "source": [
    "euclidean_kmeans_2 = KMeansClustering(k=no_of_clusters, stopping_criterion=\"increase_sse\")\n",
    "euclidean_kmeans_2_predicted_labels = euclidean_kmeans_2.fit(data, max_iterations=MAX_ITERATIONS)\n",
    "print('SSE of Euclidean K-means when the SSE value increases in the next iteration =',\n",
    "      euclidean_kmeans_2.get_sum_of_squared_error())"
   ]
  },
  {
   "cell_type": "code",
   "execution_count": 18,
   "id": "2aad3eb6",
   "metadata": {},
   "outputs": [
    {
     "name": "stdout",
     "output_type": "stream",
     "text": [
      "SSE of Cosine K-means when the SSE value increases in the next iteration = 11480.31721225982\n"
     ]
    }
   ],
   "source": [
    "cosine_kmeans_2 = KMeansClustering(k=no_of_clusters, stopping_criterion=\"increase_sse\")\n",
    "cosine_kmeans_2_predicted_labels = cosine_kmeans_2.fit(cosine_distances, max_iterations=MAX_ITERATIONS)\n",
    "print('SSE of Cosine K-means when the SSE value increases in the next iteration =',\n",
    "      cosine_kmeans_2.get_sum_of_squared_error())"
   ]
  },
  {
   "cell_type": "code",
   "execution_count": 19,
   "id": "5e90c91a",
   "metadata": {},
   "outputs": [
    {
     "name": "stdout",
     "output_type": "stream",
     "text": [
      "SSE of Jaccard K-means when the SSE value increases in the next iteration = 2512.3304722666135\n"
     ]
    }
   ],
   "source": [
    "jaccard_kmeans_2 = KMeansClustering(k=no_of_clusters, stopping_criterion=\"increase_sse\")\n",
    "jaccard_kmeans_2_predicted_labels = jaccard_kmeans_2.fit(jaccard_distances, max_iterations=MAX_ITERATIONS)\n",
    "print('SSE of Jaccard K-means when the SSE value increases in the next iteration =',\n",
    "      jaccard_kmeans_2.get_sum_of_squared_error())"
   ]
  },
  {
   "cell_type": "markdown",
   "id": "e78fcdcb",
   "metadata": {},
   "source": [
    "##### (c) Check for SSE for Euclidean K-means, Cosine K-means and Jacard K-means when the maximum preset value (e.g., 100) of iteration is complete"
   ]
  },
  {
   "cell_type": "code",
   "execution_count": 20,
   "id": "2bddc8e7",
   "metadata": {},
   "outputs": [
    {
     "name": "stdout",
     "output_type": "stream",
     "text": [
      "SSE of Euclidean K-means when the maximum preset value 100 is complete = 35280045.88769699\n"
     ]
    }
   ],
   "source": [
    "euclidean_kmeans_3 = KMeansClustering(k=no_of_clusters, stopping_criterion=\"max_iterations\")\n",
    "euclidean_kmeans_3_predicted_labels = euclidean_kmeans_3.fit(data, max_iterations=MAX_ITERATIONS)\n",
    "print(f'SSE of Euclidean K-means when the maximum preset value {MAX_ITERATIONS} is complete =',\n",
    "      euclidean_kmeans_3.get_sum_of_squared_error())"
   ]
  },
  {
   "cell_type": "code",
   "execution_count": 21,
   "id": "29d45cd2",
   "metadata": {},
   "outputs": [
    {
     "name": "stdout",
     "output_type": "stream",
     "text": [
      "SSE of Cosine K-means when the maximum preset value 100 is complete = 5157.762447672464\n"
     ]
    }
   ],
   "source": [
    "cosine_kmeans_3 = KMeansClustering(k=no_of_clusters, stopping_criterion=\"max_iterations\")\n",
    "cosine_kmeans_3_predicted_labels = cosine_kmeans_3.fit(cosine_distances, max_iterations=MAX_ITERATIONS)\n",
    "print(f'SSE of Cosine K-means when the maximum preset value {MAX_ITERATIONS} is complete =',\n",
    "      cosine_kmeans_3.get_sum_of_squared_error())"
   ]
  },
  {
   "cell_type": "code",
   "execution_count": null,
   "id": "bb0d820b",
   "metadata": {},
   "outputs": [],
   "source": [
    "jaccard_kmeans_3 = KMeansClustering(k=no_of_clusters, stopping_criterion=\"max_iterations\")\n",
    "jaccard_kmeans_3_predicted_labels = jaccard_kmeans_3.fit(jaccard_distances, max_iterations=MAX_ITERATIONS)\n",
    "print(f'SSE of Jaccard K-means when the maximum preset value {MAX_ITERATIONS} is complete =',\n",
    "      jaccard_kmeans_3.get_sum_of_squared_error())"
   ]
  }
 ],
 "metadata": {
  "kernelspec": {
   "display_name": "Python 3 (ipykernel)",
   "language": "python",
   "name": "python3"
  },
  "language_info": {
   "codemirror_mode": {
    "name": "ipython",
    "version": 3
   },
   "file_extension": ".py",
   "mimetype": "text/x-python",
   "name": "python",
   "nbconvert_exporter": "python",
   "pygments_lexer": "ipython3",
   "version": "3.9.13"
  }
 },
 "nbformat": 4,
 "nbformat_minor": 5
}
