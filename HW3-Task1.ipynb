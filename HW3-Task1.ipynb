{
 "cells": [
  {
   "cell_type": "markdown",
   "id": "8830f3f0",
   "metadata": {},
   "source": [
    "### Task 1"
   ]
  },
  {
   "cell_type": "code",
   "execution_count": 20,
   "id": "7fab29c3",
   "metadata": {},
   "outputs": [],
   "source": [
    "import matplotlib.pyplot as plt\n",
    "from IPython.display import display, Markdown\n",
    "import numpy as np\n",
    "import pandas as pd\n",
    "from sklearn.metrics.pairwise import pairwise_distances\n",
    "from sklearn.metrics import accuracy_score\n",
    "import warnings\n",
    "warnings.filterwarnings('ignore')"
   ]
  },
  {
   "cell_type": "code",
   "execution_count": 21,
   "id": "dc928e62",
   "metadata": {},
   "outputs": [],
   "source": [
    "class KMeansClustering:\n",
    "    \n",
    "    def __init__(self, k, stopping_criterion=\"no_change\") -> None:\n",
    "        self.k = k\n",
    "        self.stopping_criterion = stopping_criterion\n",
    "        self.centroids = None\n",
    "        self._sse_score = None\n",
    "        self._last_sse_score = float('inf')\n",
    "        self._iterations = 0\n",
    "\n",
    "    def euclidean_distance(self, data_point, centroids):\n",
    "        return np.sqrt(np.sum((centroids - data_point)**2, axis=1))\n",
    "\n",
    "    def __sum_of_squared_errors_calc(self, centroids, data, y):\n",
    "        sum_of_errors = 0.0\n",
    "        for idx, d in enumerate(data):\n",
    "            sum_of_errors += np.sum((centroids[y[idx]] - d) ** 2)\n",
    "\n",
    "        return sum_of_errors\n",
    "\n",
    "    def get_sum_of_squared_error(self):\n",
    "        return self._sse_score\n",
    "    def get_iterations_to_converge(self):\n",
    "        return self._iterations\n",
    "    \n",
    "    def fit(self, X, max_iterations=200):\n",
    "        self.centroids = np.random.uniform(\n",
    "            low=np.amin(X, axis=0),\n",
    "            high=np.amax(X, axis=0),\n",
    "            size=(self.k, X.shape[1]))\n",
    "\n",
    "        y = []\n",
    "        for _ in range(max_iterations):\n",
    "            y = []\n",
    "            for data_point in X:\n",
    "\n",
    "                distances = self.euclidean_distance(\n",
    "                    data_point=data_point,\n",
    "                    centroids=self.centroids)\n",
    "                # print(distances.shape)\n",
    "                cluster_num = np.argmin(distances)\n",
    "                y.append(cluster_num)\n",
    "            y = np.asarray(y)\n",
    "\n",
    "            cluster_indices = []\n",
    "\n",
    "            for idx in range(self.k):\n",
    "                cluster_indices.append(np.argwhere(y == idx))\n",
    "\n",
    "            cluster_centers = []\n",
    "\n",
    "            for i, indices in enumerate(cluster_indices):\n",
    "                if len(indices) == 0:\n",
    "                    cluster_centers.append(self.centroids[i])\n",
    "                else:\n",
    "                    cluster_centers.append(np.mean(X[indices], axis=0)[0])\n",
    "\n",
    "            if self.stopping_criterion == \"no_change\" and np.max(self.centroids - np.array(cluster_centers)) < 1e-3:\n",
    "                break\n",
    "            elif self.stopping_criterion == \"increase_sse\":\n",
    "                current_sse = self.__sum_of_squared_errors_calc(X, np.array(cluster_centers), y)\n",
    "                if current_sse > self._last_sse_score:\n",
    "                    break\n",
    "                self._last_sse_score = current_sse\n",
    "            else:\n",
    "                self.centroids = np.array(cluster_centers)\n",
    "            self._iterations += 1\n",
    "\n",
    "        # Calculate the final SSE after performing K-means\n",
    "        self._sse_score = self.__sum_of_squared_errors_calc(X, self.centroids, y)\n",
    "        \n",
    "        return y"
   ]
  },
  {
   "cell_type": "code",
   "execution_count": 22,
   "id": "401024a1",
   "metadata": {},
   "outputs": [
    {
     "name": "stdout",
     "output_type": "stream",
     "text": [
      "Data:  (10000, 784)\n",
      "Labels:  (10000,)\n"
     ]
    }
   ],
   "source": [
    "data = np.array(pd.read_csv('datasets/kmeans_data/data.csv', header=None))\n",
    "labels = np.ravel(pd.read_csv('datasets/kmeans_data/label.csv', header=None))\n",
    "print('Data: ', data.shape)\n",
    "print('Labels: ', labels.shape)"
   ]
  },
  {
   "cell_type": "code",
   "execution_count": 23,
   "id": "d2fa1ecd",
   "metadata": {},
   "outputs": [],
   "source": [
    "unique_labels = np.unique(labels)\n",
    "no_of_clusters = unique_labels.size\n",
    "MAX_ITERATIONS = 100"
   ]
  },
  {
   "cell_type": "code",
   "execution_count": 24,
   "id": "780ff701",
   "metadata": {},
   "outputs": [],
   "source": [
    "euclidean_kmeans_m = KMeansClustering(k=no_of_clusters)\n",
    "euclidean_kmeans_m_labels = euclidean_kmeans_m.fit(X=data, max_iterations=MAX_ITERATIONS)"
   ]
  },
  {
   "cell_type": "code",
   "execution_count": 25,
   "id": "449b1ca4",
   "metadata": {},
   "outputs": [],
   "source": [
    "cosine_distances = pairwise_distances(data, metric='cosine')\n",
    "cosine_kmeans_m = KMeansClustering(k=no_of_clusters)\n",
    "cosine_kmeans_m_labels = cosine_kmeans_m.fit(cosine_distances, max_iterations=MAX_ITERATIONS)"
   ]
  },
  {
   "cell_type": "code",
   "execution_count": 26,
   "id": "1ec7cba7",
   "metadata": {},
   "outputs": [],
   "source": [
    "jaccard_distances = pairwise_distances(data, metric='hamming')\n",
    "jaccard_kmeans_m = KMeansClustering(k=no_of_clusters)\n",
    "jaccard_kmeans_m_labels = jaccard_kmeans_m.fit(X=jaccard_distances, max_iterations=MAX_ITERATIONS)"
   ]
  },
  {
   "cell_type": "markdown",
   "id": "934554fb",
   "metadata": {},
   "source": [
    "#### Q1. Run K-means clustering with Euclidean, Cosine and Jarcard similarity. Specify K= the number of categorical values of y (the number of classifications). Compare the SSEs of Euclidean-K-means, Cosine-K-means, Jarcard-K-means. Which method is better?"
   ]
  },
  {
   "cell_type": "code",
   "execution_count": 27,
   "id": "5d8aab60",
   "metadata": {},
   "outputs": [
    {
     "data": {
      "text/plain": [
       "40361596.66772896"
      ]
     },
     "execution_count": 27,
     "metadata": {},
     "output_type": "execute_result"
    }
   ],
   "source": [
    "sse_euclidean_m = euclidean_kmeans_m.get_sum_of_squared_error()\n",
    "sse_euclidean_m"
   ]
  },
  {
   "cell_type": "code",
   "execution_count": 28,
   "id": "692a4da9",
   "metadata": {},
   "outputs": [
    {
     "data": {
      "text/plain": [
       "5205.369454878233"
      ]
     },
     "execution_count": 28,
     "metadata": {},
     "output_type": "execute_result"
    }
   ],
   "source": [
    "sse_cosine_m = cosine_kmeans_m.get_sum_of_squared_error()\n",
    "sse_cosine_m"
   ]
  },
  {
   "cell_type": "code",
   "execution_count": 29,
   "id": "9950e6e1",
   "metadata": {},
   "outputs": [
    {
     "data": {
      "text/plain": [
       "1466.4155160788655"
      ]
     },
     "execution_count": 29,
     "metadata": {},
     "output_type": "execute_result"
    }
   ],
   "source": [
    "see_jaccard_m = jaccard_kmeans_m.get_sum_of_squared_error()\n",
    "see_jaccard_m"
   ]
  },
  {
   "cell_type": "code",
   "execution_count": 30,
   "id": "813fc4fd",
   "metadata": {},
   "outputs": [
    {
     "data": {
      "text/markdown": [
       "**SSE** of Euclidean K-means = 40361596.66772896<br>**SSE** of Cosine K-means = 5205.369454878233<br>**SSE** of Jarcard K-means = 1466.4155160788655<br>"
      ],
      "text/plain": [
       "<IPython.core.display.Markdown object>"
      ]
     },
     "metadata": {},
     "output_type": "display_data"
    }
   ],
   "source": [
    "text1 = f\"**SSE** of Euclidean K-means = {sse_euclidean_m}<br>\"\n",
    "text2 = f\"**SSE** of Cosine K-means = {sse_cosine_m}<br>\"\n",
    "text3 = f\"**SSE** of Jarcard K-means = {see_jaccard_m}<br>\"\n",
    "display(Markdown(f\"{text1}{text2}{text3}\"))"
   ]
  },
  {
   "cell_type": "markdown",
   "id": "00b0b600",
   "metadata": {},
   "source": [
    "Looking at the values above I can see Euclidean K-means having the highest SSE, followed by Cosine K-means with the Jarcard K-means havign the lowest SSE."
   ]
  },
  {
   "cell_type": "markdown",
   "id": "01de4a35",
   "metadata": {},
   "source": [
    "#### Q2. Compare the accuracies of Euclidean-K-means Cosine-K-means, Jarcard-K-means. First, label each cluster using the majority vote label of the data points in that cluster. Later, compute the predictive accuracy of Euclidean-K-means, Cosine-K-means, Jarcard-K-means. Which metric is better? (10 points)"
   ]
  },
  {
   "cell_type": "code",
   "execution_count": 31,
   "id": "7f30e322",
   "metadata": {},
   "outputs": [],
   "source": [
    "def label_clusters(labels, true_labels):\n",
    "    unique_labels = np.unique(true_labels)\n",
    "    cluster_labels = np.zeros(len(labels), dtype=np.int)\n",
    "    for cluster in range(no_of_clusters):\n",
    "        cluster_indices = np.where(labels == cluster)[0]\n",
    "        cluster_true_labels = true_labels[cluster_indices]\n",
    "        majority_label = np.argmax([np.sum(cluster_true_labels == label) for label in unique_labels])\n",
    "        cluster_labels[cluster_indices] = majority_label\n",
    "    return cluster_labels\n",
    "\n",
    "# Label clusters using majority vote\n",
    "cluster_labels_euclidean = label_clusters(euclidean_kmeans_m_labels, labels)\n",
    "cluster_labels_cosine = label_clusters(cosine_kmeans_m_labels, labels)\n",
    "cluster_labels_jaccard = label_clusters(jaccard_kmeans_m_labels, labels)\n",
    "\n",
    "# Compute predictive accuracy\n",
    "accuracy_euclidean = accuracy_score(labels, cluster_labels_euclidean)\n",
    "accuracy_cosine = accuracy_score(labels, cluster_labels_cosine)\n",
    "accuracy_jaccard = accuracy_score(labels, cluster_labels_jaccard)"
   ]
  },
  {
   "cell_type": "code",
   "execution_count": 32,
   "id": "513e0821",
   "metadata": {},
   "outputs": [
    {
     "data": {
      "text/markdown": [
       "**Accuracy** of Euclidean-K-means =  59.81999999999999%<br>**Accuracy** of Cosine-K-means = 43.64%<br>**Accuracy** of Jaccard-K-means = 24.36%<br>"
      ],
      "text/plain": [
       "<IPython.core.display.Markdown object>"
      ]
     },
     "metadata": {},
     "output_type": "display_data"
    }
   ],
   "source": [
    "acc_text1 = f\"**Accuracy** of Euclidean-K-means =  {accuracy_euclidean * 100}%<br>\"\n",
    "acc_text2 = f\"**Accuracy** of Cosine-K-means = {accuracy_cosine * 100}%<br>\"\n",
    "acc_text3 = f\"**Accuracy** of Jaccard-K-means = {accuracy_jaccard * 100}%<br>\"\n",
    "display(Markdown(f\"{acc_text1}{acc_text2}{acc_text3}\"))"
   ]
  },
  {
   "cell_type": "markdown",
   "id": "cc373e0b",
   "metadata": {},
   "source": [
    "Based on the accuracy computation of majority vote, Euclidean accuracy seems to perform better."
   ]
  },
  {
   "cell_type": "markdown",
   "id": "3a926460",
   "metadata": {},
   "source": [
    "#### Q3: Set up the same stop criteria: “when there is no change in centroid position OR when the SSE value increases in the next iteration OR when the maximum preset value (e.g., 500, you can set the preset value by yourself) of iteration is complete”, for Euclidean-K-means, Cosine-K\u0002means, Jarcard-K-means. Which method requires more iterations and times to converge? (10 points)"
   ]
  },
  {
   "cell_type": "code",
   "execution_count": 33,
   "id": "5fd3e9af",
   "metadata": {},
   "outputs": [
    {
     "data": {
      "text/markdown": [
       "Note : Max iterations have been set to 500 and the change in centroid position is less than 1e-3. <br>Iterations to converge for Euclidean-K-means = **57** <br>Iterations to converge for Cosine-K-means = **42** <br>Iterations to converge for Jaccard-K-means = **19** <br>"
      ],
      "text/plain": [
       "<IPython.core.display.Markdown object>"
      ]
     },
     "metadata": {},
     "output_type": "display_data"
    }
   ],
   "source": [
    "euclidean_iterations = euclidean_kmeans_m.get_iterations_to_converge()\n",
    "cosine_iterations = cosine_kmeans_m.get_iterations_to_converge()\n",
    "jarcard_iterations = jaccard_kmeans_m.get_iterations_to_converge()\n",
    "\n",
    "text_0 = f\"Note : Max iterations have been set to 500 and the change in centroid position is less than 1e-3. <br>\"\n",
    "text_1 = f\"Iterations to converge for Euclidean-K-means = **{euclidean_iterations}** <br>\"\n",
    "text_2 = f\"Iterations to converge for Cosine-K-means = **{cosine_iterations}** <br>\"\n",
    "text_3 = f\"Iterations to converge for Jaccard-K-means = **{jarcard_iterations}** <br>\"\n",
    "\n",
    "display(Markdown(f\"{text_0}{text_1}{text_2}{text_3}\"))"
   ]
  },
  {
   "cell_type": "markdown",
   "id": "319d569e",
   "metadata": {},
   "source": [
    "From the results we Euclidean K-means take more iterations than Cosine and Jarcard K-means to converge."
   ]
  },
  {
   "cell_type": "markdown",
   "id": "b13a13b4",
   "metadata": {},
   "source": [
    "**Q4:** Compare the SSEs of Euclidean-K-means Cosine-K-means, Jarcard-K-means with respect to \n",
    "the following three terminating conditions: (10 points)\n",
    "  - when there is no change in centroid position\n",
    "  - when the SSE value increases in the next iteration\n",
    "  - when the maximum preset value (e.g., 100) of iteration is complete"
   ]
  },
  {
   "cell_type": "markdown",
   "id": "193ea301",
   "metadata": {},
   "source": [
    "##### (a) Check for SSE for Euclidean K-means, Cosine K-means and Jacard K-means when there is no change in centroid position"
   ]
  },
  {
   "cell_type": "code",
   "execution_count": 34,
   "id": "07e031e8",
   "metadata": {},
   "outputs": [
    {
     "name": "stdout",
     "output_type": "stream",
     "text": [
      "SSE of Euclidean K-means when there is no change in centroid position = 65059205.823509134\n"
     ]
    }
   ],
   "source": [
    "euclidean_kmeans_1 = KMeansClustering(k=no_of_clusters, stopping_criterion=\"no_change\")\n",
    "euclidean_kmeans_1_predicted_labels = euclidean_kmeans_1.fit(data, max_iterations=MAX_ITERATIONS)\n",
    "sse_euclidean_kmeans_1 = euclidean_kmeans_1.get_sum_of_squared_error()\n",
    "print('SSE of Euclidean K-means when there is no change in centroid position =', sse_euclidean_kmeans_1)"
   ]
  },
  {
   "cell_type": "code",
   "execution_count": 35,
   "id": "42ecec4a",
   "metadata": {},
   "outputs": [
    {
     "name": "stdout",
     "output_type": "stream",
     "text": [
      "SSE of Cosine K-means when there is no change in centroid position = 4386.3591486577625\n"
     ]
    }
   ],
   "source": [
    "cosine_kmeans_1 = KMeansClustering(k=no_of_clusters, stopping_criterion=\"no_change\")\n",
    "cosine_kmeans_1_predicted_labels = cosine_kmeans_1.fit(cosine_distances, max_iterations=MAX_ITERATIONS)\n",
    "sse_cosine_kmeans_1 = cosine_kmeans_1.get_sum_of_squared_error()\n",
    "print('SSE of Cosine K-means when there is no change in centroid position =', sse_cosine_kmeans_1)"
   ]
  },
  {
   "cell_type": "code",
   "execution_count": 36,
   "id": "58494d12",
   "metadata": {},
   "outputs": [
    {
     "name": "stdout",
     "output_type": "stream",
     "text": [
      "SSE of Jaccard K-means when there is no change in centroid position = 1981.2197207390002\n"
     ]
    }
   ],
   "source": [
    "jaccard_kmeans_1 = KMeansClustering(k=no_of_clusters, stopping_criterion=\"no_change\")\n",
    "jaccard_kmeans_1_predicted_labels = jaccard_kmeans_1.fit(jaccard_distances, max_iterations=MAX_ITERATIONS)\n",
    "sse_jaccard_kmeans_1 = jaccard_kmeans_1.get_sum_of_squared_error()\n",
    "print('SSE of Jaccard K-means when there is no change in centroid position =', sse_jaccard_kmeans_1)"
   ]
  },
  {
   "cell_type": "markdown",
   "id": "cdc46a8b",
   "metadata": {},
   "source": [
    "##### (b) Check for SSE for Euclidean K-means, Cosine K-means and Jacard K-means when the SSE value increases in the next iteration"
   ]
  },
  {
   "cell_type": "code",
   "execution_count": 37,
   "id": "9ab9cbf4",
   "metadata": {},
   "outputs": [
    {
     "name": "stdout",
     "output_type": "stream",
     "text": [
      "SSE of Euclidean K-means when the SSE value increases in the next iteration = 124608895.44027856\n"
     ]
    }
   ],
   "source": [
    "euclidean_kmeans_2 = KMeansClustering(k=no_of_clusters, stopping_criterion=\"increase_sse\")\n",
    "euclidean_kmeans_2_predicted_labels = euclidean_kmeans_2.fit(data, max_iterations=MAX_ITERATIONS)\n",
    "sse_euclidean_kmeans_2 = euclidean_kmeans_2.get_sum_of_squared_error()\n",
    "print('SSE of Euclidean K-means when the SSE value increases in the next iteration =',\n",
    "      sse_euclidean_kmeans_2)"
   ]
  },
  {
   "cell_type": "code",
   "execution_count": 38,
   "id": "bc0b6c1a",
   "metadata": {},
   "outputs": [
    {
     "name": "stdout",
     "output_type": "stream",
     "text": [
      "SSE of Cosine K-means when the SSE value increases in the next iteration = 12205.735932176076\n"
     ]
    }
   ],
   "source": [
    "cosine_kmeans_2 = KMeansClustering(k=no_of_clusters, stopping_criterion=\"increase_sse\")\n",
    "cosine_kmeans_2_predicted_labels = cosine_kmeans_2.fit(cosine_distances, max_iterations=MAX_ITERATIONS)\n",
    "sse_cosine_kmeans_2 = cosine_kmeans_2.get_sum_of_squared_error()\n",
    "print('SSE of Cosine K-means when the SSE value increases in the next iteration =',\n",
    "      sse_cosine_kmeans_2)"
   ]
  },
  {
   "cell_type": "code",
   "execution_count": 39,
   "id": "6bcd8557",
   "metadata": {},
   "outputs": [
    {
     "name": "stdout",
     "output_type": "stream",
     "text": [
      "SSE of Jaccard K-means when the SSE value increases in the next iteration = 2071.5868621850946\n"
     ]
    }
   ],
   "source": [
    "jaccard_kmeans_2 = KMeansClustering(k=no_of_clusters, stopping_criterion=\"increase_sse\")\n",
    "jaccard_kmeans_2_predicted_labels = jaccard_kmeans_2.fit(jaccard_distances, max_iterations=MAX_ITERATIONS)\n",
    "sse_jaccard_kmeans_2 = jaccard_kmeans_2.get_sum_of_squared_error()\n",
    "print('SSE of Jaccard K-means when the SSE value increases in the next iteration =',\n",
    "      sse_jaccard_kmeans_2)"
   ]
  },
  {
   "cell_type": "markdown",
   "id": "ebdb7c57",
   "metadata": {},
   "source": [
    "##### (c) Check for SSE for Euclidean K-means, Cosine K-means and Jacard K-means when the maximum preset value (e.g., 100) of iteration is complete"
   ]
  },
  {
   "cell_type": "code",
   "execution_count": 40,
   "id": "82a6704e",
   "metadata": {},
   "outputs": [
    {
     "name": "stdout",
     "output_type": "stream",
     "text": [
      "SSE of Euclidean K-means when the maximum preset value 100 is complete = 33584510.19673038\n"
     ]
    }
   ],
   "source": [
    "euclidean_kmeans_3 = KMeansClustering(k=no_of_clusters, stopping_criterion=\"max_iterations\")\n",
    "euclidean_kmeans_3_predicted_labels = euclidean_kmeans_3.fit(data, max_iterations=MAX_ITERATIONS)\n",
    "sse_euclidean_max_iteration = euclidean_kmeans_3.get_sum_of_squared_error()\n",
    "print(f'SSE of Euclidean K-means when the maximum preset value {MAX_ITERATIONS} is complete =',\n",
    "      sse_euclidean_max_iteration)"
   ]
  },
  {
   "cell_type": "code",
   "execution_count": 41,
   "id": "975c4418",
   "metadata": {},
   "outputs": [
    {
     "name": "stdout",
     "output_type": "stream",
     "text": [
      "SSE of Cosine K-means when the maximum preset value 100 is complete = 5298.521262018824\n"
     ]
    }
   ],
   "source": [
    "cosine_kmeans_3 = KMeansClustering(k=no_of_clusters, stopping_criterion=\"max_iterations\")\n",
    "cosine_kmeans_3_predicted_labels = cosine_kmeans_3.fit(cosine_distances, max_iterations=MAX_ITERATIONS)\n",
    "sse_cosine_max_iteration = cosine_kmeans_3.get_sum_of_squared_error()\n",
    "print(f'SSE of Cosine K-means when the maximum preset value {MAX_ITERATIONS} is complete =',\n",
    "      sse_cosine_max_iteration)"
   ]
  },
  {
   "cell_type": "code",
   "execution_count": 42,
   "id": "bb0d820b",
   "metadata": {},
   "outputs": [
    {
     "name": "stdout",
     "output_type": "stream",
     "text": [
      "SSE of Jaccard K-means when the maximum preset value 100 is complete = 1641.5538701733153\n"
     ]
    }
   ],
   "source": [
    "jaccard_kmeans_3 = KMeansClustering(k=no_of_clusters, stopping_criterion=\"max_iterations\")\n",
    "jaccard_kmeans_3_predicted_labels = jaccard_kmeans_3.fit(jaccard_distances, max_iterations=MAX_ITERATIONS)\n",
    "sse_jarcard_max_iteration = jaccard_kmeans_3.get_sum_of_squared_error()\n",
    "print(f'SSE of Jaccard K-means when the maximum preset value {MAX_ITERATIONS} is complete =',\n",
    "      sse_jarcard_max_iteration)"
   ]
  },
  {
   "cell_type": "code",
   "execution_count": 43,
   "id": "19450ed7",
   "metadata": {},
   "outputs": [
    {
     "data": {
      "text/markdown": [
       "\n",
       "| Algorithm | No Change in Centroid Position | SSE Value Increases in Next Iteration | Maximum Preset Value of Iterations |\n",
       "|------------|--------------------------------|----------------------------------------|-------------------------------------|\n",
       "| Euclidean  | 65059205.823509134              | 124608895.44027856                    | 33584510.19673038|\n",
       "| Jaccard    |1981.2197207390002          |2071.5868621850946                  |1641.5538701733153        |\n",
       "| Cosine     |4386.3591486577625           |12205.735932176076                   |5298.521262018824         |\n"
      ],
      "text/plain": [
       "<IPython.core.display.Markdown object>"
      ]
     },
     "metadata": {},
     "output_type": "display_data"
    }
   ],
   "source": [
    "table = f\"\"\"\n",
    "| Algorithm | No Change in Centroid Position | SSE Value Increases in Next Iteration | Maximum Preset Value of Iterations |\n",
    "|------------|--------------------------------|----------------------------------------|-------------------------------------|\n",
    "| Euclidean  | {sse_euclidean_kmeans_1}              | {sse_euclidean_kmeans_2}                    | {sse_euclidean_max_iteration}|\n",
    "| Jaccard    |{sse_jaccard_kmeans_1}          |{sse_jaccard_kmeans_2}                  |{sse_jarcard_max_iteration}        |\n",
    "| Cosine     |{sse_cosine_kmeans_1}           |{sse_cosine_kmeans_2}                   |{sse_cosine_max_iteration}         |\n",
    "\"\"\"\n",
    "display(Markdown(table))\n"
   ]
  }
 ],
 "metadata": {
  "kernelspec": {
   "display_name": "Python 3 (ipykernel)",
   "language": "python",
   "name": "python3"
  },
  "language_info": {
   "codemirror_mode": {
    "name": "ipython",
    "version": 3
   },
   "file_extension": ".py",
   "mimetype": "text/x-python",
   "name": "python",
   "nbconvert_exporter": "python",
   "pygments_lexer": "ipython3",
   "version": "3.9.13"
  }
 },
 "nbformat": 4,
 "nbformat_minor": 5
}
