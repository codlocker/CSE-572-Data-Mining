{
 "cells": [
  {
   "cell_type": "markdown",
   "id": "0eb1acc4",
   "metadata": {},
   "source": [
    "# Task 2"
   ]
  },
  {
   "cell_type": "code",
   "execution_count": 38,
   "id": "4687b160",
   "metadata": {},
   "outputs": [],
   "source": [
    "import matplotlib.pyplot as plt\n",
    "import numpy as np\n",
    "import pandas as pd\n",
    "from IPython.display import display, Markdown\n",
    "\n",
    "from surprise import Dataset \n",
    "from surprise import Reader\n",
    "from surprise.model_selection import train_test_split, cross_validate\n",
    "from surprise import accuracy\n",
    "from surprise import SVD, KNNBasic\n",
    "from sklearn.metrics import confusion_matrix, precision_score, recall_score,classification_report\n",
    "import warnings\n",
    "warnings.filterwarnings('ignore')"
   ]
  },
  {
   "cell_type": "markdown",
   "id": "5b3121f4",
   "metadata": {},
   "source": [
    "## Part-2"
   ]
  },
  {
   "cell_type": "code",
   "execution_count": 39,
   "id": "441fde4b",
   "metadata": {},
   "outputs": [
    {
     "data": {
      "text/html": [
       "<div>\n",
       "<style scoped>\n",
       "    .dataframe tbody tr th:only-of-type {\n",
       "        vertical-align: middle;\n",
       "    }\n",
       "\n",
       "    .dataframe tbody tr th {\n",
       "        vertical-align: top;\n",
       "    }\n",
       "\n",
       "    .dataframe thead th {\n",
       "        text-align: right;\n",
       "    }\n",
       "</style>\n",
       "<table border=\"1\" class=\"dataframe\">\n",
       "  <thead>\n",
       "    <tr style=\"text-align: right;\">\n",
       "      <th></th>\n",
       "      <th>userId</th>\n",
       "      <th>movieId</th>\n",
       "      <th>rating</th>\n",
       "      <th>timestamp</th>\n",
       "    </tr>\n",
       "  </thead>\n",
       "  <tbody>\n",
       "    <tr>\n",
       "      <th>72926</th>\n",
       "      <td>509</td>\n",
       "      <td>3362</td>\n",
       "      <td>4.0</td>\n",
       "      <td>978936145</td>\n",
       "    </tr>\n",
       "    <tr>\n",
       "      <th>23151</th>\n",
       "      <td>164</td>\n",
       "      <td>4306</td>\n",
       "      <td>4.0</td>\n",
       "      <td>1178928048</td>\n",
       "    </tr>\n",
       "    <tr>\n",
       "      <th>36311</th>\n",
       "      <td>262</td>\n",
       "      <td>5433</td>\n",
       "      <td>2.5</td>\n",
       "      <td>1466555214</td>\n",
       "    </tr>\n",
       "    <tr>\n",
       "      <th>74248</th>\n",
       "      <td>518</td>\n",
       "      <td>920</td>\n",
       "      <td>4.0</td>\n",
       "      <td>945362805</td>\n",
       "    </tr>\n",
       "    <tr>\n",
       "      <th>11453</th>\n",
       "      <td>73</td>\n",
       "      <td>61248</td>\n",
       "      <td>3.0</td>\n",
       "      <td>1369514646</td>\n",
       "    </tr>\n",
       "  </tbody>\n",
       "</table>\n",
       "</div>"
      ],
      "text/plain": [
       "       userId  movieId  rating   timestamp\n",
       "72926     509     3362     4.0   978936145\n",
       "23151     164     4306     4.0  1178928048\n",
       "36311     262     5433     2.5  1466555214\n",
       "74248     518      920     4.0   945362805\n",
       "11453      73    61248     3.0  1369514646"
      ]
     },
     "execution_count": 39,
     "metadata": {},
     "output_type": "execute_result"
    }
   ],
   "source": [
    "data = pd.read_csv('datasets/MovieRating/ratings_small.csv')\n",
    "data.sample(5)"
   ]
  },
  {
   "cell_type": "markdown",
   "id": "f432eb07",
   "metadata": {},
   "source": [
    "## Part-3"
   ]
  },
  {
   "cell_type": "code",
   "execution_count": 40,
   "id": "4582bd20",
   "metadata": {},
   "outputs": [],
   "source": [
    "data = data.drop('timestamp', axis=1)"
   ]
  },
  {
   "cell_type": "code",
   "execution_count": 41,
   "id": "204b3562",
   "metadata": {},
   "outputs": [
    {
     "data": {
      "text/plain": [
       "(100004, 3)"
      ]
     },
     "execution_count": 41,
     "metadata": {},
     "output_type": "execute_result"
    }
   ],
   "source": [
    "data.shape"
   ]
  },
  {
   "cell_type": "code",
   "execution_count": 42,
   "id": "f10d01e7",
   "metadata": {},
   "outputs": [
    {
     "data": {
      "text/html": [
       "<div>\n",
       "<style scoped>\n",
       "    .dataframe tbody tr th:only-of-type {\n",
       "        vertical-align: middle;\n",
       "    }\n",
       "\n",
       "    .dataframe tbody tr th {\n",
       "        vertical-align: top;\n",
       "    }\n",
       "\n",
       "    .dataframe thead th {\n",
       "        text-align: right;\n",
       "    }\n",
       "</style>\n",
       "<table border=\"1\" class=\"dataframe\">\n",
       "  <thead>\n",
       "    <tr style=\"text-align: right;\">\n",
       "      <th></th>\n",
       "      <th>userId</th>\n",
       "      <th>movieId</th>\n",
       "      <th>rating</th>\n",
       "    </tr>\n",
       "  </thead>\n",
       "  <tbody>\n",
       "    <tr>\n",
       "      <th>65666</th>\n",
       "      <td>468</td>\n",
       "      <td>21</td>\n",
       "      <td>2.5</td>\n",
       "    </tr>\n",
       "    <tr>\n",
       "      <th>99753</th>\n",
       "      <td>667</td>\n",
       "      <td>225</td>\n",
       "      <td>3.0</td>\n",
       "    </tr>\n",
       "    <tr>\n",
       "      <th>18341</th>\n",
       "      <td>119</td>\n",
       "      <td>5060</td>\n",
       "      <td>5.0</td>\n",
       "    </tr>\n",
       "    <tr>\n",
       "      <th>97533</th>\n",
       "      <td>654</td>\n",
       "      <td>520</td>\n",
       "      <td>4.0</td>\n",
       "    </tr>\n",
       "    <tr>\n",
       "      <th>32707</th>\n",
       "      <td>236</td>\n",
       "      <td>1333</td>\n",
       "      <td>4.5</td>\n",
       "    </tr>\n",
       "  </tbody>\n",
       "</table>\n",
       "</div>"
      ],
      "text/plain": [
       "       userId  movieId  rating\n",
       "65666     468       21     2.5\n",
       "99753     667      225     3.0\n",
       "18341     119     5060     5.0\n",
       "97533     654      520     4.0\n",
       "32707     236     1333     4.5"
      ]
     },
     "execution_count": 42,
     "metadata": {},
     "output_type": "execute_result"
    }
   ],
   "source": [
    "data.sample(5)"
   ]
  },
  {
   "cell_type": "code",
   "execution_count": 43,
   "id": "d53d19f3",
   "metadata": {},
   "outputs": [],
   "source": [
    "reader = Reader(rating_scale=(1, 5))\n",
    "ratings = Dataset.load_from_df(data, reader)"
   ]
  },
  {
   "cell_type": "code",
   "execution_count": 44,
   "id": "74df42dc",
   "metadata": {},
   "outputs": [
    {
     "data": {
      "text/plain": [
       "surprise.dataset.DatasetAutoFolds"
      ]
     },
     "execution_count": 44,
     "metadata": {},
     "output_type": "execute_result"
    }
   ],
   "source": [
    "type(ratings)"
   ]
  },
  {
   "cell_type": "markdown",
   "id": "fb428714",
   "metadata": {},
   "source": [
    "## 3(c) Compute the average MAE and RMSE of the Probabilistic Matrix Factorization (PMF), User based Collaborative Filtering, Item based Collaborative Filtering, under the 5-folds cross-validation (10 points)"
   ]
  },
  {
   "cell_type": "markdown",
   "id": "6ceff997",
   "metadata": {},
   "source": [
    "### Use Probabilistic Matrix Factorization(PMF)"
   ]
  },
  {
   "cell_type": "code",
   "execution_count": 45,
   "id": "2f720848",
   "metadata": {},
   "outputs": [
    {
     "name": "stdout",
     "output_type": "stream",
     "text": [
      "Evaluating RMSE, MAE of algorithm SVD on 5 split(s).\n",
      "\n",
      "                  Fold 1  Fold 2  Fold 3  Fold 4  Fold 5  Mean    Std     \n",
      "RMSE (testset)    0.9016  0.9003  0.8993  0.8954  0.8833  0.8960  0.0067  \n",
      "MAE (testset)     0.6932  0.6930  0.6894  0.6904  0.6804  0.6893  0.0047  \n",
      "Fit time          0.93    0.95    0.98    0.94    0.91    0.94    0.02    \n",
      "Test time         0.13    0.15    0.11    0.28    0.20    0.17    0.06    \n"
     ]
    }
   ],
   "source": [
    "model_pmf = SVD()\n",
    "model_pmf_cv = cross_validate(model_pmf, ratings, measures=['RMSE', 'MAE'], cv = 5, verbose=True)"
   ]
  },
  {
   "cell_type": "code",
   "execution_count": 46,
   "id": "d8da1340",
   "metadata": {},
   "outputs": [
    {
     "name": "stdout",
     "output_type": "stream",
     "text": [
      "Average of RMSE for Probabilistic Matrix Factorization(PMF) =  0.8959673290719786\n",
      "Average of MAE for Probabilistic Matrix Factorization(PMF) =  0.6892797825953401\n"
     ]
    }
   ],
   "source": [
    "avg_pmf_rmse = np.average(model_pmf_cv['test_rmse'])\n",
    "avg_pmf_mae = np.average(model_pmf_cv['test_mae'])\n",
    "print('Average of RMSE for Probabilistic Matrix Factorization(PMF) = ', avg_pmf_rmse)\n",
    "print('Average of MAE for Probabilistic Matrix Factorization(PMF) = ', avg_pmf_mae)"
   ]
  },
  {
   "cell_type": "markdown",
   "id": "23eaeed7",
   "metadata": {},
   "source": [
    "### Use User-based collaborative filtering (UCF)"
   ]
  },
  {
   "cell_type": "code",
   "execution_count": 47,
   "id": "e1f6af00",
   "metadata": {},
   "outputs": [
    {
     "name": "stdout",
     "output_type": "stream",
     "text": [
      "Computing the cosine similarity matrix...\n",
      "Done computing similarity matrix.\n",
      "Computing the cosine similarity matrix...\n",
      "Done computing similarity matrix.\n",
      "Computing the cosine similarity matrix...\n",
      "Done computing similarity matrix.\n",
      "Computing the cosine similarity matrix...\n",
      "Done computing similarity matrix.\n",
      "Computing the cosine similarity matrix...\n",
      "Done computing similarity matrix.\n",
      "Evaluating RMSE, MAE of algorithm KNNBasic on 5 split(s).\n",
      "\n",
      "                  Fold 1  Fold 2  Fold 3  Fold 4  Fold 5  Mean    Std     \n",
      "RMSE (testset)    0.9941  0.9907  1.0036  0.9903  0.9851  0.9928  0.0061  \n",
      "MAE (testset)     0.7661  0.7657  0.7774  0.7647  0.7618  0.7671  0.0053  \n",
      "Fit time          0.58    0.44    0.41    0.47    0.45    0.47    0.06    \n",
      "Test time         1.87    1.35    1.38    1.42    1.59    1.52    0.19    \n"
     ]
    }
   ],
   "source": [
    "sim_options = {'name': 'cosine', 'user_based': True}\n",
    "model_ucf = KNNBasic(sim_options=sim_options)\n",
    "model_ucf_cv = cross_validate(model_ucf, ratings, measures=['RMSE', 'MAE'], cv = 5, verbose=True)"
   ]
  },
  {
   "cell_type": "code",
   "execution_count": 48,
   "id": "e3d558a5",
   "metadata": {},
   "outputs": [
    {
     "data": {
      "text/markdown": [
       "Average of RMSE for User-based collaborative filtering (UCF) = 0.99277734823901<br>Average of MAE for User-based collaborative filtering (UCF) = 0.7671270142606956<br>"
      ],
      "text/plain": [
       "<IPython.core.display.Markdown object>"
      ]
     },
     "metadata": {},
     "output_type": "display_data"
    }
   ],
   "source": [
    "avg_ucf_rmse = np.average(model_ucf_cv['test_rmse'])\n",
    "avg_ucf_mae = np.average(model_ucf_cv['test_mae'])\n",
    "text_1 = f\"Average of RMSE for User-based collaborative filtering (UCF) = {avg_ucf_rmse}<br>Average of MAE for User-based collaborative filtering (UCF) = {avg_ucf_mae}<br>\"\n",
    "\n",
    "display(Markdown(text_1))"
   ]
  },
  {
   "cell_type": "markdown",
   "id": "3fa86e3f",
   "metadata": {},
   "source": [
    "## Use Item-based collaborative filtering (ICF)"
   ]
  },
  {
   "cell_type": "code",
   "execution_count": 49,
   "id": "2468d2aa",
   "metadata": {},
   "outputs": [
    {
     "name": "stdout",
     "output_type": "stream",
     "text": [
      "Computing the cosine similarity matrix...\n",
      "Done computing similarity matrix.\n",
      "Computing the cosine similarity matrix...\n",
      "Done computing similarity matrix.\n",
      "Computing the cosine similarity matrix...\n",
      "Done computing similarity matrix.\n",
      "Computing the cosine similarity matrix...\n",
      "Done computing similarity matrix.\n",
      "Computing the cosine similarity matrix...\n",
      "Done computing similarity matrix.\n",
      "Evaluating RMSE, MAE of algorithm KNNBasic on 5 split(s).\n",
      "\n",
      "                  Fold 1  Fold 2  Fold 3  Fold 4  Fold 5  Mean    Std     \n",
      "RMSE (testset)    0.9882  1.0032  0.9911  0.9944  0.9934  0.9941  0.0050  \n",
      "MAE (testset)     0.7703  0.7811  0.7729  0.7729  0.7744  0.7743  0.0036  \n",
      "Fit time          5.88    5.43    5.23    5.16    5.15    5.37    0.27    \n",
      "Test time         5.39    5.40    5.00    5.11    5.31    5.24    0.16    \n"
     ]
    }
   ],
   "source": [
    "sim_options = {'name': 'cosine', 'user_based': False}\n",
    "model_icf = KNNBasic(sim_options=sim_options)\n",
    "model_icf_cv = cross_validate(model_icf, ratings, measures=['RMSE', 'MAE'], cv = 5, verbose=True)"
   ]
  },
  {
   "cell_type": "code",
   "execution_count": 50,
   "id": "5ae01cf6",
   "metadata": {},
   "outputs": [
    {
     "name": "stdout",
     "output_type": "stream",
     "text": [
      "Average of RMSE for Item-based collaborative filtering (ICF) =  0.9940500082261657\n",
      "Average of MAE for Item-based collaborative filtering (ICF) =  0.7743274870918064\n"
     ]
    }
   ],
   "source": [
    "avg_icf_rmse = np.average(model_icf_cv['test_rmse'])\n",
    "avg_icf_mae = np.average(model_icf_cv['test_mae'])\n",
    "print('Average of RMSE for Item-based collaborative filtering (ICF) = ', avg_icf_rmse)\n",
    "print('Average of MAE for Item-based collaborative filtering (ICF) = ', avg_icf_mae)"
   ]
  },
  {
   "cell_type": "markdown",
   "id": "19a6e14b",
   "metadata": {},
   "source": [
    "### 3(d) Compare the average (mean) performances of User-based collaborative filtering, item-based collaborative filtering, PMF with respect to RMSE and MAE. Which ML model is the best in the movie rating data? (10 points"
   ]
  },
  {
   "cell_type": "code",
   "execution_count": 51,
   "id": "3174153f",
   "metadata": {},
   "outputs": [
    {
     "data": {
      "text/markdown": [
       "|Algo|Mean RMSE|Mean MAE|\n",
       "|----|---------|--------|\n",
       "|Probability Matrix Factorization|0.8959673290719786|0.6892797825953401|\n",
       "|User-based collaborative filtering|0.99277734823901|0.7671270142606956|\n",
       "|Item-based collaborative filtering|0.9940500082261657|0.7743274870918064|"
      ],
      "text/plain": [
       "<IPython.core.display.Markdown object>"
      ]
     },
     "metadata": {},
     "output_type": "display_data"
    }
   ],
   "source": [
    "text = f\"\"\"|Algo|Mean RMSE|Mean MAE|\n",
    "|----|---------|--------|\n",
    "|Probability Matrix Factorization|{avg_pmf_rmse}|{avg_pmf_mae}|\n",
    "|User-based collaborative filtering|{avg_ucf_rmse}|{avg_ucf_mae}|\n",
    "|Item-based collaborative filtering|{avg_icf_rmse}|{avg_icf_mae}|\"\"\"\n",
    "display(Markdown(text))"
   ]
  },
  {
   "cell_type": "markdown",
   "id": "d0b8f4d8",
   "metadata": {},
   "source": [
    "Looking at the table, we see User-based collaborative filtering and Item-based collaborative filtering are pretty similar in performance.\n",
    "\n",
    "But on pure numbers perspective, Item-based collaborative filtering is the better model for movie rating data for both RMSE and MAE"
   ]
  },
  {
   "cell_type": "markdown",
   "id": "cb58f419",
   "metadata": {},
   "source": [
    "## 3(e) Examine how the cosine, MSD (Mean Squared Difference), and Pearson similarities impact the performances of User based Collaborative Filtering and Item based Collaborative Filtering. Plot your results. Is the impact of the three metrics on User based Collaborative Filtering consistent with the impact of the three metrics on Item based Collaborative Filtering? (10 points)"
   ]
  },
  {
   "cell_type": "code",
   "execution_count": 52,
   "id": "38270079",
   "metadata": {},
   "outputs": [],
   "source": [
    "# Item-based collaborative filtering\n",
    "sim_options_cosine = {\n",
    "    \"name\": 'cosine',\n",
    "    'user_based': False\n",
    "}\n",
    "\n",
    "sim_options_msd = {\n",
    "    \"name\": 'msd',\n",
    "    'user_based': False\n",
    "}\n",
    "\n",
    "sim_options_pearson = {\n",
    "    \"name\": 'pearson',\n",
    "    'user_based': False\n",
    "}"
   ]
  },
  {
   "cell_type": "code",
   "execution_count": 53,
   "id": "94ccf56f",
   "metadata": {},
   "outputs": [
    {
     "name": "stdout",
     "output_type": "stream",
     "text": [
      "Computing the cosine similarity matrix...\n",
      "Done computing similarity matrix.\n",
      "Computing the cosine similarity matrix...\n",
      "Done computing similarity matrix.\n",
      "Computing the cosine similarity matrix...\n",
      "Done computing similarity matrix.\n",
      "Computing the cosine similarity matrix...\n",
      "Done computing similarity matrix.\n",
      "Computing the cosine similarity matrix...\n",
      "Done computing similarity matrix.\n",
      "Evaluating RMSE of algorithm KNNBasic on 5 split(s).\n",
      "\n",
      "                  Fold 1  Fold 2  Fold 3  Fold 4  Fold 5  Mean    Std     \n",
      "RMSE (testset)    0.9981  0.9984  0.9979  0.9945  0.9864  0.9951  0.0046  \n",
      "Fit time          5.15    5.48    5.19    5.55    5.47    5.37    0.16    \n",
      "Test time         4.85    4.96    6.03    6.36    6.61    5.76    0.73    \n",
      "Computing the msd similarity matrix...\n",
      "Done computing similarity matrix.\n",
      "Computing the msd similarity matrix...\n",
      "Done computing similarity matrix.\n",
      "Computing the msd similarity matrix...\n",
      "Done computing similarity matrix.\n",
      "Computing the msd similarity matrix...\n",
      "Done computing similarity matrix.\n",
      "Computing the msd similarity matrix...\n",
      "Done computing similarity matrix.\n",
      "Evaluating RMSE of algorithm KNNBasic on 5 split(s).\n",
      "\n",
      "                  Fold 1  Fold 2  Fold 3  Fold 4  Fold 5  Mean    Std     \n",
      "RMSE (testset)    0.9383  0.9310  0.9402  0.9386  0.9312  0.9359  0.0040  \n",
      "Fit time          2.98    3.12    2.80    2.79    2.81    2.90    0.13    \n",
      "Test time         6.03    5.50    5.66    5.23    5.14    5.51    0.32    \n",
      "Computing the pearson similarity matrix...\n",
      "Done computing similarity matrix.\n",
      "Computing the pearson similarity matrix...\n",
      "Done computing similarity matrix.\n",
      "Computing the pearson similarity matrix...\n",
      "Done computing similarity matrix.\n",
      "Computing the pearson similarity matrix...\n",
      "Done computing similarity matrix.\n",
      "Computing the pearson similarity matrix...\n",
      "Done computing similarity matrix.\n",
      "Evaluating RMSE of algorithm KNNBasic on 5 split(s).\n",
      "\n",
      "                  Fold 1  Fold 2  Fold 3  Fold 4  Fold 5  Mean    Std     \n",
      "RMSE (testset)    0.9920  0.9904  0.9877  0.9932  0.9891  0.9905  0.0020  \n",
      "Fit time          6.83    6.90    6.70    6.70    7.28    6.88    0.21    \n",
      "Test time         5.09    5.29    5.47    5.47    6.66    5.60    0.55    \n"
     ]
    }
   ],
   "source": [
    "model_icf_cosine = KNNBasic(sim_options=sim_options_cosine)\n",
    "model_icf_cosine_cv = cross_validate(algo=model_icf_cosine, data=ratings, measures=['RMSE'], cv=5, verbose=True)\n",
    "\n",
    "model_icf_msd = KNNBasic(sim_options=sim_options_msd)\n",
    "model_icf_msd_cv = cross_validate(algo=model_icf_msd, data=ratings, measures=['RMSE'], cv=5, verbose=True)\n",
    "\n",
    "model_icf_pearson = KNNBasic(sim_options=sim_options_pearson)\n",
    "model_icf_pearson_cv = cross_validate(algo=model_icf_pearson, data=ratings, measures=['RMSE'], cv=5, verbose=True)\n",
    "\n",
    "avg_model_icf_cosine_cv = np.average(model_icf_cosine_cv['test_rmse'])\n",
    "avg_model_icf_msd_cv = np.average(model_icf_msd_cv['test_rmse'])\n",
    "avg_model_icf_pearson_cv = np.average(model_icf_pearson_cv['test_rmse'])"
   ]
  },
  {
   "cell_type": "code",
   "execution_count": 54,
   "id": "d8c2caab",
   "metadata": {},
   "outputs": [],
   "source": [
    "# User-based collaborative filtering\n",
    "sim_options_cosine = {\n",
    "    \"name\": 'cosine',\n",
    "    'user_based': True\n",
    "}\n",
    "\n",
    "sim_options_msd = {\n",
    "    \"name\": 'msd',\n",
    "    'user_based': True\n",
    "}\n",
    "\n",
    "sim_options_pearson = {\n",
    "    \"name\": 'pearson',\n",
    "    'user_based': True\n",
    "}"
   ]
  },
  {
   "cell_type": "code",
   "execution_count": 55,
   "id": "d371e742",
   "metadata": {},
   "outputs": [
    {
     "name": "stdout",
     "output_type": "stream",
     "text": [
      "Computing the cosine similarity matrix...\n",
      "Done computing similarity matrix.\n",
      "Computing the cosine similarity matrix...\n",
      "Done computing similarity matrix.\n",
      "Computing the cosine similarity matrix...\n",
      "Done computing similarity matrix.\n",
      "Computing the cosine similarity matrix...\n",
      "Done computing similarity matrix.\n",
      "Computing the cosine similarity matrix...\n",
      "Done computing similarity matrix.\n",
      "Evaluating RMSE of algorithm KNNBasic on 5 split(s).\n",
      "\n",
      "                  Fold 1  Fold 2  Fold 3  Fold 4  Fold 5  Mean    Std     \n",
      "RMSE (testset)    0.9929  0.9951  0.9929  0.9873  0.9976  0.9932  0.0034  \n",
      "Fit time          0.39    0.44    0.47    0.41    0.44    0.43    0.03    \n",
      "Test time         1.56    1.33    1.64    1.41    1.62    1.51    0.12    \n",
      "Computing the msd similarity matrix...\n",
      "Done computing similarity matrix.\n",
      "Computing the msd similarity matrix...\n",
      "Done computing similarity matrix.\n",
      "Computing the msd similarity matrix...\n",
      "Done computing similarity matrix.\n",
      "Computing the msd similarity matrix...\n",
      "Done computing similarity matrix.\n",
      "Computing the msd similarity matrix...\n",
      "Done computing similarity matrix.\n",
      "Evaluating RMSE of algorithm KNNBasic on 5 split(s).\n",
      "\n",
      "                  Fold 1  Fold 2  Fold 3  Fold 4  Fold 5  Mean    Std     \n",
      "RMSE (testset)    0.9698  0.9686  0.9602  0.9723  0.9689  0.9680  0.0041  \n",
      "Fit time          0.17    0.19    0.24    0.27    0.24    0.22    0.04    \n",
      "Test time         1.48    1.61    1.51    1.53    1.59    1.54    0.05    \n",
      "Computing the pearson similarity matrix...\n",
      "Done computing similarity matrix.\n",
      "Computing the pearson similarity matrix...\n",
      "Done computing similarity matrix.\n",
      "Computing the pearson similarity matrix...\n",
      "Done computing similarity matrix.\n",
      "Computing the pearson similarity matrix...\n",
      "Done computing similarity matrix.\n",
      "Computing the pearson similarity matrix...\n",
      "Done computing similarity matrix.\n",
      "Evaluating RMSE of algorithm KNNBasic on 5 split(s).\n",
      "\n",
      "                  Fold 1  Fold 2  Fold 3  Fold 4  Fold 5  Mean    Std     \n",
      "RMSE (testset)    0.9969  0.9969  1.0097  0.9869  1.0000  0.9981  0.0073  \n",
      "Fit time          0.53    0.53    0.54    0.53    0.45    0.52    0.03    \n",
      "Test time         1.44    1.63    1.55    2.02    1.40    1.61    0.22    \n"
     ]
    }
   ],
   "source": [
    "model_ucf_cosine = KNNBasic(sim_options=sim_options_cosine)\n",
    "model_ucf_cosine_cv = cross_validate(algo=model_ucf_cosine, data=ratings, measures=['RMSE'], cv=5, verbose=True)\n",
    "\n",
    "model_ucf_msd = KNNBasic(sim_options=sim_options_msd)\n",
    "model_ucf_msd_cv = cross_validate(algo=model_ucf_msd, data=ratings, measures=['RMSE'], cv=5, verbose=True)\n",
    "\n",
    "model_ucf_pearson = KNNBasic(sim_options=sim_options_pearson)\n",
    "model_ucf_pearson_cv = cross_validate(algo=model_ucf_pearson, data=ratings, measures=['RMSE'], cv=5, verbose=True)\n",
    "\n",
    "avg_model_ucf_cosine_cv = np.average(model_ucf_cosine_cv['test_rmse'])\n",
    "avg_model_ucf_msd_cv = np.average(model_ucf_msd_cv['test_rmse'])\n",
    "avg_model_ucf_pearson_cv = np.average(model_ucf_pearson_cv['test_rmse'])"
   ]
  },
  {
   "cell_type": "code",
   "execution_count": 56,
   "id": "c3184c01",
   "metadata": {
    "scrolled": true
   },
   "outputs": [
    {
     "data": {
      "image/png": "[encoded data removed]",
      "text/plain": [
       "<Figure size 1000x600 with 1 Axes>"
      ]
     },
     "metadata": {},
     "output_type": "display_data"
    }
   ],
   "source": [
    "final_res = {\n",
    "    'RMSE Cosine Similarity - UCF': avg_model_ucf_cosine_cv,\n",
    "    'RMSE Pearson Similarity - UCF': avg_model_ucf_pearson_cv,\n",
    "    'RMSE MSD Similarity - UCF': avg_model_ucf_msd_cv,\n",
    "    'RMSE Cosine Similarity - ICF': avg_model_icf_cosine_cv,\n",
    "    'RMSE Pearson Similarity - ICF': avg_model_icf_pearson_cv,\n",
    "    'RMSE MSD Similarity - ICF': avg_model_icf_msd_cv\n",
    "}\n",
    "\n",
    "fig, ax = plt.subplots(figsize=(10, 6))\n",
    "bars = ax.barh(\n",
    "    list(final_res.keys()), list(final_res.values()),\n",
    "    color='maroon',\n",
    "    label=list(final_res.values())\n",
    ")\n",
    "for bar in bars:\n",
    "    plt.text(bar.get_width(), bar.get_y() + bar.get_height() / 2, f'{bar.get_width():.4f}', \n",
    "             va='center', ha='left', fontsize=8, color='black')\n",
    "\n",
    "ax.set_xlabel('RMSE Values')\n",
    "ax.set_title('RMSE for Different Similarity Metrics and Collaborative Filtering Methods')\n",
    "plt.show()"
   ]
  },
  {
   "cell_type": "code",
   "execution_count": 57,
   "id": "94a1fac4",
   "metadata": {},
   "outputs": [
    {
     "data": {
      "text/markdown": [
       "Looking at the graph above Item CF (0.9358584941087761) achieves **lower RMSE** Accuracy than User CF (0.9679553041560981) for **MSD** similarity measure, **lower RMSE** Accuracy(0.9905037778015569) than User CF (0.9980872014744785) for **Pearson similarity measure** and higher RMSE Accuracy(0.9950725835483034) than User CF(0.9931641990449147) for **Cosine** similarity measure."
      ],
      "text/plain": [
       "<IPython.core.display.Markdown object>"
      ]
     },
     "metadata": {},
     "output_type": "display_data"
    }
   ],
   "source": [
    "text = \"\"\n",
    "text += f\"Looking at the graph above Item CF ({avg_model_icf_msd_cv}) achieves **lower RMSE**\"\n",
    "text += f\" Accuracy than User CF ({avg_model_ucf_msd_cv}) for **MSD** similarity measure, **lower RMSE** Accuracy({avg_model_icf_pearson_cv})\"\n",
    "text += f\" than User CF ({avg_model_ucf_pearson_cv}) for **Pearson similarity measure** and higher RMSE Accuracy({avg_model_icf_cosine_cv})\"\n",
    "text += f\" than User CF({avg_model_ucf_cosine_cv}) for **Cosine** similarity measure.\"\n",
    "\n",
    "display(Markdown(text))"
   ]
  },
  {
   "cell_type": "markdown",
   "id": "55a9c9b5",
   "metadata": {},
   "source": [
    "While the difference is not significant for Pearson and Cosine, but looking at the pure numbers, the impact of the 3 metrics is not significantly consistent between User-based collaborative filtering and Item-based collaborative filtering."
   ]
  },
  {
   "cell_type": "markdown",
   "id": "ac4fb51d",
   "metadata": {},
   "source": [
    "## 3(f) Examine how the number of neighbors impacts the performances of User based Collaborative Filtering and Item based Collaborative Filtering? Plot your results. "
   ]
  },
  {
   "cell_type": "code",
   "execution_count": 58,
   "id": "afb5402c",
   "metadata": {},
   "outputs": [
    {
     "name": "stdout",
     "output_type": "stream",
     "text": [
      "Computing the cosine similarity matrix...\n",
      "Done computing similarity matrix.\n",
      "Computing the cosine similarity matrix...\n",
      "Done computing similarity matrix.\n",
      "Computing the cosine similarity matrix...\n",
      "Done computing similarity matrix.\n",
      "Computing the cosine similarity matrix...\n",
      "Done computing similarity matrix.\n",
      "Computing the cosine similarity matrix...\n",
      "Done computing similarity matrix.\n",
      "Computing the cosine similarity matrix...\n",
      "Done computing similarity matrix.\n",
      "Computing the cosine similarity matrix...\n",
      "Done computing similarity matrix.\n",
      "Computing the cosine similarity matrix...\n",
      "Done computing similarity matrix.\n",
      "Computing the cosine similarity matrix...\n",
      "Done computing similarity matrix.\n",
      "Computing the cosine similarity matrix...\n",
      "Done computing similarity matrix.\n",
      "Computing the cosine similarity matrix...\n",
      "Done computing similarity matrix.\n",
      "Computing the cosine similarity matrix...\n",
      "Done computing similarity matrix.\n",
      "Computing the cosine similarity matrix...\n",
      "Done computing similarity matrix.\n",
      "Computing the cosine similarity matrix...\n",
      "Done computing similarity matrix.\n",
      "Computing the cosine similarity matrix...\n",
      "Done computing similarity matrix.\n",
      "Computing the cosine similarity matrix...\n",
      "Done computing similarity matrix.\n",
      "Computing the cosine similarity matrix...\n",
      "Done computing similarity matrix.\n",
      "Computing the cosine similarity matrix...\n",
      "Done computing similarity matrix.\n",
      "Computing the cosine similarity matrix...\n",
      "Done computing similarity matrix.\n",
      "Computing the cosine similarity matrix...\n",
      "Done computing similarity matrix.\n",
      "Computing the cosine similarity matrix...\n",
      "Done computing similarity matrix.\n",
      "Computing the cosine similarity matrix...\n",
      "Done computing similarity matrix.\n",
      "Computing the cosine similarity matrix...\n",
      "Done computing similarity matrix.\n",
      "Computing the cosine similarity matrix...\n",
      "Done computing similarity matrix.\n",
      "Computing the cosine similarity matrix...\n",
      "Done computing similarity matrix.\n",
      "Computing the cosine similarity matrix...\n",
      "Done computing similarity matrix.\n",
      "Computing the cosine similarity matrix...\n",
      "Done computing similarity matrix.\n",
      "Computing the cosine similarity matrix...\n",
      "Done computing similarity matrix.\n",
      "Computing the cosine similarity matrix...\n",
      "Done computing similarity matrix.\n",
      "Computing the cosine similarity matrix...\n",
      "Done computing similarity matrix.\n",
      "Computing the cosine similarity matrix...\n",
      "Done computing similarity matrix.\n",
      "Computing the cosine similarity matrix...\n",
      "Done computing similarity matrix.\n",
      "Computing the cosine similarity matrix...\n",
      "Done computing similarity matrix.\n",
      "Computing the cosine similarity matrix...\n",
      "Done computing similarity matrix.\n",
      "Computing the cosine similarity matrix...\n",
      "Done computing similarity matrix.\n",
      "Computing the cosine similarity matrix...\n",
      "Done computing similarity matrix.\n",
      "Computing the cosine similarity matrix...\n",
      "Done computing similarity matrix.\n",
      "Computing the cosine similarity matrix...\n",
      "Done computing similarity matrix.\n",
      "Computing the cosine similarity matrix...\n",
      "Done computing similarity matrix.\n",
      "Computing the cosine similarity matrix...\n",
      "Done computing similarity matrix.\n",
      "Computing the cosine similarity matrix...\n",
      "Done computing similarity matrix.\n",
      "Computing the cosine similarity matrix...\n",
      "Done computing similarity matrix.\n",
      "Computing the cosine similarity matrix...\n",
      "Done computing similarity matrix.\n",
      "Computing the cosine similarity matrix...\n",
      "Done computing similarity matrix.\n",
      "Computing the cosine similarity matrix...\n",
      "Done computing similarity matrix.\n",
      "Computing the cosine similarity matrix...\n",
      "Done computing similarity matrix.\n",
      "Computing the cosine similarity matrix...\n",
      "Done computing similarity matrix.\n",
      "Computing the cosine similarity matrix...\n",
      "Done computing similarity matrix.\n",
      "Computing the cosine similarity matrix...\n",
      "Done computing similarity matrix.\n",
      "Computing the cosine similarity matrix...\n",
      "Done computing similarity matrix.\n",
      "Computing the cosine similarity matrix...\n",
      "Done computing similarity matrix.\n",
      "Computing the cosine similarity matrix...\n",
      "Done computing similarity matrix.\n",
      "Computing the cosine similarity matrix...\n",
      "Done computing similarity matrix.\n",
      "Computing the cosine similarity matrix...\n",
      "Done computing similarity matrix.\n",
      "Computing the cosine similarity matrix...\n",
      "Done computing similarity matrix.\n",
      "Computing the cosine similarity matrix...\n",
      "Done computing similarity matrix.\n",
      "Computing the cosine similarity matrix...\n",
      "Done computing similarity matrix.\n",
      "Computing the cosine similarity matrix...\n",
      "Done computing similarity matrix.\n",
      "Computing the cosine similarity matrix...\n",
      "Done computing similarity matrix.\n",
      "Computing the cosine similarity matrix...\n",
      "Done computing similarity matrix.\n",
      "Computing the cosine similarity matrix...\n",
      "Done computing similarity matrix.\n",
      "Computing the cosine similarity matrix...\n",
      "Done computing similarity matrix.\n",
      "Computing the cosine similarity matrix...\n",
      "Done computing similarity matrix.\n",
      "Computing the cosine similarity matrix...\n",
      "Done computing similarity matrix.\n",
      "Computing the cosine similarity matrix...\n",
      "Done computing similarity matrix.\n",
      "Computing the cosine similarity matrix...\n",
      "Done computing similarity matrix.\n",
      "Computing the cosine similarity matrix...\n",
      "Done computing similarity matrix.\n",
      "Computing the cosine similarity matrix...\n",
      "Done computing similarity matrix.\n",
      "Computing the cosine similarity matrix...\n",
      "Done computing similarity matrix.\n",
      "Computing the cosine similarity matrix...\n",
      "Done computing similarity matrix.\n",
      "Computing the cosine similarity matrix...\n",
      "Done computing similarity matrix.\n",
      "Computing the cosine similarity matrix...\n",
      "Done computing similarity matrix.\n",
      "Computing the cosine similarity matrix...\n",
      "Done computing similarity matrix.\n",
      "Computing the cosine similarity matrix...\n",
      "Done computing similarity matrix.\n",
      "Computing the cosine similarity matrix...\n",
      "Done computing similarity matrix.\n",
      "Computing the cosine similarity matrix...\n",
      "Done computing similarity matrix.\n",
      "Computing the cosine similarity matrix...\n",
      "Done computing similarity matrix.\n",
      "Computing the cosine similarity matrix...\n",
      "Done computing similarity matrix.\n",
      "Computing the cosine similarity matrix...\n",
      "Done computing similarity matrix.\n",
      "Computing the cosine similarity matrix...\n",
      "Done computing similarity matrix.\n"
     ]
    }
   ],
   "source": [
    "k_values = np.arange(5, 41, 5)\n",
    "\n",
    "def evaluate_rmse_for_different_k(model: KNNBasic, data: any):\n",
    "    cv_results = cross_validate(model, data, measures=['RMSE'], cv=5)\n",
    "    return np.average(cv_results['test_rmse'])\n",
    "    \n",
    "sim_options_icf = {\n",
    "    \"name\": 'cosine',\n",
    "    \"user_based\": False\n",
    "}\n",
    "\n",
    "sim_options_ucf = {\n",
    "    \"name\": 'cosine',\n",
    "    'user_based': True\n",
    "}\n",
    "\n",
    "results = {}\n",
    "for k_val in k_values:\n",
    "    model_icf = KNNBasic(k=k_val, sim_options=sim_options_icf)\n",
    "    model_ucf = KNNBasic(k=k_val, sim_options=sim_options_ucf)\n",
    "    \n",
    "    acc_icf_rmse = evaluate_rmse_for_different_k(model=model_icf, data=ratings)\n",
    "    acc_ucf_rmse = evaluate_rmse_for_different_k(model=model_ucf, data=ratings)\n",
    "    results[k_val] = (acc_icf_rmse, acc_ucf_rmse)"
   ]
  },
  {
   "cell_type": "code",
   "execution_count": 59,
   "id": "76dbc925",
   "metadata": {},
   "outputs": [
    {
     "data": {
      "image/png": "[encoded data removed]",
      "text/plain": [
       "<Figure size 640x480 with 1 Axes>"
      ]
     },
     "metadata": {},
     "output_type": "display_data"
    },
    {
     "name": "stdout",
     "output_type": "stream",
     "text": [
      "{5: (1.1069462992523704, 1.0398187263163332), 10: (1.0533455675091337, 1.0090651380696547), 15: (1.03035615507323, 0.9985015371826732), 20: (1.0186059029282277, 0.9972332510723634), 25: (1.0086583353203067, 0.9960584169543955), 30: (1.0022145637303363, 0.9947805488402534), 35: (0.9995955464822822, 0.9926117244386091), 40: (0.9951075995693298, 0.9939910395543123)}\n"
     ]
    }
   ],
   "source": [
    "fig, ax = plt.subplots()\n",
    "X = list(results.keys())\n",
    "X_axis = np.arange(len(X))\n",
    "bar1 = ax.bar(X_axis - 0.2, [x[0] for x in results.values()], width = 0.4, label='Item-based CF')\n",
    "bar2 = ax.bar(X_axis + 0.2, [x[1] for x in results.values()], width = 0.4, label='User-based CF')\n",
    "\n",
    "ax.set_xticks(X_axis, X)\n",
    "ax.legend()\n",
    "plt.show()\n",
    "print(results)"
   ]
  },
  {
   "cell_type": "markdown",
   "id": "22948030",
   "metadata": {},
   "source": [
    "Examining the graph, we observe a consistent accuracy gap between Item-based Collaborative Filtering (ICF) and User-based Collaborative Filtering (UCF), with ICF consistently outperforming UCF. The number of neighbors does not appear to significantly impact the consistency of performance. However, it is notable that the RMSE accuracy keeps reducing after K value is computed."
   ]
  },
  {
   "cell_type": "markdown",
   "id": "d8281b31",
   "metadata": {},
   "source": [
    "## 3(g) Identify the best number of neighbor (denoted by K) for User/Item based collaborative filtering in terms of RMSE. Is the best K of User based collaborative filtering the same with the best K of Item based collaborative filtering? (10 points)"
   ]
  },
  {
   "cell_type": "code",
   "execution_count": 60,
   "id": "5e37fde4",
   "metadata": {},
   "outputs": [
    {
     "data": {
      "text/markdown": [
       "K = 40 has the lowest RMSE so is the best number of neighbors for Item based collaborative filtering. K = 35 is the lowest RMSE and best number of neighbors for User-based collaborative filtering."
      ],
      "text/plain": [
       "<IPython.core.display.Markdown object>"
      ]
     },
     "metadata": {},
     "output_type": "display_data"
    }
   ],
   "source": [
    "k_for_min_ucf_rmse = min(results, key=lambda x : results[x][1])\n",
    "k_for_min_icf_rmse = min(results, key=lambda x : results[x][0])\n",
    "text = \"\"\n",
    "text += f\"K = {k_for_min_icf_rmse} has the lowest RMSE so is the best number of neighbors for Item based collaborative filtering.\"\n",
    "text += f\" K = {k_for_min_ucf_rmse} is the lowest RMSE and best number of neighbors for User-based collaborative filtering.\"\n",
    "display(Markdown(text))"
   ]
  },
  {
   "cell_type": "markdown",
   "id": "9c8f34db",
   "metadata": {},
   "source": [
    "No, the best K of User based collaborative filtering is not the same with the best K of Item based collaborative filtering."
   ]
  }
 ],
 "metadata": {
  "kernelspec": {
   "display_name": "Python 3 (ipykernel)",
   "language": "python",
   "name": "python3"
  },
  "language_info": {
   "codemirror_mode": {
    "name": "ipython",
    "version": 3
   },
   "file_extension": ".py",
   "mimetype": "text/x-python",
   "name": "python",
   "nbconvert_exporter": "python",
   "pygments_lexer": "ipython3",
   "version": "3.9.13"
  }
 },
 "nbformat": 4,
 "nbformat_minor": 5
}
