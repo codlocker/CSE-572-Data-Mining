{
 "cells": [
  {
   "cell_type": "markdown",
   "id": "0eb1acc4",
   "metadata": {},
   "source": [
    "# Task 2"
   ]
  },
  {
   "cell_type": "code",
   "execution_count": 25,
   "id": "4687b160",
   "metadata": {},
   "outputs": [],
   "source": [
    "import os\n",
    "\n",
    "import matplotlib.pyplot as plt\n",
    "import numpy as np\n",
    "import pandas as pd\n",
    "from IPython.display import display, Markdown\n",
    "\n",
    "from surprise import Dataset \n",
    "from surprise import Reader\n",
    "from surprise.model_selection import train_test_split, cross_validate\n",
    "from surprise import accuracy\n",
    "from surprise import SVD, KNNBasic\n",
    "from sklearn.metrics import confusion_matrix, precision_score, recall_score,classification_report\n",
    "import warnings\n",
    "warnings.filterwarnings('ignore')"
   ]
  },
  {
   "cell_type": "markdown",
   "id": "5b3121f4",
   "metadata": {},
   "source": [
    "## Part-2"
   ]
  },
  {
   "cell_type": "code",
   "execution_count": 27,
   "id": "ec730995",
   "metadata": {},
   "outputs": [
    {
     "name": "stdout",
     "output_type": "stream",
     "text": [
      "Downloaded files are..\n"
     ]
    },
    {
     "data": {
      "text/plain": [
       "['credits.csv',\n",
       " 'keywords.csv',\n",
       " 'links.csv',\n",
       " 'links_small.csv',\n",
       " 'movies_metadata.csv',\n",
       " 'ratings.csv',\n",
       " 'ratings_small.csv']"
      ]
     },
     "execution_count": 27,
     "metadata": {},
     "output_type": "execute_result"
    }
   ],
   "source": [
    "print('Downloaded files are..')\n",
    "os.listdir('datasets/MovieRating')"
   ]
  },
  {
   "cell_type": "code",
   "execution_count": 3,
   "id": "441fde4b",
   "metadata": {},
   "outputs": [
    {
     "data": {
      "text/html": [
       "<div>\n",
       "<style scoped>\n",
       "    .dataframe tbody tr th:only-of-type {\n",
       "        vertical-align: middle;\n",
       "    }\n",
       "\n",
       "    .dataframe tbody tr th {\n",
       "        vertical-align: top;\n",
       "    }\n",
       "\n",
       "    .dataframe thead th {\n",
       "        text-align: right;\n",
       "    }\n",
       "</style>\n",
       "<table border=\"1\" class=\"dataframe\">\n",
       "  <thead>\n",
       "    <tr style=\"text-align: right;\">\n",
       "      <th></th>\n",
       "      <th>userId</th>\n",
       "      <th>movieId</th>\n",
       "      <th>rating</th>\n",
       "      <th>timestamp</th>\n",
       "    </tr>\n",
       "  </thead>\n",
       "  <tbody>\n",
       "    <tr>\n",
       "      <th>95048</th>\n",
       "      <td>624</td>\n",
       "      <td>106072</td>\n",
       "      <td>2.0</td>\n",
       "      <td>1414963234</td>\n",
       "    </tr>\n",
       "    <tr>\n",
       "      <th>1910</th>\n",
       "      <td>15</td>\n",
       "      <td>5346</td>\n",
       "      <td>3.5</td>\n",
       "      <td>1465954627</td>\n",
       "    </tr>\n",
       "    <tr>\n",
       "      <th>2058</th>\n",
       "      <td>15</td>\n",
       "      <td>7156</td>\n",
       "      <td>3.0</td>\n",
       "      <td>1120209458</td>\n",
       "    </tr>\n",
       "    <tr>\n",
       "      <th>49808</th>\n",
       "      <td>363</td>\n",
       "      <td>2642</td>\n",
       "      <td>1.0</td>\n",
       "      <td>942345802</td>\n",
       "    </tr>\n",
       "    <tr>\n",
       "      <th>37165</th>\n",
       "      <td>268</td>\n",
       "      <td>1022</td>\n",
       "      <td>4.5</td>\n",
       "      <td>1314888496</td>\n",
       "    </tr>\n",
       "  </tbody>\n",
       "</table>\n",
       "</div>"
      ],
      "text/plain": [
       "       userId  movieId  rating   timestamp\n",
       "95048     624   106072     2.0  1414963234\n",
       "1910       15     5346     3.5  1465954627\n",
       "2058       15     7156     3.0  1120209458\n",
       "49808     363     2642     1.0   942345802\n",
       "37165     268     1022     4.5  1314888496"
      ]
     },
     "execution_count": 3,
     "metadata": {},
     "output_type": "execute_result"
    }
   ],
   "source": [
    "data = pd.read_csv('datasets/MovieRating/ratings_small.csv')\n",
    "data.sample(5)"
   ]
  },
  {
   "cell_type": "markdown",
   "id": "f432eb07",
   "metadata": {},
   "source": [
    "## Part-3"
   ]
  },
  {
   "cell_type": "code",
   "execution_count": 4,
   "id": "4582bd20",
   "metadata": {},
   "outputs": [],
   "source": [
    "data = data.drop('timestamp', axis=1)"
   ]
  },
  {
   "cell_type": "code",
   "execution_count": 5,
   "id": "204b3562",
   "metadata": {},
   "outputs": [
    {
     "data": {
      "text/plain": [
       "(100004, 3)"
      ]
     },
     "execution_count": 5,
     "metadata": {},
     "output_type": "execute_result"
    }
   ],
   "source": [
    "data.shape"
   ]
  },
  {
   "cell_type": "code",
   "execution_count": 6,
   "id": "f10d01e7",
   "metadata": {},
   "outputs": [
    {
     "data": {
      "text/html": [
       "<div>\n",
       "<style scoped>\n",
       "    .dataframe tbody tr th:only-of-type {\n",
       "        vertical-align: middle;\n",
       "    }\n",
       "\n",
       "    .dataframe tbody tr th {\n",
       "        vertical-align: top;\n",
       "    }\n",
       "\n",
       "    .dataframe thead th {\n",
       "        text-align: right;\n",
       "    }\n",
       "</style>\n",
       "<table border=\"1\" class=\"dataframe\">\n",
       "  <thead>\n",
       "    <tr style=\"text-align: right;\">\n",
       "      <th></th>\n",
       "      <th>userId</th>\n",
       "      <th>movieId</th>\n",
       "      <th>rating</th>\n",
       "    </tr>\n",
       "  </thead>\n",
       "  <tbody>\n",
       "    <tr>\n",
       "      <th>28229</th>\n",
       "      <td>207</td>\n",
       "      <td>67734</td>\n",
       "      <td>3.0</td>\n",
       "    </tr>\n",
       "    <tr>\n",
       "      <th>2792</th>\n",
       "      <td>17</td>\n",
       "      <td>1570</td>\n",
       "      <td>2.5</td>\n",
       "    </tr>\n",
       "    <tr>\n",
       "      <th>1549</th>\n",
       "      <td>15</td>\n",
       "      <td>2959</td>\n",
       "      <td>5.0</td>\n",
       "    </tr>\n",
       "    <tr>\n",
       "      <th>39434</th>\n",
       "      <td>287</td>\n",
       "      <td>55768</td>\n",
       "      <td>3.0</td>\n",
       "    </tr>\n",
       "    <tr>\n",
       "      <th>98574</th>\n",
       "      <td>660</td>\n",
       "      <td>72998</td>\n",
       "      <td>4.0</td>\n",
       "    </tr>\n",
       "  </tbody>\n",
       "</table>\n",
       "</div>"
      ],
      "text/plain": [
       "       userId  movieId  rating\n",
       "28229     207    67734     3.0\n",
       "2792       17     1570     2.5\n",
       "1549       15     2959     5.0\n",
       "39434     287    55768     3.0\n",
       "98574     660    72998     4.0"
      ]
     },
     "execution_count": 6,
     "metadata": {},
     "output_type": "execute_result"
    }
   ],
   "source": [
    "data.sample(5)"
   ]
  },
  {
   "cell_type": "code",
   "execution_count": 7,
   "id": "d53d19f3",
   "metadata": {},
   "outputs": [],
   "source": [
    "reader = Reader(rating_scale=(1, 5))\n",
    "ratings = Dataset.load_from_df(data, reader)"
   ]
  },
  {
   "cell_type": "code",
   "execution_count": 8,
   "id": "74df42dc",
   "metadata": {},
   "outputs": [
    {
     "data": {
      "text/plain": [
       "surprise.dataset.DatasetAutoFolds"
      ]
     },
     "execution_count": 8,
     "metadata": {},
     "output_type": "execute_result"
    }
   ],
   "source": [
    "type(ratings)"
   ]
  },
  {
   "cell_type": "markdown",
   "id": "fb428714",
   "metadata": {},
   "source": [
    "## 3(c) Compute the average MAE and RMSE of the Probabilistic Matrix Factorization (PMF), User based Collaborative Filtering, Item based Collaborative Filtering, under the 5-folds cross-validation (10 points)"
   ]
  },
  {
   "cell_type": "markdown",
   "id": "6ceff997",
   "metadata": {},
   "source": [
    "### Use Probabilistic Matrix Factorization(PMF)"
   ]
  },
  {
   "cell_type": "code",
   "execution_count": 9,
   "id": "2f720848",
   "metadata": {},
   "outputs": [
    {
     "name": "stdout",
     "output_type": "stream",
     "text": [
      "Evaluating RMSE, MAE of algorithm SVD on 5 split(s).\n",
      "\n",
      "                  Fold 1  Fold 2  Fold 3  Fold 4  Fold 5  Mean    Std     \n",
      "RMSE (testset)    0.8888  0.9073  0.8946  0.8948  0.8924  0.8956  0.0063  \n",
      "MAE (testset)     0.6852  0.7016  0.6889  0.6875  0.6859  0.6898  0.0060  \n",
      "Fit time          2.41    2.71    2.39    2.20    2.08    2.36    0.21    \n",
      "Test time         0.51    0.63    0.35    0.44    0.34    0.45    0.11    \n"
     ]
    }
   ],
   "source": [
    "model_pmf = SVD()\n",
    "model_pmf_cv = cross_validate(model_pmf, ratings, measures=['RMSE', 'MAE'], cv = 5, verbose=True)"
   ]
  },
  {
   "cell_type": "code",
   "execution_count": 10,
   "id": "d8da1340",
   "metadata": {},
   "outputs": [
    {
     "name": "stdout",
     "output_type": "stream",
     "text": [
      "Average of RMSE for Probabilistic Matrix Factorization(PMF) =  0.8955897920947716\n",
      "Average of MAE for Probabilistic Matrix Factorization(PMF) =  0.6898298628212974\n"
     ]
    }
   ],
   "source": [
    "avg_pmf_rmse = np.average(model_pmf_cv['test_rmse'])\n",
    "avg_pmf_mae = np.average(model_pmf_cv['test_mae'])\n",
    "print('Average of RMSE for Probabilistic Matrix Factorization(PMF) = ', avg_pmf_rmse)\n",
    "print('Average of MAE for Probabilistic Matrix Factorization(PMF) = ', avg_pmf_mae)"
   ]
  },
  {
   "cell_type": "markdown",
   "id": "23eaeed7",
   "metadata": {},
   "source": [
    "### Use User-based collaborative filtering (UCF)"
   ]
  },
  {
   "cell_type": "code",
   "execution_count": 11,
   "id": "e1f6af00",
   "metadata": {},
   "outputs": [
    {
     "name": "stdout",
     "output_type": "stream",
     "text": [
      "Computing the cosine similarity matrix...\n",
      "Done computing similarity matrix.\n",
      "Computing the cosine similarity matrix...\n",
      "Done computing similarity matrix.\n",
      "Computing the cosine similarity matrix...\n",
      "Done computing similarity matrix.\n",
      "Computing the cosine similarity matrix...\n",
      "Done computing similarity matrix.\n",
      "Computing the cosine similarity matrix...\n",
      "Done computing similarity matrix.\n",
      "Evaluating RMSE, MAE of algorithm KNNBasic on 5 split(s).\n",
      "\n",
      "                  Fold 1  Fold 2  Fold 3  Fold 4  Fold 5  Mean    Std     \n",
      "RMSE (testset)    0.9931  0.9903  0.9874  1.0017  0.9912  0.9927  0.0048  \n",
      "MAE (testset)     0.7657  0.7633  0.7633  0.7745  0.7666  0.7667  0.0041  \n",
      "Fit time          0.83    0.78    0.94    0.78    1.17    0.90    0.15    \n",
      "Test time         2.48    2.44    2.75    2.75    3.25    2.74    0.29    \n"
     ]
    }
   ],
   "source": [
    "sim_options = {'name': 'cosine', 'user_based': True}\n",
    "model_ucf = KNNBasic(sim_options=sim_options)\n",
    "model_ucf_cv = cross_validate(model_ucf, ratings, measures=['RMSE', 'MAE'], cv = 5, verbose=True)"
   ]
  },
  {
   "cell_type": "code",
   "execution_count": 12,
   "id": "e3d558a5",
   "metadata": {},
   "outputs": [
    {
     "data": {
      "text/markdown": [
       "Average of RMSE for User-based collaborative filtering (UCF) = 0.9927372931568682<br>Average of MAE for User-based collaborative filtering (UCF) = 0.7666935219031984<br>"
      ],
      "text/plain": [
       "<IPython.core.display.Markdown object>"
      ]
     },
     "metadata": {},
     "output_type": "display_data"
    }
   ],
   "source": [
    "avg_ucf_rmse = np.average(model_ucf_cv['test_rmse'])\n",
    "avg_ucf_mae = np.average(model_ucf_cv['test_mae'])\n",
    "text_1 = f\"Average of RMSE for User-based collaborative filtering (UCF) = {avg_ucf_rmse}<br>Average of MAE for User-based collaborative filtering (UCF) = {avg_ucf_mae}<br>\"\n",
    "\n",
    "display(Markdown(text_1))"
   ]
  },
  {
   "cell_type": "markdown",
   "id": "3fa86e3f",
   "metadata": {},
   "source": [
    "## Use Item-based collaborative filtering (ICF)"
   ]
  },
  {
   "cell_type": "code",
   "execution_count": 13,
   "id": "2468d2aa",
   "metadata": {},
   "outputs": [
    {
     "name": "stdout",
     "output_type": "stream",
     "text": [
      "Computing the cosine similarity matrix...\n",
      "Done computing similarity matrix.\n",
      "Computing the cosine similarity matrix...\n",
      "Done computing similarity matrix.\n",
      "Computing the cosine similarity matrix...\n",
      "Done computing similarity matrix.\n",
      "Computing the cosine similarity matrix...\n",
      "Done computing similarity matrix.\n",
      "Computing the cosine similarity matrix...\n",
      "Done computing similarity matrix.\n",
      "Evaluating RMSE, MAE of algorithm KNNBasic on 5 split(s).\n",
      "\n",
      "                  Fold 1  Fold 2  Fold 3  Fold 4  Fold 5  Mean    Std     \n",
      "RMSE (testset)    1.0000  0.9836  0.9917  1.0005  1.0003  0.9952  0.0067  \n",
      "MAE (testset)     0.7787  0.7663  0.7702  0.7760  0.7786  0.7740  0.0049  \n",
      "Fit time          10.57   10.67   9.48    11.21   14.57   11.30   1.73    \n",
      "Test time         11.43   11.16   21.44   18.38   23.16   17.11   4.99    \n"
     ]
    }
   ],
   "source": [
    "sim_options = {'name': 'cosine', 'user_based': False}\n",
    "model_icf = KNNBasic(sim_options=sim_options)\n",
    "model_icf_cv = cross_validate(model_icf, ratings, measures=['RMSE', 'MAE'], cv = 5, verbose=True)"
   ]
  },
  {
   "cell_type": "code",
   "execution_count": 14,
   "id": "5ae01cf6",
   "metadata": {},
   "outputs": [
    {
     "name": "stdout",
     "output_type": "stream",
     "text": [
      "Average of RMSE for Item-based collaborative filtering (ICF) = 0.9952069599608198\n",
      "Average of MAE for Item-based collaborative filtering (ICF) = 0.7739586181982956\n"
     ]
    }
   ],
   "source": [
    "avg_icf_rmse = np.average(model_icf_cv['test_rmse'])\n",
    "avg_icf_mae = np.average(model_icf_cv['test_mae'])\n",
    "print('Average of RMSE for Item-based collaborative filtering (ICF) =', avg_icf_rmse)\n",
    "print('Average of MAE for Item-based collaborative filtering (ICF) =', avg_icf_mae)"
   ]
  },
  {
   "cell_type": "markdown",
   "id": "19a6e14b",
   "metadata": {},
   "source": [
    "### 3(d) Compare the average (mean) performances of User-based collaborative filtering, item-based collaborative filtering, PMF with respect to RMSE and MAE. Which ML model is the best in the movie rating data? (10 points"
   ]
  },
  {
   "cell_type": "code",
   "execution_count": 15,
   "id": "3174153f",
   "metadata": {},
   "outputs": [
    {
     "data": {
      "text/markdown": [
       "|Algo|Mean RMSE|Mean MAE|\n",
       "|----|---------|--------|\n",
       "|Probability Matrix Factorization|0.8955897920947716|0.6898298628212974|\n",
       "|User-based collaborative filtering|0.9927372931568682|0.7666935219031984|\n",
       "|Item-based collaborative filtering|0.9952069599608198|0.7739586181982956|"
      ],
      "text/plain": [
       "<IPython.core.display.Markdown object>"
      ]
     },
     "metadata": {},
     "output_type": "display_data"
    }
   ],
   "source": [
    "text = f\"\"\"|Algo|Mean RMSE|Mean MAE|\n",
    "|----|---------|--------|\n",
    "|Probability Matrix Factorization|{avg_pmf_rmse}|{avg_pmf_mae}|\n",
    "|User-based collaborative filtering|{avg_ucf_rmse}|{avg_ucf_mae}|\n",
    "|Item-based collaborative filtering|{avg_icf_rmse}|{avg_icf_mae}|\"\"\"\n",
    "display(Markdown(text))"
   ]
  },
  {
   "cell_type": "markdown",
   "id": "d0b8f4d8",
   "metadata": {},
   "source": [
    "Looking at the table, we see User-based collaborative filtering and Item-based collaborative filtering are pretty similar in performance.\n",
    "\n",
    "But on pure numbers perspective, Item-based collaborative filtering is the better model for movie rating data for both RMSE and MAE"
   ]
  },
  {
   "cell_type": "markdown",
   "id": "cb58f419",
   "metadata": {},
   "source": [
    "## 3(e) Examine how the cosine, MSD (Mean Squared Difference), and Pearson similarities impact the performances of User based Collaborative Filtering and Item based Collaborative Filtering. Plot your results. Is the impact of the three metrics on User based Collaborative Filtering consistent with the impact of the three metrics on Item based Collaborative Filtering? (10 points)"
   ]
  },
  {
   "cell_type": "code",
   "execution_count": 16,
   "id": "38270079",
   "metadata": {},
   "outputs": [],
   "source": [
    "# Item-based collaborative filtering\n",
    "sim_options_cosine = {\n",
    "    \"name\": 'cosine',\n",
    "    'user_based': False\n",
    "}\n",
    "\n",
    "sim_options_msd = {\n",
    "    \"name\": 'msd',\n",
    "    'user_based': False\n",
    "}\n",
    "\n",
    "sim_options_pearson = {\n",
    "    \"name\": 'pearson',\n",
    "    'user_based': False\n",
    "}"
   ]
  },
  {
   "cell_type": "code",
   "execution_count": 17,
   "id": "94ccf56f",
   "metadata": {},
   "outputs": [
    {
     "name": "stdout",
     "output_type": "stream",
     "text": [
      "Computing the cosine similarity matrix...\n",
      "Done computing similarity matrix.\n",
      "Computing the cosine similarity matrix...\n",
      "Done computing similarity matrix.\n",
      "Computing the cosine similarity matrix...\n",
      "Done computing similarity matrix.\n",
      "Computing the cosine similarity matrix...\n",
      "Done computing similarity matrix.\n",
      "Computing the cosine similarity matrix...\n",
      "Done computing similarity matrix.\n",
      "Evaluating RMSE of algorithm KNNBasic on 5 split(s).\n",
      "\n",
      "                  Fold 1  Fold 2  Fold 3  Fold 4  Fold 5  Mean    Std     \n",
      "RMSE (testset)    0.9867  0.9975  0.9902  0.9936  1.0094  0.9955  0.0078  \n",
      "Fit time          13.32   10.45   10.78   10.81   8.98    10.87   1.40    \n",
      "Test time         15.15   14.73   15.12   12.94   12.30   14.05   1.19    \n",
      "Computing the msd similarity matrix...\n",
      "Done computing similarity matrix.\n",
      "Computing the msd similarity matrix...\n",
      "Done computing similarity matrix.\n",
      "Computing the msd similarity matrix...\n",
      "Done computing similarity matrix.\n",
      "Computing the msd similarity matrix...\n",
      "Done computing similarity matrix.\n",
      "Computing the msd similarity matrix...\n",
      "Done computing similarity matrix.\n",
      "Evaluating RMSE of algorithm KNNBasic on 5 split(s).\n",
      "\n",
      "                  Fold 1  Fold 2  Fold 3  Fold 4  Fold 5  Mean    Std     \n",
      "RMSE (testset)    0.9449  0.9328  0.9273  0.9368  0.9382  0.9360  0.0058  \n",
      "Fit time          5.21    4.88    4.89    5.40    5.26    5.13    0.21    \n",
      "Test time         11.40   12.77   13.49   13.86   13.24   12.95   0.86    \n",
      "Computing the pearson similarity matrix...\n",
      "Done computing similarity matrix.\n",
      "Computing the pearson similarity matrix...\n",
      "Done computing similarity matrix.\n",
      "Computing the pearson similarity matrix...\n",
      "Done computing similarity matrix.\n",
      "Computing the pearson similarity matrix...\n",
      "Done computing similarity matrix.\n",
      "Computing the pearson similarity matrix...\n",
      "Done computing similarity matrix.\n",
      "Evaluating RMSE of algorithm KNNBasic on 5 split(s).\n",
      "\n",
      "                  Fold 1  Fold 2  Fold 3  Fold 4  Fold 5  Mean    Std     \n",
      "RMSE (testset)    0.9902  0.9900  0.9925  0.9837  0.9876  0.9888  0.0030  \n",
      "Fit time          14.16   14.08   13.79   14.04   13.26   13.86   0.33    \n",
      "Test time         13.20   13.52   13.78   13.41   12.86   13.35   0.31    \n"
     ]
    }
   ],
   "source": [
    "model_icf_cosine = KNNBasic(sim_options=sim_options_cosine)\n",
    "model_icf_cosine_cv = cross_validate(algo=model_icf_cosine, data=ratings, measures=['RMSE'], cv=5, verbose=True)\n",
    "\n",
    "model_icf_msd = KNNBasic(sim_options=sim_options_msd)\n",
    "model_icf_msd_cv = cross_validate(algo=model_icf_msd, data=ratings, measures=['RMSE'], cv=5, verbose=True)\n",
    "\n",
    "model_icf_pearson = KNNBasic(sim_options=sim_options_pearson)\n",
    "model_icf_pearson_cv = cross_validate(algo=model_icf_pearson, data=ratings, measures=['RMSE'], cv=5, verbose=True)\n",
    "\n",
    "avg_model_icf_cosine_cv = np.average(model_icf_cosine_cv['test_rmse'])\n",
    "avg_model_icf_msd_cv = np.average(model_icf_msd_cv['test_rmse'])\n",
    "avg_model_icf_pearson_cv = np.average(model_icf_pearson_cv['test_rmse'])"
   ]
  },
  {
   "cell_type": "code",
   "execution_count": 18,
   "id": "d8c2caab",
   "metadata": {},
   "outputs": [],
   "source": [
    "# User-based collaborative filtering\n",
    "sim_options_cosine = {\n",
    "    \"name\": 'cosine',\n",
    "    'user_based': True\n",
    "}\n",
    "\n",
    "sim_options_msd = {\n",
    "    \"name\": 'msd',\n",
    "    'user_based': True\n",
    "}\n",
    "\n",
    "sim_options_pearson = {\n",
    "    \"name\": 'pearson',\n",
    "    'user_based': True\n",
    "}"
   ]
  },
  {
   "cell_type": "code",
   "execution_count": 19,
   "id": "d371e742",
   "metadata": {},
   "outputs": [
    {
     "name": "stdout",
     "output_type": "stream",
     "text": [
      "Computing the cosine similarity matrix...\n",
      "Done computing similarity matrix.\n",
      "Computing the cosine similarity matrix...\n",
      "Done computing similarity matrix.\n",
      "Computing the cosine similarity matrix...\n",
      "Done computing similarity matrix.\n",
      "Computing the cosine similarity matrix...\n",
      "Done computing similarity matrix.\n",
      "Computing the cosine similarity matrix...\n",
      "Done computing similarity matrix.\n",
      "Evaluating RMSE of algorithm KNNBasic on 5 split(s).\n",
      "\n",
      "                  Fold 1  Fold 2  Fold 3  Fold 4  Fold 5  Mean    Std     \n",
      "RMSE (testset)    0.9793  0.9984  0.9925  1.0012  0.9944  0.9931  0.0076  \n",
      "Fit time          0.64    0.66    0.81    0.69    0.68    0.69    0.06    \n",
      "Test time         2.14    2.20    2.74    2.46    2.51    2.41    0.22    \n",
      "Computing the msd similarity matrix...\n",
      "Done computing similarity matrix.\n",
      "Computing the msd similarity matrix...\n",
      "Done computing similarity matrix.\n",
      "Computing the msd similarity matrix...\n",
      "Done computing similarity matrix.\n",
      "Computing the msd similarity matrix...\n",
      "Done computing similarity matrix.\n",
      "Computing the msd similarity matrix...\n",
      "Done computing similarity matrix.\n",
      "Evaluating RMSE of algorithm KNNBasic on 5 split(s).\n",
      "\n",
      "                  Fold 1  Fold 2  Fold 3  Fold 4  Fold 5  Mean    Std     \n",
      "RMSE (testset)    0.9709  0.9720  0.9668  0.9623  0.9671  0.9678  0.0034  \n",
      "Fit time          0.32    0.31    0.36    0.31    0.28    0.31    0.03    \n",
      "Test time         2.48    2.21    2.35    2.25    2.54    2.36    0.13    \n",
      "Computing the pearson similarity matrix...\n",
      "Done computing similarity matrix.\n",
      "Computing the pearson similarity matrix...\n",
      "Done computing similarity matrix.\n",
      "Computing the pearson similarity matrix...\n",
      "Done computing similarity matrix.\n",
      "Computing the pearson similarity matrix...\n",
      "Done computing similarity matrix.\n",
      "Computing the pearson similarity matrix...\n",
      "Done computing similarity matrix.\n",
      "Evaluating RMSE of algorithm KNNBasic on 5 split(s).\n",
      "\n",
      "                  Fold 1  Fold 2  Fold 3  Fold 4  Fold 5  Mean    Std     \n",
      "RMSE (testset)    1.0079  0.9928  0.9935  1.0075  0.9909  0.9985  0.0075  \n",
      "Fit time          0.86    0.95    0.91    0.95    0.88    0.91    0.04    \n",
      "Test time         2.67    2.65    2.76    2.90    3.15    2.83    0.19    \n"
     ]
    }
   ],
   "source": [
    "model_ucf_cosine = KNNBasic(sim_options=sim_options_cosine)\n",
    "model_ucf_cosine_cv = cross_validate(algo=model_ucf_cosine, data=ratings, measures=['RMSE'], cv=5, verbose=True)\n",
    "\n",
    "model_ucf_msd = KNNBasic(sim_options=sim_options_msd)\n",
    "model_ucf_msd_cv = cross_validate(algo=model_ucf_msd, data=ratings, measures=['RMSE'], cv=5, verbose=True)\n",
    "\n",
    "model_ucf_pearson = KNNBasic(sim_options=sim_options_pearson)\n",
    "model_ucf_pearson_cv = cross_validate(algo=model_ucf_pearson, data=ratings, measures=['RMSE'], cv=5, verbose=True)\n",
    "\n",
    "avg_model_ucf_cosine_cv = np.average(model_ucf_cosine_cv['test_rmse'])\n",
    "avg_model_ucf_msd_cv = np.average(model_ucf_msd_cv['test_rmse'])\n",
    "avg_model_ucf_pearson_cv = np.average(model_ucf_pearson_cv['test_rmse'])"
   ]
  },
  {
   "cell_type": "code",
   "execution_count": 20,
   "id": "c3184c01",
   "metadata": {
    "scrolled": true
   },
   "outputs": [
    {
     "data": {
      "image/png": "[encoded data removed]",
      "text/plain": [
       "<Figure size 1000x600 with 1 Axes>"
      ]
     },
     "metadata": {},
     "output_type": "display_data"
    }
   ],
   "source": [
    "final_res = {\n",
    "    'RMSE Cosine Similarity - UCF': avg_model_ucf_cosine_cv,\n",
    "    'RMSE Pearson Similarity - UCF': avg_model_ucf_pearson_cv,\n",
    "    'RMSE MSD Similarity - UCF': avg_model_ucf_msd_cv,\n",
    "    'RMSE Cosine Similarity - ICF': avg_model_icf_cosine_cv,\n",
    "    'RMSE Pearson Similarity - ICF': avg_model_icf_pearson_cv,\n",
    "    'RMSE MSD Similarity - ICF': avg_model_icf_msd_cv\n",
    "}\n",
    "\n",
    "fig, ax = plt.subplots(figsize=(10, 6))\n",
    "bars = ax.barh(\n",
    "    list(final_res.keys()), list(final_res.values()),\n",
    "    color='maroon',\n",
    "    label=list(final_res.values())\n",
    ")\n",
    "for bar in bars:\n",
    "    plt.text(bar.get_width(), bar.get_y() + bar.get_height() / 2, f'{bar.get_width():.4f}', \n",
    "             va='center', ha='left', fontsize=8, color='black')\n",
    "\n",
    "ax.set_xlabel('RMSE Values')\n",
    "ax.set_title('RMSE for Different Similarity Metrics and Collaborative Filtering Methods')\n",
    "plt.show()"
   ]
  },
  {
   "cell_type": "code",
   "execution_count": 21,
   "id": "94a1fac4",
   "metadata": {},
   "outputs": [
    {
     "data": {
      "text/markdown": [
       "Looking at the graph above Item CF (0.9360003026449932) achieves **lower RMSE** Accuracy than User CF (0.9678036682046487) for **MSD** similarity measure, **lower RMSE** Accuracy(0.9888066780766935) than User CF (0.9985227629424971) for **Pearson similarity measure** and higher RMSE Accuracy(0.9954736621890238) than User CF(0.9931465707657837) for **Cosine** similarity measure."
      ],
      "text/plain": [
       "<IPython.core.display.Markdown object>"
      ]
     },
     "metadata": {},
     "output_type": "display_data"
    }
   ],
   "source": [
    "text = \"\"\n",
    "text += f\"Looking at the graph above Item CF ({avg_model_icf_msd_cv}) achieves **lower RMSE**\"\n",
    "text += f\" Accuracy than User CF ({avg_model_ucf_msd_cv}) for **MSD** similarity measure, **lower RMSE** Accuracy({avg_model_icf_pearson_cv})\"\n",
    "text += f\" than User CF ({avg_model_ucf_pearson_cv}) for **Pearson similarity measure** and higher RMSE Accuracy({avg_model_icf_cosine_cv})\"\n",
    "text += f\" than User CF({avg_model_ucf_cosine_cv}) for **Cosine** similarity measure.\"\n",
    "\n",
    "display(Markdown(text))"
   ]
  },
  {
   "cell_type": "markdown",
   "id": "55a9c9b5",
   "metadata": {},
   "source": [
    "While the difference is not significant for Pearson and Cosine, but looking at the pure numbers, the impact of the 3 metrics is not significantly consistent between User-based collaborative filtering and Item-based collaborative filtering."
   ]
  },
  {
   "cell_type": "markdown",
   "id": "ac4fb51d",
   "metadata": {},
   "source": [
    "## 3(f) Examine how the number of neighbors impacts the performances of User based Collaborative Filtering and Item based Collaborative Filtering? Plot your results. "
   ]
  },
  {
   "cell_type": "code",
   "execution_count": 22,
   "id": "afb5402c",
   "metadata": {},
   "outputs": [
    {
     "name": "stdout",
     "output_type": "stream",
     "text": [
      "Computing the cosine similarity matrix...\n",
      "Done computing similarity matrix.\n",
      "Computing the cosine similarity matrix...\n",
      "Done computing similarity matrix.\n",
      "Computing the cosine similarity matrix...\n",
      "Done computing similarity matrix.\n",
      "Computing the cosine similarity matrix...\n",
      "Done computing similarity matrix.\n",
      "Computing the cosine similarity matrix...\n",
      "Done computing similarity matrix.\n",
      "Computing the cosine similarity matrix...\n",
      "Done computing similarity matrix.\n",
      "Computing the cosine similarity matrix...\n",
      "Done computing similarity matrix.\n",
      "Computing the cosine similarity matrix...\n",
      "Done computing similarity matrix.\n",
      "Computing the cosine similarity matrix...\n",
      "Done computing similarity matrix.\n",
      "Computing the cosine similarity matrix...\n",
      "Done computing similarity matrix.\n",
      "Computing the cosine similarity matrix...\n",
      "Done computing similarity matrix.\n",
      "Computing the cosine similarity matrix...\n",
      "Done computing similarity matrix.\n",
      "Computing the cosine similarity matrix...\n",
      "Done computing similarity matrix.\n",
      "Computing the cosine similarity matrix...\n",
      "Done computing similarity matrix.\n",
      "Computing the cosine similarity matrix...\n",
      "Done computing similarity matrix.\n",
      "Computing the cosine similarity matrix...\n",
      "Done computing similarity matrix.\n",
      "Computing the cosine similarity matrix...\n",
      "Done computing similarity matrix.\n",
      "Computing the cosine similarity matrix...\n",
      "Done computing similarity matrix.\n",
      "Computing the cosine similarity matrix...\n",
      "Done computing similarity matrix.\n",
      "Computing the cosine similarity matrix...\n",
      "Done computing similarity matrix.\n",
      "Computing the cosine similarity matrix...\n",
      "Done computing similarity matrix.\n",
      "Computing the cosine similarity matrix...\n",
      "Done computing similarity matrix.\n",
      "Computing the cosine similarity matrix...\n",
      "Done computing similarity matrix.\n",
      "Computing the cosine similarity matrix...\n",
      "Done computing similarity matrix.\n",
      "Computing the cosine similarity matrix...\n",
      "Done computing similarity matrix.\n",
      "Computing the cosine similarity matrix...\n",
      "Done computing similarity matrix.\n",
      "Computing the cosine similarity matrix...\n",
      "Done computing similarity matrix.\n",
      "Computing the cosine similarity matrix...\n",
      "Done computing similarity matrix.\n",
      "Computing the cosine similarity matrix...\n",
      "Done computing similarity matrix.\n",
      "Computing the cosine similarity matrix...\n",
      "Done computing similarity matrix.\n",
      "Computing the cosine similarity matrix...\n",
      "Done computing similarity matrix.\n",
      "Computing the cosine similarity matrix...\n",
      "Done computing similarity matrix.\n",
      "Computing the cosine similarity matrix...\n",
      "Done computing similarity matrix.\n",
      "Computing the cosine similarity matrix...\n",
      "Done computing similarity matrix.\n",
      "Computing the cosine similarity matrix...\n",
      "Done computing similarity matrix.\n",
      "Computing the cosine similarity matrix...\n",
      "Done computing similarity matrix.\n",
      "Computing the cosine similarity matrix...\n",
      "Done computing similarity matrix.\n",
      "Computing the cosine similarity matrix...\n",
      "Done computing similarity matrix.\n",
      "Computing the cosine similarity matrix...\n",
      "Done computing similarity matrix.\n",
      "Computing the cosine similarity matrix...\n",
      "Done computing similarity matrix.\n",
      "Computing the cosine similarity matrix...\n",
      "Done computing similarity matrix.\n",
      "Computing the cosine similarity matrix...\n",
      "Done computing similarity matrix.\n",
      "Computing the cosine similarity matrix...\n",
      "Done computing similarity matrix.\n",
      "Computing the cosine similarity matrix...\n",
      "Done computing similarity matrix.\n",
      "Computing the cosine similarity matrix...\n",
      "Done computing similarity matrix.\n",
      "Computing the cosine similarity matrix...\n",
      "Done computing similarity matrix.\n",
      "Computing the cosine similarity matrix...\n",
      "Done computing similarity matrix.\n",
      "Computing the cosine similarity matrix...\n",
      "Done computing similarity matrix.\n",
      "Computing the cosine similarity matrix...\n",
      "Done computing similarity matrix.\n",
      "Computing the cosine similarity matrix...\n",
      "Done computing similarity matrix.\n",
      "Computing the cosine similarity matrix...\n",
      "Done computing similarity matrix.\n",
      "Computing the cosine similarity matrix...\n",
      "Done computing similarity matrix.\n",
      "Computing the cosine similarity matrix...\n",
      "Done computing similarity matrix.\n",
      "Computing the cosine similarity matrix...\n",
      "Done computing similarity matrix.\n",
      "Computing the cosine similarity matrix...\n",
      "Done computing similarity matrix.\n",
      "Computing the cosine similarity matrix...\n",
      "Done computing similarity matrix.\n",
      "Computing the cosine similarity matrix...\n",
      "Done computing similarity matrix.\n",
      "Computing the cosine similarity matrix...\n",
      "Done computing similarity matrix.\n",
      "Computing the cosine similarity matrix...\n",
      "Done computing similarity matrix.\n",
      "Computing the cosine similarity matrix...\n",
      "Done computing similarity matrix.\n",
      "Computing the cosine similarity matrix...\n",
      "Done computing similarity matrix.\n",
      "Computing the cosine similarity matrix...\n",
      "Done computing similarity matrix.\n",
      "Computing the cosine similarity matrix...\n",
      "Done computing similarity matrix.\n",
      "Computing the cosine similarity matrix...\n",
      "Done computing similarity matrix.\n",
      "Computing the cosine similarity matrix...\n",
      "Done computing similarity matrix.\n",
      "Computing the cosine similarity matrix...\n",
      "Done computing similarity matrix.\n",
      "Computing the cosine similarity matrix...\n",
      "Done computing similarity matrix.\n",
      "Computing the cosine similarity matrix...\n",
      "Done computing similarity matrix.\n",
      "Computing the cosine similarity matrix...\n",
      "Done computing similarity matrix.\n",
      "Computing the cosine similarity matrix...\n",
      "Done computing similarity matrix.\n",
      "Computing the cosine similarity matrix...\n",
      "Done computing similarity matrix.\n",
      "Computing the cosine similarity matrix...\n",
      "Done computing similarity matrix.\n",
      "Computing the cosine similarity matrix...\n",
      "Done computing similarity matrix.\n",
      "Computing the cosine similarity matrix...\n",
      "Done computing similarity matrix.\n",
      "Computing the cosine similarity matrix...\n",
      "Done computing similarity matrix.\n",
      "Computing the cosine similarity matrix...\n",
      "Done computing similarity matrix.\n",
      "Computing the cosine similarity matrix...\n",
      "Done computing similarity matrix.\n",
      "Computing the cosine similarity matrix...\n",
      "Done computing similarity matrix.\n",
      "Computing the cosine similarity matrix...\n",
      "Done computing similarity matrix.\n",
      "Computing the cosine similarity matrix...\n",
      "Done computing similarity matrix.\n"
     ]
    }
   ],
   "source": [
    "k_values = np.arange(5, 41, 5)\n",
    "\n",
    "def evaluate_rmse_for_different_k(model: KNNBasic, data: any):\n",
    "    cv_results = cross_validate(model, data, measures=['RMSE'], cv=5)\n",
    "    return np.average(cv_results['test_rmse'])\n",
    "    \n",
    "sim_options_icf = {\n",
    "    \"name\": 'cosine',\n",
    "    \"user_based\": False\n",
    "}\n",
    "\n",
    "sim_options_ucf = {\n",
    "    \"name\": 'cosine',\n",
    "    'user_based': True\n",
    "}\n",
    "\n",
    "results = {}\n",
    "for k_val in k_values:\n",
    "    model_icf = KNNBasic(k=k_val, sim_options=sim_options_icf)\n",
    "    model_ucf = KNNBasic(k=k_val, sim_options=sim_options_ucf)\n",
    "    \n",
    "    acc_icf_rmse = evaluate_rmse_for_different_k(model=model_icf, data=ratings)\n",
    "    acc_ucf_rmse = evaluate_rmse_for_different_k(model=model_ucf, data=ratings)\n",
    "    results[k_val] = (acc_icf_rmse, acc_ucf_rmse)"
   ]
  },
  {
   "cell_type": "code",
   "execution_count": 23,
   "id": "76dbc925",
   "metadata": {},
   "outputs": [
    {
     "data": {
      "image/png": "[encoded data removed]",
      "text/plain": [
       "<Figure size 640x480 with 1 Axes>"
      ]
     },
     "metadata": {},
     "output_type": "display_data"
    },
    {
     "name": "stdout",
     "output_type": "stream",
     "text": [
      "{5: (1.0977513965818677, 1.0451848657442429), 10: (1.051143766790784, 1.0089082709891393), 15: (1.029427493933344, 0.9998738943462591), 20: (1.0168971014226913, 0.9955319415683922), 25: (1.00887471857207, 0.994907767719536), 30: (1.0031370565391147, 0.994414269131361), 35: (0.9987699802028935, 0.9949370780708768), 40: (0.9957832335778919, 0.9913478719314399)}\n"
     ]
    }
   ],
   "source": [
    "fig, ax = plt.subplots()\n",
    "X = list(results.keys())\n",
    "X_axis = np.arange(len(X))\n",
    "bar1 = ax.bar(X_axis - 0.2, [x[0] for x in results.values()], width = 0.4, label='Item-based CF')\n",
    "bar2 = ax.bar(X_axis + 0.2, [x[1] for x in results.values()], width = 0.4, label='User-based CF')\n",
    "\n",
    "ax.set_xticks(X_axis, X)\n",
    "ax.legend()\n",
    "plt.show()\n",
    "print(results)"
   ]
  },
  {
   "cell_type": "markdown",
   "id": "22948030",
   "metadata": {},
   "source": [
    "Examining the graph, we observe a consistent accuracy gap between Item-based Collaborative Filtering (ICF) and User-based Collaborative Filtering (UCF), with ICF consistently outperforming UCF. The number of neighbors does not appear to significantly impact the consistency of performance. However, it is notable that the RMSE accuracy keeps reducing after K value is computed."
   ]
  },
  {
   "cell_type": "markdown",
   "id": "d8281b31",
   "metadata": {},
   "source": [
    "## 3(g) Identify the best number of neighbor (denoted by K) for User/Item based collaborative filtering in terms of RMSE. Is the best K of User based collaborative filtering the same with the best K of Item based collaborative filtering? (10 points)"
   ]
  },
  {
   "cell_type": "code",
   "execution_count": 24,
   "id": "5e37fde4",
   "metadata": {},
   "outputs": [
    {
     "data": {
      "text/markdown": [
       "K = 40 has the lowest RMSE so is the best number of neighbors for Item based collaborative filtering. K = 40 is the lowest RMSE and best number of neighbors for User-based collaborative filtering."
      ],
      "text/plain": [
       "<IPython.core.display.Markdown object>"
      ]
     },
     "metadata": {},
     "output_type": "display_data"
    }
   ],
   "source": [
    "k_for_min_ucf_rmse = min(results, key=lambda x : results[x][1])\n",
    "k_for_min_icf_rmse = min(results, key=lambda x : results[x][0])\n",
    "text = \"\"\n",
    "text += f\"K = {k_for_min_icf_rmse} has the lowest RMSE so is the best number of neighbors for Item based collaborative filtering.\"\n",
    "text += f\" K = {k_for_min_ucf_rmse} is the lowest RMSE and best number of neighbors for User-based collaborative filtering.\"\n",
    "display(Markdown(text))"
   ]
  },
  {
   "cell_type": "markdown",
   "id": "9c8f34db",
   "metadata": {},
   "source": [
    "No, the best K of User based collaborative filtering is not the same with the best K of Item based collaborative filtering."
   ]
  }
 ],
 "metadata": {
  "kernelspec": {
   "display_name": "Python 3 (ipykernel)",
   "language": "python",
   "name": "python3"
  },
  "language_info": {
   "codemirror_mode": {
    "name": "ipython",
    "version": 3
   },
   "file_extension": ".py",
   "mimetype": "text/x-python",
   "name": "python",
   "nbconvert_exporter": "python",
   "pygments_lexer": "ipython3",
   "version": "3.9.13"
  }
 },
 "nbformat": 4,
 "nbformat_minor": 5
}
