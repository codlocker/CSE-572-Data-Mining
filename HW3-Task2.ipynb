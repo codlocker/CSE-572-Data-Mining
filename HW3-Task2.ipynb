{
 "cells": [
  {
   "cell_type": "markdown",
   "id": "0eb1acc4",
   "metadata": {},
   "source": [
    "## Task 2"
   ]
  },
  {
   "cell_type": "code",
   "execution_count": 25,
   "id": "4687b160",
   "metadata": {},
   "outputs": [],
   "source": [
    "import matplotlib.pyplot as plt\n",
    "import numpy as np\n",
    "import pandas as pd\n",
    "from IPython.display import Markdown\n",
    "\n",
    "from surprise import Dataset \n",
    "from surprise import Reader\n",
    "from surprise.model_selection import train_test_split, cross_validate\n",
    "from surprise import accuracy\n",
    "from surprise import SVD, KNNBasic\n",
    "from sklearn.metrics import confusion_matrix, precision_score, recall_score,classification_report\n",
    "import warnings\n",
    "warnings.filterwarnings('ignore')"
   ]
  },
  {
   "cell_type": "markdown",
   "id": "5b3121f4",
   "metadata": {},
   "source": [
    "## Part-2"
   ]
  },
  {
   "cell_type": "code",
   "execution_count": 26,
   "id": "441fde4b",
   "metadata": {},
   "outputs": [
    {
     "data": {
      "text/html": [
       "<div>\n",
       "<style scoped>\n",
       "    .dataframe tbody tr th:only-of-type {\n",
       "        vertical-align: middle;\n",
       "    }\n",
       "\n",
       "    .dataframe tbody tr th {\n",
       "        vertical-align: top;\n",
       "    }\n",
       "\n",
       "    .dataframe thead th {\n",
       "        text-align: right;\n",
       "    }\n",
       "</style>\n",
       "<table border=\"1\" class=\"dataframe\">\n",
       "  <thead>\n",
       "    <tr style=\"text-align: right;\">\n",
       "      <th></th>\n",
       "      <th>userId</th>\n",
       "      <th>movieId</th>\n",
       "      <th>rating</th>\n",
       "      <th>timestamp</th>\n",
       "    </tr>\n",
       "  </thead>\n",
       "  <tbody>\n",
       "    <tr>\n",
       "      <th>66352</th>\n",
       "      <td>468</td>\n",
       "      <td>3969</td>\n",
       "      <td>1.5</td>\n",
       "      <td>1296198063</td>\n",
       "    </tr>\n",
       "    <tr>\n",
       "      <th>45983</th>\n",
       "      <td>330</td>\n",
       "      <td>1683</td>\n",
       "      <td>5.0</td>\n",
       "      <td>948578017</td>\n",
       "    </tr>\n",
       "    <tr>\n",
       "      <th>71907</th>\n",
       "      <td>505</td>\n",
       "      <td>1282</td>\n",
       "      <td>3.0</td>\n",
       "      <td>1340409804</td>\n",
       "    </tr>\n",
       "    <tr>\n",
       "      <th>28731</th>\n",
       "      <td>212</td>\n",
       "      <td>2671</td>\n",
       "      <td>3.0</td>\n",
       "      <td>1218401936</td>\n",
       "    </tr>\n",
       "    <tr>\n",
       "      <th>99879</th>\n",
       "      <td>670</td>\n",
       "      <td>2269</td>\n",
       "      <td>3.0</td>\n",
       "      <td>938782344</td>\n",
       "    </tr>\n",
       "  </tbody>\n",
       "</table>\n",
       "</div>"
      ],
      "text/plain": [
       "       userId  movieId  rating   timestamp\n",
       "66352     468     3969     1.5  1296198063\n",
       "45983     330     1683     5.0   948578017\n",
       "71907     505     1282     3.0  1340409804\n",
       "28731     212     2671     3.0  1218401936\n",
       "99879     670     2269     3.0   938782344"
      ]
     },
     "execution_count": 26,
     "metadata": {},
     "output_type": "execute_result"
    }
   ],
   "source": [
    "data = pd.read_csv('datasets/MovieRating/ratings_small.csv')\n",
    "data.sample(5)"
   ]
  },
  {
   "cell_type": "markdown",
   "id": "f432eb07",
   "metadata": {},
   "source": [
    "## Part-3"
   ]
  },
  {
   "cell_type": "code",
   "execution_count": 27,
   "id": "4582bd20",
   "metadata": {},
   "outputs": [],
   "source": [
    "data = data.drop('timestamp', axis=1)"
   ]
  },
  {
   "cell_type": "code",
   "execution_count": 28,
   "id": "204b3562",
   "metadata": {},
   "outputs": [
    {
     "data": {
      "text/plain": [
       "(100004, 3)"
      ]
     },
     "execution_count": 28,
     "metadata": {},
     "output_type": "execute_result"
    }
   ],
   "source": [
    "data.shape"
   ]
  },
  {
   "cell_type": "code",
   "execution_count": 29,
   "id": "f10d01e7",
   "metadata": {},
   "outputs": [
    {
     "data": {
      "text/html": [
       "<div>\n",
       "<style scoped>\n",
       "    .dataframe tbody tr th:only-of-type {\n",
       "        vertical-align: middle;\n",
       "    }\n",
       "\n",
       "    .dataframe tbody tr th {\n",
       "        vertical-align: top;\n",
       "    }\n",
       "\n",
       "    .dataframe thead th {\n",
       "        text-align: right;\n",
       "    }\n",
       "</style>\n",
       "<table border=\"1\" class=\"dataframe\">\n",
       "  <thead>\n",
       "    <tr style=\"text-align: right;\">\n",
       "      <th></th>\n",
       "      <th>userId</th>\n",
       "      <th>movieId</th>\n",
       "      <th>rating</th>\n",
       "    </tr>\n",
       "  </thead>\n",
       "  <tbody>\n",
       "    <tr>\n",
       "      <th>721</th>\n",
       "      <td>9</td>\n",
       "      <td>1704</td>\n",
       "      <td>4.0</td>\n",
       "    </tr>\n",
       "    <tr>\n",
       "      <th>84501</th>\n",
       "      <td>564</td>\n",
       "      <td>3524</td>\n",
       "      <td>5.0</td>\n",
       "    </tr>\n",
       "    <tr>\n",
       "      <th>39815</th>\n",
       "      <td>292</td>\n",
       "      <td>180</td>\n",
       "      <td>4.5</td>\n",
       "    </tr>\n",
       "    <tr>\n",
       "      <th>89269</th>\n",
       "      <td>595</td>\n",
       "      <td>1947</td>\n",
       "      <td>5.0</td>\n",
       "    </tr>\n",
       "    <tr>\n",
       "      <th>72935</th>\n",
       "      <td>509</td>\n",
       "      <td>3476</td>\n",
       "      <td>4.5</td>\n",
       "    </tr>\n",
       "  </tbody>\n",
       "</table>\n",
       "</div>"
      ],
      "text/plain": [
       "       userId  movieId  rating\n",
       "721         9     1704     4.0\n",
       "84501     564     3524     5.0\n",
       "39815     292      180     4.5\n",
       "89269     595     1947     5.0\n",
       "72935     509     3476     4.5"
      ]
     },
     "execution_count": 29,
     "metadata": {},
     "output_type": "execute_result"
    }
   ],
   "source": [
    "data.sample(5)"
   ]
  },
  {
   "cell_type": "code",
   "execution_count": 30,
   "id": "d53d19f3",
   "metadata": {},
   "outputs": [],
   "source": [
    "reader = Reader(rating_scale=(1, 5))\n",
    "ratings = Dataset.load_from_df(data, reader)"
   ]
  },
  {
   "cell_type": "code",
   "execution_count": 31,
   "id": "74df42dc",
   "metadata": {},
   "outputs": [
    {
     "data": {
      "text/plain": [
       "surprise.dataset.DatasetAutoFolds"
      ]
     },
     "execution_count": 31,
     "metadata": {},
     "output_type": "execute_result"
    }
   ],
   "source": [
    "type(ratings)"
   ]
  },
  {
   "cell_type": "markdown",
   "id": "fb428714",
   "metadata": {},
   "source": [
    "### 3(c) Compute the average MAE and RMSE of the Probabilistic Matrix Factorization (PMF), User based Collaborative Filtering, Item based Collaborative Filtering, under the 5-folds cross-validation (10 points)"
   ]
  },
  {
   "cell_type": "markdown",
   "id": "6ceff997",
   "metadata": {},
   "source": [
    "## Use Probabilistic Matrix Factorization(PMF)"
   ]
  },
  {
   "cell_type": "code",
   "execution_count": 32,
   "id": "2f720848",
   "metadata": {},
   "outputs": [
    {
     "name": "stdout",
     "output_type": "stream",
     "text": [
      "Evaluating RMSE, MAE of algorithm SVD on 5 split(s).\n",
      "\n",
      "                  Fold 1  Fold 2  Fold 3  Fold 4  Fold 5  Mean    Std     \n",
      "RMSE (testset)    0.9037  0.8970  0.8946  0.9037  0.8883  0.8974  0.0058  \n",
      "MAE (testset)     0.6954  0.6905  0.6905  0.6970  0.6846  0.6916  0.0044  \n",
      "Fit time          1.60    1.72    1.25    1.28    1.31    1.43    0.19    \n",
      "Test time         0.15    0.23    0.17    0.17    0.36    0.22    0.08    \n"
     ]
    }
   ],
   "source": [
    "model_pmf = SVD()\n",
    "model_pmf_cv = cross_validate(model_pmf, ratings, measures=['RMSE', 'MAE'], cv = 5, verbose=True)"
   ]
  },
  {
   "cell_type": "code",
   "execution_count": 33,
   "id": "d8da1340",
   "metadata": {},
   "outputs": [
    {
     "name": "stdout",
     "output_type": "stream",
     "text": [
      "Average of RMSE for Probabilistic Matrix Factorization(PMF) =  0.897444510541449\n",
      "Average of MAE for Probabilistic Matrix Factorization(PMF) =  0.6915923336671993\n"
     ]
    }
   ],
   "source": [
    "avg_pmf_rmse = np.average(model_pmf_cv['test_rmse'])\n",
    "avg_pmf_mae = np.average(model_pmf_cv['test_mae'])\n",
    "print('Average of RMSE for Probabilistic Matrix Factorization(PMF) = ', avg_pmf_rmse)\n",
    "print('Average of MAE for Probabilistic Matrix Factorization(PMF) = ', avg_pmf_mae)"
   ]
  },
  {
   "cell_type": "markdown",
   "id": "23eaeed7",
   "metadata": {},
   "source": [
    "## Use User-based collaborative filtering (UCF)"
   ]
  },
  {
   "cell_type": "code",
   "execution_count": 34,
   "id": "e1f6af00",
   "metadata": {},
   "outputs": [
    {
     "name": "stdout",
     "output_type": "stream",
     "text": [
      "Computing the cosine similarity matrix...\n",
      "Done computing similarity matrix.\n",
      "Computing the cosine similarity matrix...\n",
      "Done computing similarity matrix.\n",
      "Computing the cosine similarity matrix...\n",
      "Done computing similarity matrix.\n",
      "Computing the cosine similarity matrix...\n",
      "Done computing similarity matrix.\n",
      "Computing the cosine similarity matrix...\n",
      "Done computing similarity matrix.\n",
      "Evaluating RMSE, MAE of algorithm KNNBasic on 5 split(s).\n",
      "\n",
      "                  Fold 1  Fold 2  Fold 3  Fold 4  Fold 5  Mean    Std     \n",
      "RMSE (testset)    0.9949  0.9879  0.9899  0.9935  0.9925  0.9917  0.0025  \n",
      "MAE (testset)     0.7669  0.7653  0.7649  0.7668  0.7689  0.7665  0.0014  \n",
      "Fit time          0.59    0.58    0.59    0.58    0.61    0.59    0.01    \n",
      "Test time         2.00    2.15    2.22    2.08    2.10    2.11    0.07    \n"
     ]
    }
   ],
   "source": [
    "sim_options = {'name': 'cosine', 'user_based': True}\n",
    "model_ucf = KNNBasic(sim_options=sim_options)\n",
    "model_ucf_cv = cross_validate(model_ucf, ratings, measures=['RMSE', 'MAE'], cv = 5, verbose=True)"
   ]
  },
  {
   "cell_type": "code",
   "execution_count": 35,
   "id": "e3d558a5",
   "metadata": {},
   "outputs": [
    {
     "name": "stdout",
     "output_type": "stream",
     "text": [
      "Average of RMSE for User-based collaborative filtering (UCF) =  0.9917441685782858\n",
      "Average of MAE for User-based collaborative filtering (UCF) =  0.7665391127541868\n"
     ]
    }
   ],
   "source": [
    "avg_ucf_rmse = np.average(model_ucf_cv['test_rmse'])\n",
    "avg_ucf_mae = np.average(model_ucf_cv['test_mae'])\n",
    "print('Average of RMSE for User-based collaborative filtering (UCF) = ', avg_ucf_rmse)\n",
    "print('Average of MAE for User-based collaborative filtering (UCF) = ', avg_ucf_mae)"
   ]
  },
  {
   "cell_type": "markdown",
   "id": "3fa86e3f",
   "metadata": {},
   "source": [
    "## Use Item-based collaborative filtering (ICF)"
   ]
  },
  {
   "cell_type": "code",
   "execution_count": 36,
   "id": "2468d2aa",
   "metadata": {},
   "outputs": [
    {
     "name": "stdout",
     "output_type": "stream",
     "text": [
      "Computing the cosine similarity matrix...\n",
      "Done computing similarity matrix.\n",
      "Computing the cosine similarity matrix...\n",
      "Done computing similarity matrix.\n",
      "Computing the cosine similarity matrix...\n",
      "Done computing similarity matrix.\n",
      "Computing the cosine similarity matrix...\n",
      "Done computing similarity matrix.\n",
      "Computing the cosine similarity matrix...\n",
      "Done computing similarity matrix.\n",
      "Evaluating RMSE, MAE of algorithm KNNBasic on 5 split(s).\n",
      "\n",
      "                  Fold 1  Fold 2  Fold 3  Fold 4  Fold 5  Mean    Std     \n",
      "RMSE (testset)    0.9944  1.0002  0.9926  0.9919  0.9987  0.9956  0.0033  \n",
      "MAE (testset)     0.7727  0.7787  0.7721  0.7753  0.7741  0.7746  0.0024  \n",
      "Fit time          7.21    7.44    7.11    7.38    7.19    7.27    0.13    \n",
      "Test time         8.78    9.21    9.61    9.30    9.61    9.30    0.31    \n"
     ]
    }
   ],
   "source": [
    "sim_options = {'name': 'cosine', 'user_based': False}\n",
    "model_icf = KNNBasic(sim_options=sim_options)\n",
    "model_icf_cv = cross_validate(model_icf, ratings, measures=['RMSE', 'MAE'], cv = 5, verbose=True)"
   ]
  },
  {
   "cell_type": "code",
   "execution_count": 37,
   "id": "5ae01cf6",
   "metadata": {},
   "outputs": [
    {
     "name": "stdout",
     "output_type": "stream",
     "text": [
      "Average of RMSE for Item-based collaborative filtering (ICF) =  0.9955748499299414\n",
      "Average of MAE for Item-based collaborative filtering (ICF) =  0.7745933270796634\n"
     ]
    }
   ],
   "source": [
    "avg_icf_rmse = np.average(model_icf_cv['test_rmse'])\n",
    "avg_icf_mae = np.average(model_icf_cv['test_mae'])\n",
    "print('Average of RMSE for Item-based collaborative filtering (ICF) = ', avg_icf_rmse)\n",
    "print('Average of MAE for Item-based collaborative filtering (ICF) = ', avg_icf_mae)"
   ]
  },
  {
   "cell_type": "markdown",
   "id": "19a6e14b",
   "metadata": {},
   "source": [
    "### 3(d) Compare the average (mean) performances of User-based collaborative filtering, item-based collaborative filtering, PMF with respect to RMSE and MAE. Which ML model is the best in the movie rating data? (10 points\n",
    "\n",
    "|Algo|Mean RMSE|Mean MAE|\n",
    "|----|---------|--------|\n",
    "|Probability Matrix Factorization|0.8972057925341069|0.6911563847088663|\n",
    "|User-based collaborative filtering|0.9939869880953605|0.7678255464559622|\n",
    "|Item-based collaborative filtering|0.9944580995875786|0.7733959256072057|\n",
    "\n",
    "Looking at the table, we see User-based collaborative filtering and Item-based collaborative filtering are pretty similar in performance.\n",
    "\n",
    "But on pure numbers perspective, Item-based collaborative filtering is the better model for movie rating data for both RMSE and MAE"
   ]
  },
  {
   "cell_type": "markdown",
   "id": "cb58f419",
   "metadata": {},
   "source": [
    "## 3(e) Examine how the cosine, MSD (Mean Squared Difference), and Pearson similarities impact the performances of User based Collaborative Filtering and Item based Collaborative Filtering. Plot your results. Is the impact of the three metrics on User based Collaborative Filtering consistent with the impact of the three metrics on Item based Collaborative Filtering? (10 points)"
   ]
  },
  {
   "cell_type": "code",
   "execution_count": 38,
   "id": "38270079",
   "metadata": {},
   "outputs": [],
   "source": [
    "# Item-based collaborative filtering\n",
    "sim_options_cosine = {\n",
    "    \"name\": 'cosine',\n",
    "    'user_based': False\n",
    "}\n",
    "\n",
    "sim_options_msd = {\n",
    "    \"name\": 'msd',\n",
    "    'user_based': False\n",
    "}\n",
    "\n",
    "sim_options_pearson = {\n",
    "    \"name\": 'pearson',\n",
    "    'user_based': False\n",
    "}"
   ]
  },
  {
   "cell_type": "code",
   "execution_count": 39,
   "id": "94ccf56f",
   "metadata": {},
   "outputs": [
    {
     "name": "stdout",
     "output_type": "stream",
     "text": [
      "Computing the cosine similarity matrix...\n",
      "Done computing similarity matrix.\n",
      "Computing the cosine similarity matrix...\n",
      "Done computing similarity matrix.\n",
      "Computing the cosine similarity matrix...\n",
      "Done computing similarity matrix.\n",
      "Computing the cosine similarity matrix...\n",
      "Done computing similarity matrix.\n",
      "Computing the cosine similarity matrix...\n",
      "Done computing similarity matrix.\n",
      "Evaluating RMSE of algorithm KNNBasic on 5 split(s).\n",
      "\n",
      "                  Fold 1  Fold 2  Fold 3  Fold 4  Fold 5  Mean    Std     \n",
      "RMSE (testset)    0.9913  0.9920  0.9992  0.9968  0.9963  0.9951  0.0030  \n",
      "Fit time          7.47    7.11    7.52    7.02    7.47    7.32    0.21    \n",
      "Test time         8.90    9.65    9.49    9.42    9.54    9.40    0.26    \n",
      "Computing the msd similarity matrix...\n",
      "Done computing similarity matrix.\n",
      "Computing the msd similarity matrix...\n",
      "Done computing similarity matrix.\n",
      "Computing the msd similarity matrix...\n",
      "Done computing similarity matrix.\n",
      "Computing the msd similarity matrix...\n",
      "Done computing similarity matrix.\n",
      "Computing the msd similarity matrix...\n",
      "Done computing similarity matrix.\n",
      "Evaluating RMSE of algorithm KNNBasic on 5 split(s).\n",
      "\n",
      "                  Fold 1  Fold 2  Fold 3  Fold 4  Fold 5  Mean    Std     \n",
      "RMSE (testset)    0.9370  0.9306  0.9315  0.9416  0.9344  0.9350  0.0040  \n",
      "Fit time          3.78    4.02    3.89    3.78    4.87    4.07    0.41    \n",
      "Test time         9.41    9.42    9.88    11.43   11.92   10.41   1.06    \n",
      "Computing the pearson similarity matrix...\n",
      "Done computing similarity matrix.\n",
      "Computing the pearson similarity matrix...\n",
      "Done computing similarity matrix.\n",
      "Computing the pearson similarity matrix...\n",
      "Done computing similarity matrix.\n",
      "Computing the pearson similarity matrix...\n",
      "Done computing similarity matrix.\n",
      "Computing the pearson similarity matrix...\n",
      "Done computing similarity matrix.\n",
      "Evaluating RMSE of algorithm KNNBasic on 5 split(s).\n",
      "\n",
      "                  Fold 1  Fold 2  Fold 3  Fold 4  Fold 5  Mean    Std     \n",
      "RMSE (testset)    0.9859  0.9921  0.9924  0.9866  0.9877  0.9890  0.0028  \n",
      "Fit time          12.70   9.51    9.83    9.91    9.52    10.29   1.21    \n",
      "Test time         8.69    10.23   9.95    9.53    9.46    9.57    0.52    \n"
     ]
    }
   ],
   "source": [
    "model_icf_cosine = KNNBasic(sim_options=sim_options_cosine)\n",
    "model_icf_cosine_cv = cross_validate(algo=model_icf_cosine, data=ratings, measures=['RMSE'], cv=5, verbose=True)\n",
    "\n",
    "model_icf_msd = KNNBasic(sim_options=sim_options_msd)\n",
    "model_icf_msd_cv = cross_validate(algo=model_icf_msd, data=ratings, measures=['RMSE'], cv=5, verbose=True)\n",
    "\n",
    "model_icf_pearson = KNNBasic(sim_options=sim_options_pearson)\n",
    "model_icf_pearson_cv = cross_validate(algo=model_icf_pearson, data=ratings, measures=['RMSE'], cv=5, verbose=True)\n",
    "\n",
    "avg_model_icf_cosine_cv = np.average(model_icf_cosine_cv['test_rmse'])\n",
    "avg_model_icf_msd_cv = np.average(model_icf_msd_cv['test_rmse'])\n",
    "avg_model_icf_pearson_cv = np.average(model_icf_pearson_cv['test_rmse'])"
   ]
  },
  {
   "cell_type": "code",
   "execution_count": 40,
   "id": "d8c2caab",
   "metadata": {},
   "outputs": [],
   "source": [
    "# User-based collaborative filtering\n",
    "sim_options_cosine = {\n",
    "    \"name\": 'cosine',\n",
    "    'user_based': True\n",
    "}\n",
    "\n",
    "sim_options_msd = {\n",
    "    \"name\": 'msd',\n",
    "    'user_based': True\n",
    "}\n",
    "\n",
    "sim_options_pearson = {\n",
    "    \"name\": 'pearson',\n",
    "    'user_based': True\n",
    "}"
   ]
  },
  {
   "cell_type": "code",
   "execution_count": 41,
   "id": "d371e742",
   "metadata": {},
   "outputs": [
    {
     "name": "stdout",
     "output_type": "stream",
     "text": [
      "Computing the cosine similarity matrix...\n",
      "Done computing similarity matrix.\n",
      "Computing the cosine similarity matrix...\n",
      "Done computing similarity matrix.\n",
      "Computing the cosine similarity matrix...\n",
      "Done computing similarity matrix.\n",
      "Computing the cosine similarity matrix...\n",
      "Done computing similarity matrix.\n",
      "Computing the cosine similarity matrix...\n",
      "Done computing similarity matrix.\n",
      "Evaluating RMSE of algorithm KNNBasic on 5 split(s).\n",
      "\n",
      "                  Fold 1  Fold 2  Fold 3  Fold 4  Fold 5  Mean    Std     \n",
      "RMSE (testset)    1.0002  1.0012  0.9838  0.9986  0.9895  0.9946  0.0068  \n",
      "Fit time          0.59    0.61    0.67    0.56    0.59    0.61    0.04    \n",
      "Test time         2.07    2.43    2.33    2.03    2.26    2.22    0.15    \n",
      "Computing the msd similarity matrix...\n",
      "Done computing similarity matrix.\n",
      "Computing the msd similarity matrix...\n",
      "Done computing similarity matrix.\n",
      "Computing the msd similarity matrix...\n",
      "Done computing similarity matrix.\n",
      "Computing the msd similarity matrix...\n",
      "Done computing similarity matrix.\n",
      "Computing the msd similarity matrix...\n",
      "Done computing similarity matrix.\n",
      "Evaluating RMSE of algorithm KNNBasic on 5 split(s).\n",
      "\n",
      "                  Fold 1  Fold 2  Fold 3  Fold 4  Fold 5  Mean    Std     \n",
      "RMSE (testset)    0.9691  0.9556  0.9583  0.9787  0.9757  0.9675  0.0092  \n",
      "Fit time          0.23    0.28    0.31    0.38    0.28    0.30    0.05    \n",
      "Test time         1.99    1.98    1.98    2.25    2.16    2.07    0.11    \n",
      "Computing the pearson similarity matrix...\n",
      "Done computing similarity matrix.\n",
      "Computing the pearson similarity matrix...\n",
      "Done computing similarity matrix.\n",
      "Computing the pearson similarity matrix...\n",
      "Done computing similarity matrix.\n",
      "Computing the pearson similarity matrix...\n",
      "Done computing similarity matrix.\n",
      "Computing the pearson similarity matrix...\n",
      "Done computing similarity matrix.\n",
      "Evaluating RMSE of algorithm KNNBasic on 5 split(s).\n",
      "\n",
      "                  Fold 1  Fold 2  Fold 3  Fold 4  Fold 5  Mean    Std     \n",
      "RMSE (testset)    1.0015  0.9970  0.9990  1.0021  0.9945  0.9988  0.0028  \n",
      "Fit time          0.66    0.73    0.67    0.77    0.66    0.70    0.04    \n",
      "Test time         1.98    2.32    2.09    2.01    2.06    2.09    0.12    \n"
     ]
    }
   ],
   "source": [
    "model_ucf_cosine = KNNBasic(sim_options=sim_options_cosine)\n",
    "model_ucf_cosine_cv = cross_validate(algo=model_ucf_cosine, data=ratings, measures=['RMSE'], cv=5, verbose=True)\n",
    "\n",
    "model_ucf_msd = KNNBasic(sim_options=sim_options_msd)\n",
    "model_ucf_msd_cv = cross_validate(algo=model_ucf_msd, data=ratings, measures=['RMSE'], cv=5, verbose=True)\n",
    "\n",
    "model_ucf_pearson = KNNBasic(sim_options=sim_options_pearson)\n",
    "model_ucf_pearson_cv = cross_validate(algo=model_ucf_pearson, data=ratings, measures=['RMSE'], cv=5, verbose=True)\n",
    "\n",
    "avg_model_ucf_cosine_cv = np.average(model_ucf_cosine_cv['test_rmse'])\n",
    "avg_model_ucf_msd_cv = np.average(model_ucf_msd_cv['test_rmse'])\n",
    "avg_model_ucf_pearson_cv = np.average(model_ucf_pearson_cv['test_rmse'])"
   ]
  },
  {
   "cell_type": "code",
   "execution_count": 42,
   "id": "c3184c01",
   "metadata": {
    "scrolled": true
   },
   "outputs": [
    {
     "data": {
      "image/png": "[encoded data removed]",
      "text/plain": [
       "<Figure size 1000x600 with 1 Axes>"
      ]
     },
     "metadata": {},
     "output_type": "display_data"
    }
   ],
   "source": [
    "final_res = {\n",
    "    'RMSE Cosine Similarity - UCF': avg_model_ucf_cosine_cv,\n",
    "    'RMSE Pearson Similarity - UCF': avg_model_ucf_pearson_cv,\n",
    "    'RMSE MSD Similarity - UCF': avg_model_ucf_msd_cv,\n",
    "    'RMSE Cosine Similarity - ICF': avg_model_icf_cosine_cv,\n",
    "    'RMSE Pearson Similarity - ICF': avg_model_icf_pearson_cv,\n",
    "    'RMSE MSD Similarity - ICF': avg_model_icf_msd_cv\n",
    "}\n",
    "\n",
    "fig, ax = plt.subplots(figsize=(10, 6))\n",
    "bars = ax.barh(\n",
    "    list(final_res.keys()), list(final_res.values()),\n",
    "    color='maroon',\n",
    "    label=list(final_res.values())\n",
    ")\n",
    "for bar in bars:\n",
    "    plt.text(bar.get_width(), bar.get_y() + bar.get_height() / 2, f'{bar.get_width():.4f}', \n",
    "             va='center', ha='left', fontsize=8, color='black')\n",
    "\n",
    "ax.set_xlabel('RMSE Values')\n",
    "ax.set_title('RMSE for Different Similarity Metrics and Collaborative Filtering Methods')\n",
    "plt.show()"
   ]
  },
  {
   "cell_type": "markdown",
   "id": "55a9c9b5",
   "metadata": {},
   "source": [
    "Looking at the graph above Item CF (0.9364) achieves **lower RMSE** Accuracy than User CF (0.9690) for **MSD** similarity measure, **lower RMSE** Accuracy(0.9885) than User CF (0.9990) for **Pearson similarity measure** and higher RMSE Accuracy(0.9938) than User CF(0.9931) for **Cosine** similarity measure.\n",
    "\n",
    "While the difference is not significant for Pearson and Cosine, but looking at the pure numbers, the impact of the 3 metrics is not significantly consistent between User-based collaborative filtering and Item-based collaborative filtering."
   ]
  },
  {
   "cell_type": "markdown",
   "id": "ac4fb51d",
   "metadata": {},
   "source": [
    "## 3(f) Examine how the number of neighbors impacts the performances of User based Collaborative Filtering and Item based Collaborative Filtering? Plot your results. "
   ]
  },
  {
   "cell_type": "code",
   "execution_count": 43,
   "id": "afb5402c",
   "metadata": {},
   "outputs": [
    {
     "name": "stdout",
     "output_type": "stream",
     "text": [
      "Computing the cosine similarity matrix...\n",
      "Done computing similarity matrix.\n",
      "Computing the cosine similarity matrix...\n",
      "Done computing similarity matrix.\n",
      "Computing the cosine similarity matrix...\n",
      "Done computing similarity matrix.\n",
      "Computing the cosine similarity matrix...\n",
      "Done computing similarity matrix.\n",
      "Computing the cosine similarity matrix...\n",
      "Done computing similarity matrix.\n",
      "Computing the cosine similarity matrix...\n",
      "Done computing similarity matrix.\n",
      "Computing the cosine similarity matrix...\n",
      "Done computing similarity matrix.\n",
      "Computing the cosine similarity matrix...\n",
      "Done computing similarity matrix.\n",
      "Computing the cosine similarity matrix...\n",
      "Done computing similarity matrix.\n",
      "Computing the cosine similarity matrix...\n",
      "Done computing similarity matrix.\n",
      "Computing the cosine similarity matrix...\n",
      "Done computing similarity matrix.\n",
      "Computing the cosine similarity matrix...\n",
      "Done computing similarity matrix.\n",
      "Computing the cosine similarity matrix...\n",
      "Done computing similarity matrix.\n",
      "Computing the cosine similarity matrix...\n",
      "Done computing similarity matrix.\n",
      "Computing the cosine similarity matrix...\n",
      "Done computing similarity matrix.\n",
      "Computing the cosine similarity matrix...\n",
      "Done computing similarity matrix.\n",
      "Computing the cosine similarity matrix...\n",
      "Done computing similarity matrix.\n",
      "Computing the cosine similarity matrix...\n",
      "Done computing similarity matrix.\n",
      "Computing the cosine similarity matrix...\n",
      "Done computing similarity matrix.\n",
      "Computing the cosine similarity matrix...\n",
      "Done computing similarity matrix.\n",
      "Computing the cosine similarity matrix...\n",
      "Done computing similarity matrix.\n",
      "Computing the cosine similarity matrix...\n",
      "Done computing similarity matrix.\n",
      "Computing the cosine similarity matrix...\n",
      "Done computing similarity matrix.\n",
      "Computing the cosine similarity matrix...\n",
      "Done computing similarity matrix.\n",
      "Computing the cosine similarity matrix...\n",
      "Done computing similarity matrix.\n",
      "Computing the cosine similarity matrix...\n",
      "Done computing similarity matrix.\n",
      "Computing the cosine similarity matrix...\n",
      "Done computing similarity matrix.\n",
      "Computing the cosine similarity matrix...\n",
      "Done computing similarity matrix.\n",
      "Computing the cosine similarity matrix...\n",
      "Done computing similarity matrix.\n",
      "Computing the cosine similarity matrix...\n",
      "Done computing similarity matrix.\n",
      "Computing the cosine similarity matrix...\n",
      "Done computing similarity matrix.\n",
      "Computing the cosine similarity matrix...\n",
      "Done computing similarity matrix.\n",
      "Computing the cosine similarity matrix...\n",
      "Done computing similarity matrix.\n",
      "Computing the cosine similarity matrix...\n",
      "Done computing similarity matrix.\n",
      "Computing the cosine similarity matrix...\n",
      "Done computing similarity matrix.\n",
      "Computing the cosine similarity matrix...\n",
      "Done computing similarity matrix.\n",
      "Computing the cosine similarity matrix...\n",
      "Done computing similarity matrix.\n",
      "Computing the cosine similarity matrix...\n",
      "Done computing similarity matrix.\n",
      "Computing the cosine similarity matrix...\n",
      "Done computing similarity matrix.\n",
      "Computing the cosine similarity matrix...\n",
      "Done computing similarity matrix.\n",
      "Computing the cosine similarity matrix...\n",
      "Done computing similarity matrix.\n",
      "Computing the cosine similarity matrix...\n",
      "Done computing similarity matrix.\n",
      "Computing the cosine similarity matrix...\n",
      "Done computing similarity matrix.\n",
      "Computing the cosine similarity matrix...\n",
      "Done computing similarity matrix.\n",
      "Computing the cosine similarity matrix...\n",
      "Done computing similarity matrix.\n",
      "Computing the cosine similarity matrix...\n",
      "Done computing similarity matrix.\n",
      "Computing the cosine similarity matrix...\n",
      "Done computing similarity matrix.\n",
      "Computing the cosine similarity matrix...\n",
      "Done computing similarity matrix.\n",
      "Computing the cosine similarity matrix...\n",
      "Done computing similarity matrix.\n",
      "Computing the cosine similarity matrix...\n",
      "Done computing similarity matrix.\n",
      "Computing the cosine similarity matrix...\n",
      "Done computing similarity matrix.\n",
      "Computing the cosine similarity matrix...\n",
      "Done computing similarity matrix.\n",
      "Computing the cosine similarity matrix...\n",
      "Done computing similarity matrix.\n",
      "Computing the cosine similarity matrix...\n",
      "Done computing similarity matrix.\n",
      "Computing the cosine similarity matrix...\n",
      "Done computing similarity matrix.\n",
      "Computing the cosine similarity matrix...\n",
      "Done computing similarity matrix.\n",
      "Computing the cosine similarity matrix...\n",
      "Done computing similarity matrix.\n",
      "Computing the cosine similarity matrix...\n",
      "Done computing similarity matrix.\n",
      "Computing the cosine similarity matrix...\n",
      "Done computing similarity matrix.\n",
      "Computing the cosine similarity matrix...\n",
      "Done computing similarity matrix.\n",
      "Computing the cosine similarity matrix...\n",
      "Done computing similarity matrix.\n",
      "Computing the cosine similarity matrix...\n",
      "Done computing similarity matrix.\n",
      "Computing the cosine similarity matrix...\n",
      "Done computing similarity matrix.\n",
      "Computing the cosine similarity matrix...\n",
      "Done computing similarity matrix.\n",
      "Computing the cosine similarity matrix...\n",
      "Done computing similarity matrix.\n",
      "Computing the cosine similarity matrix...\n",
      "Done computing similarity matrix.\n",
      "Computing the cosine similarity matrix...\n",
      "Done computing similarity matrix.\n",
      "Computing the cosine similarity matrix...\n",
      "Done computing similarity matrix.\n",
      "Computing the cosine similarity matrix...\n",
      "Done computing similarity matrix.\n",
      "Computing the cosine similarity matrix...\n",
      "Done computing similarity matrix.\n",
      "Computing the cosine similarity matrix...\n",
      "Done computing similarity matrix.\n",
      "Computing the cosine similarity matrix...\n",
      "Done computing similarity matrix.\n",
      "Computing the cosine similarity matrix...\n",
      "Done computing similarity matrix.\n",
      "Computing the cosine similarity matrix...\n",
      "Done computing similarity matrix.\n",
      "Computing the cosine similarity matrix...\n",
      "Done computing similarity matrix.\n",
      "Computing the cosine similarity matrix...\n",
      "Done computing similarity matrix.\n",
      "Computing the cosine similarity matrix...\n",
      "Done computing similarity matrix.\n",
      "Computing the cosine similarity matrix...\n",
      "Done computing similarity matrix.\n",
      "Computing the cosine similarity matrix...\n",
      "Done computing similarity matrix.\n",
      "Computing the cosine similarity matrix...\n",
      "Done computing similarity matrix.\n"
     ]
    }
   ],
   "source": [
    "k_values = np.arange(5, 41, 5)\n",
    "\n",
    "def evaluate_rmse_for_different_k(model: KNNBasic, data: any):\n",
    "    cv_results = cross_validate(model, data, measures=['RMSE'], cv=5)\n",
    "    return np.average(cv_results['test_rmse'])\n",
    "    \n",
    "sim_options_icf = {\n",
    "    \"name\": 'cosine',\n",
    "    \"user_based\": False\n",
    "}\n",
    "\n",
    "sim_options_ucf = {\n",
    "    \"name\": 'cosine',\n",
    "    'user_based': True\n",
    "}\n",
    "\n",
    "results = {}\n",
    "for k_val in k_values:\n",
    "    model_icf = KNNBasic(k=k_val, sim_options=sim_options_icf)\n",
    "    model_ucf = KNNBasic(k=k_val, sim_options=sim_options_ucf)\n",
    "    \n",
    "    acc_icf_rmse = evaluate_rmse_for_different_k(model=model_icf, data=ratings)\n",
    "    acc_ucf_rmse = evaluate_rmse_for_different_k(model=model_ucf, data=ratings)\n",
    "    results[k_val] = (acc_icf_rmse, acc_ucf_rmse)"
   ]
  },
  {
   "cell_type": "code",
   "execution_count": 44,
   "id": "76dbc925",
   "metadata": {},
   "outputs": [
    {
     "data": {
      "image/png": "[encoded data removed]",
      "text/plain": [
       "<Figure size 640x480 with 1 Axes>"
      ]
     },
     "metadata": {},
     "output_type": "display_data"
    },
    {
     "name": "stdout",
     "output_type": "stream",
     "text": [
      "{5: (1.1011909216294797, 1.0386278620908758), 10: (1.0523478166490567, 1.0102209499385677), 15: (1.0318948349971129, 1.0002344247553245), 20: (1.0156751909869068, 0.9961994668843801), 25: (1.0103107387619994, 0.9944437854201518), 30: (1.0030878014193434, 0.9943369085638949), 35: (0.9983934554992556, 0.9946582699904493), 40: (0.9953539680899809, 0.9937158034658575)}\n"
     ]
    }
   ],
   "source": [
    "fig, ax = plt.subplots()\n",
    "X = list(results.keys())\n",
    "X_axis = np.arange(len(X))\n",
    "bar1 = ax.bar(X_axis - 0.2, [x[0] for x in results.values()], width = 0.4, label='Item-based CF')\n",
    "bar2 = ax.bar(X_axis + 0.2, [x[1] for x in results.values()], width = 0.4, label='User-based CF')\n",
    "\n",
    "ax.set_xticks(X_axis, X)\n",
    "ax.legend()\n",
    "plt.show()\n",
    "print(results)"
   ]
  },
  {
   "cell_type": "markdown",
   "id": "22948030",
   "metadata": {},
   "source": [
    "Examining the graph, we observe a consistent accuracy gap between Item-based Collaborative Filtering (ICF) and User-based Collaborative Filtering (UCF), with ICF consistently outperforming UCF. The number of neighbors does not appear to significantly impact the consistency of performance. However, it is notable that the RMSE accuracy keeps reducing after K value is computed."
   ]
  },
  {
   "cell_type": "markdown",
   "id": "d8281b31",
   "metadata": {},
   "source": [
    "## 3(g) Identify the best number of neighbor (denoted by K) for User/Item based collaborative filtering in terms of RMSE. Is the best K of User based collaborative filtering the same with the best K of Item based collaborative filtering? (10 points)\n",
    "\n",
    "K=40 has the lowest RMSE so is the best number of neighbors for Item based collaborative filtering. K = 30 is the lowest RMSE and best number of neighbors for User-based collaborative filtering.\n",
    "\n",
    "No, the best K of User based collaborative filtering is not the same with the best K of Item based collaborative filtering."
   ]
  },
  {
   "cell_type": "code",
   "execution_count": null,
   "id": "f3cdb2b8",
   "metadata": {},
   "outputs": [],
   "source": []
  }
 ],
 "metadata": {
  "kernelspec": {
   "display_name": "Python 3 (ipykernel)",
   "language": "python",
   "name": "python3"
  },
  "language_info": {
   "codemirror_mode": {
    "name": "ipython",
    "version": 3
   },
   "file_extension": ".py",
   "mimetype": "text/x-python",
   "name": "python",
   "nbconvert_exporter": "python",
   "pygments_lexer": "ipython3",
   "version": "3.9.13"
  }
 },
 "nbformat": 4,
 "nbformat_minor": 5
}
